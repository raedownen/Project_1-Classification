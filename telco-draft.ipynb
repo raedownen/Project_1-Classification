{
 "cells": [
  {
   "cell_type": "markdown",
   "id": "premier-milan",
   "metadata": {},
   "source": [
    "# Telco Data: Customer Churn Supposition\n"
   ]
  },
  {
   "cell_type": "markdown",
   "id": "going-assembly",
   "metadata": {},
   "source": [
    "## Imports"
   ]
  },
  {
   "cell_type": "raw",
   "id": "c9d81dff",
   "metadata": {},
   "source": [
    "More than a quarter of the Telco customers churn.  \n",
    "I ask the following questions and will use tests used in data science scenarios to determine if one of the four factors contributes more than the others to the customer churn percentage.\n",
    "1. Does having tech support affect customer churn rates?\n",
    "2. Does payment type affect customers churn rates?\n",
    "3. Does being a senior citizen affect customers churn rates?\n",
    "4. Does contract type affect customers churn rates?\n",
    "5. Does paperless billing affect customer churn rates?"
   ]
  },
  {
   "cell_type": "code",
   "execution_count": 1,
   "id": "0f1c80c3",
   "metadata": {},
   "outputs": [],
   "source": [
    "import pandas as pd\n",
    "import numpy as np\n",
    "import os\n",
    "import pandas as pd\n",
    "from sklearn.metrics import confusion_matrix\n",
    "# acquire\n",
    "import env\n",
    "import seaborn as sns\n",
    "\n",
    "# turn off pink warning boxes\n",
    "import warnings\n",
    "warnings.filterwarnings(\"ignore\")\n",
    "\n",
    "import matplotlib.pyplot as plt\n",
    "\n",
    "import telco_wrangle as tw"
   ]
  },
  {
   "cell_type": "code",
   "execution_count": 2,
   "id": "07964771",
   "metadata": {},
   "outputs": [],
   "source": [
    "# to see all columns in wide datasets\n",
    "pd.set_option('display.max_columns', None)"
   ]
  },
  {
   "cell_type": "markdown",
   "id": "criminal-glory",
   "metadata": {},
   "source": [
    "## Acquire\n",
    "\n",
    "* I retrieved my data from the Codeup databases using my acquire.py file\n",
    "* I retrieved my data on Tuesday, October 25, 2022\n",
    "* What is the size of your data? There are 24 columns and 7043\n",
    "* What does each observation represent? Each observation represents the customer's account information \n",
    "* What does each column represent? Each column represent a piece of information about the customer's account.  Initial columns represent "
   ]
  },
  {
   "cell_type": "code",
   "execution_count": 3,
   "id": "8ba64e83",
   "metadata": {},
   "outputs": [
    {
     "data": {
      "text/html": [
       "<div>\n",
       "<style scoped>\n",
       "    .dataframe tbody tr th:only-of-type {\n",
       "        vertical-align: middle;\n",
       "    }\n",
       "\n",
       "    .dataframe tbody tr th {\n",
       "        vertical-align: top;\n",
       "    }\n",
       "\n",
       "    .dataframe thead th {\n",
       "        text-align: right;\n",
       "    }\n",
       "</style>\n",
       "<table border=\"1\" class=\"dataframe\">\n",
       "  <thead>\n",
       "    <tr style=\"text-align: right;\">\n",
       "      <th></th>\n",
       "      <th>payment_type_id</th>\n",
       "      <th>internet_service_type_id</th>\n",
       "      <th>contract_type_id</th>\n",
       "      <th>customer_id</th>\n",
       "      <th>gender</th>\n",
       "      <th>senior_citizen</th>\n",
       "      <th>partner</th>\n",
       "      <th>dependents</th>\n",
       "      <th>tenure</th>\n",
       "      <th>phone_service</th>\n",
       "      <th>multiple_lines</th>\n",
       "      <th>online_security</th>\n",
       "      <th>online_backup</th>\n",
       "      <th>device_protection</th>\n",
       "      <th>tech_support</th>\n",
       "      <th>streaming_tv</th>\n",
       "      <th>streaming_movies</th>\n",
       "      <th>paperless_billing</th>\n",
       "      <th>monthly_charges</th>\n",
       "      <th>total_charges</th>\n",
       "      <th>churn</th>\n",
       "      <th>contract_type</th>\n",
       "      <th>internet_service_type</th>\n",
       "      <th>payment_type</th>\n",
       "    </tr>\n",
       "  </thead>\n",
       "  <tbody>\n",
       "    <tr>\n",
       "      <th>0</th>\n",
       "      <td>2</td>\n",
       "      <td>1</td>\n",
       "      <td>2</td>\n",
       "      <td>0002-ORFBO</td>\n",
       "      <td>Female</td>\n",
       "      <td>0</td>\n",
       "      <td>Yes</td>\n",
       "      <td>Yes</td>\n",
       "      <td>9</td>\n",
       "      <td>Yes</td>\n",
       "      <td>No</td>\n",
       "      <td>No</td>\n",
       "      <td>Yes</td>\n",
       "      <td>No</td>\n",
       "      <td>Yes</td>\n",
       "      <td>Yes</td>\n",
       "      <td>No</td>\n",
       "      <td>Yes</td>\n",
       "      <td>65.6</td>\n",
       "      <td>593.3</td>\n",
       "      <td>No</td>\n",
       "      <td>One year</td>\n",
       "      <td>DSL</td>\n",
       "      <td>Mailed check</td>\n",
       "    </tr>\n",
       "    <tr>\n",
       "      <th>1</th>\n",
       "      <td>2</td>\n",
       "      <td>1</td>\n",
       "      <td>1</td>\n",
       "      <td>0003-MKNFE</td>\n",
       "      <td>Male</td>\n",
       "      <td>0</td>\n",
       "      <td>No</td>\n",
       "      <td>No</td>\n",
       "      <td>9</td>\n",
       "      <td>Yes</td>\n",
       "      <td>Yes</td>\n",
       "      <td>No</td>\n",
       "      <td>No</td>\n",
       "      <td>No</td>\n",
       "      <td>No</td>\n",
       "      <td>No</td>\n",
       "      <td>Yes</td>\n",
       "      <td>No</td>\n",
       "      <td>59.9</td>\n",
       "      <td>542.4</td>\n",
       "      <td>No</td>\n",
       "      <td>Month-to-month</td>\n",
       "      <td>DSL</td>\n",
       "      <td>Mailed check</td>\n",
       "    </tr>\n",
       "    <tr>\n",
       "      <th>2</th>\n",
       "      <td>1</td>\n",
       "      <td>2</td>\n",
       "      <td>1</td>\n",
       "      <td>0004-TLHLJ</td>\n",
       "      <td>Male</td>\n",
       "      <td>0</td>\n",
       "      <td>No</td>\n",
       "      <td>No</td>\n",
       "      <td>4</td>\n",
       "      <td>Yes</td>\n",
       "      <td>No</td>\n",
       "      <td>No</td>\n",
       "      <td>No</td>\n",
       "      <td>Yes</td>\n",
       "      <td>No</td>\n",
       "      <td>No</td>\n",
       "      <td>No</td>\n",
       "      <td>Yes</td>\n",
       "      <td>73.9</td>\n",
       "      <td>280.85</td>\n",
       "      <td>Yes</td>\n",
       "      <td>Month-to-month</td>\n",
       "      <td>Fiber optic</td>\n",
       "      <td>Electronic check</td>\n",
       "    </tr>\n",
       "    <tr>\n",
       "      <th>3</th>\n",
       "      <td>1</td>\n",
       "      <td>2</td>\n",
       "      <td>1</td>\n",
       "      <td>0011-IGKFF</td>\n",
       "      <td>Male</td>\n",
       "      <td>1</td>\n",
       "      <td>Yes</td>\n",
       "      <td>No</td>\n",
       "      <td>13</td>\n",
       "      <td>Yes</td>\n",
       "      <td>No</td>\n",
       "      <td>No</td>\n",
       "      <td>Yes</td>\n",
       "      <td>Yes</td>\n",
       "      <td>No</td>\n",
       "      <td>Yes</td>\n",
       "      <td>Yes</td>\n",
       "      <td>Yes</td>\n",
       "      <td>98.0</td>\n",
       "      <td>1237.85</td>\n",
       "      <td>Yes</td>\n",
       "      <td>Month-to-month</td>\n",
       "      <td>Fiber optic</td>\n",
       "      <td>Electronic check</td>\n",
       "    </tr>\n",
       "    <tr>\n",
       "      <th>4</th>\n",
       "      <td>2</td>\n",
       "      <td>2</td>\n",
       "      <td>1</td>\n",
       "      <td>0013-EXCHZ</td>\n",
       "      <td>Female</td>\n",
       "      <td>1</td>\n",
       "      <td>Yes</td>\n",
       "      <td>No</td>\n",
       "      <td>3</td>\n",
       "      <td>Yes</td>\n",
       "      <td>No</td>\n",
       "      <td>No</td>\n",
       "      <td>No</td>\n",
       "      <td>No</td>\n",
       "      <td>Yes</td>\n",
       "      <td>Yes</td>\n",
       "      <td>No</td>\n",
       "      <td>Yes</td>\n",
       "      <td>83.9</td>\n",
       "      <td>267.4</td>\n",
       "      <td>Yes</td>\n",
       "      <td>Month-to-month</td>\n",
       "      <td>Fiber optic</td>\n",
       "      <td>Mailed check</td>\n",
       "    </tr>\n",
       "  </tbody>\n",
       "</table>\n",
       "</div>"
      ],
      "text/plain": [
       "   payment_type_id  internet_service_type_id  contract_type_id customer_id  \\\n",
       "0                2                         1                 2  0002-ORFBO   \n",
       "1                2                         1                 1  0003-MKNFE   \n",
       "2                1                         2                 1  0004-TLHLJ   \n",
       "3                1                         2                 1  0011-IGKFF   \n",
       "4                2                         2                 1  0013-EXCHZ   \n",
       "\n",
       "   gender  senior_citizen partner dependents  tenure phone_service  \\\n",
       "0  Female               0     Yes        Yes       9           Yes   \n",
       "1    Male               0      No         No       9           Yes   \n",
       "2    Male               0      No         No       4           Yes   \n",
       "3    Male               1     Yes         No      13           Yes   \n",
       "4  Female               1     Yes         No       3           Yes   \n",
       "\n",
       "  multiple_lines online_security online_backup device_protection tech_support  \\\n",
       "0             No              No           Yes                No          Yes   \n",
       "1            Yes              No            No                No           No   \n",
       "2             No              No            No               Yes           No   \n",
       "3             No              No           Yes               Yes           No   \n",
       "4             No              No            No                No          Yes   \n",
       "\n",
       "  streaming_tv streaming_movies paperless_billing  monthly_charges  \\\n",
       "0          Yes               No               Yes             65.6   \n",
       "1           No              Yes                No             59.9   \n",
       "2           No               No               Yes             73.9   \n",
       "3          Yes              Yes               Yes             98.0   \n",
       "4          Yes               No               Yes             83.9   \n",
       "\n",
       "  total_charges churn   contract_type internet_service_type      payment_type  \n",
       "0         593.3    No        One year                   DSL      Mailed check  \n",
       "1         542.4    No  Month-to-month                   DSL      Mailed check  \n",
       "2        280.85   Yes  Month-to-month           Fiber optic  Electronic check  \n",
       "3       1237.85   Yes  Month-to-month           Fiber optic  Electronic check  \n",
       "4         267.4   Yes  Month-to-month           Fiber optic      Mailed check  "
      ]
     },
     "execution_count": 3,
     "metadata": {},
     "output_type": "execute_result"
    }
   ],
   "source": [
    "#retrieve data from Codeup sequel database using telco_wrangle \n",
    "df = tw.get_telco_data()\n",
    "df.head()"
   ]
  },
  {
   "cell_type": "code",
   "execution_count": 4,
   "id": "222a4a1f",
   "metadata": {},
   "outputs": [
    {
     "name": "stdout",
     "output_type": "stream",
     "text": [
      "<class 'pandas.core.frame.DataFrame'>\n",
      "Int64Index: 7043 entries, 0 to 7042\n",
      "Data columns (total 24 columns):\n",
      " #   Column                    Non-Null Count  Dtype  \n",
      "---  ------                    --------------  -----  \n",
      " 0   payment_type_id           7043 non-null   int64  \n",
      " 1   internet_service_type_id  7043 non-null   int64  \n",
      " 2   contract_type_id          7043 non-null   int64  \n",
      " 3   customer_id               7043 non-null   object \n",
      " 4   gender                    7043 non-null   object \n",
      " 5   senior_citizen            7043 non-null   int64  \n",
      " 6   partner                   7043 non-null   object \n",
      " 7   dependents                7043 non-null   object \n",
      " 8   tenure                    7043 non-null   int64  \n",
      " 9   phone_service             7043 non-null   object \n",
      " 10  multiple_lines            7043 non-null   object \n",
      " 11  online_security           7043 non-null   object \n",
      " 12  online_backup             7043 non-null   object \n",
      " 13  device_protection         7043 non-null   object \n",
      " 14  tech_support              7043 non-null   object \n",
      " 15  streaming_tv              7043 non-null   object \n",
      " 16  streaming_movies          7043 non-null   object \n",
      " 17  paperless_billing         7043 non-null   object \n",
      " 18  monthly_charges           7043 non-null   float64\n",
      " 19  total_charges             7043 non-null   object \n",
      " 20  churn                     7043 non-null   object \n",
      " 21  contract_type             7043 non-null   object \n",
      " 22  internet_service_type     7043 non-null   object \n",
      " 23  payment_type              7043 non-null   object \n",
      "dtypes: float64(1), int64(5), object(18)\n",
      "memory usage: 1.3+ MB\n"
     ]
    }
   ],
   "source": [
    "# use info to see column names, check for nulls, and sdatatype\n",
    "df.info()"
   ]
  },
  {
   "cell_type": "code",
   "execution_count": 5,
   "id": "53c283e2",
   "metadata": {},
   "outputs": [
    {
     "data": {
      "text/html": [
       "<div>\n",
       "<style scoped>\n",
       "    .dataframe tbody tr th:only-of-type {\n",
       "        vertical-align: middle;\n",
       "    }\n",
       "\n",
       "    .dataframe tbody tr th {\n",
       "        vertical-align: top;\n",
       "    }\n",
       "\n",
       "    .dataframe thead th {\n",
       "        text-align: right;\n",
       "    }\n",
       "</style>\n",
       "<table border=\"1\" class=\"dataframe\">\n",
       "  <thead>\n",
       "    <tr style=\"text-align: right;\">\n",
       "      <th></th>\n",
       "      <th>payment_type_id</th>\n",
       "      <th>internet_service_type_id</th>\n",
       "      <th>contract_type_id</th>\n",
       "      <th>senior_citizen</th>\n",
       "      <th>tenure</th>\n",
       "      <th>monthly_charges</th>\n",
       "    </tr>\n",
       "  </thead>\n",
       "  <tbody>\n",
       "    <tr>\n",
       "      <th>count</th>\n",
       "      <td>7043.000000</td>\n",
       "      <td>7043.000000</td>\n",
       "      <td>7043.000000</td>\n",
       "      <td>7043.000000</td>\n",
       "      <td>7043.000000</td>\n",
       "      <td>7043.000000</td>\n",
       "    </tr>\n",
       "    <tr>\n",
       "      <th>mean</th>\n",
       "      <td>2.315633</td>\n",
       "      <td>1.872923</td>\n",
       "      <td>1.690473</td>\n",
       "      <td>0.162147</td>\n",
       "      <td>32.371149</td>\n",
       "      <td>64.761692</td>\n",
       "    </tr>\n",
       "    <tr>\n",
       "      <th>std</th>\n",
       "      <td>1.148907</td>\n",
       "      <td>0.737796</td>\n",
       "      <td>0.833755</td>\n",
       "      <td>0.368612</td>\n",
       "      <td>24.559481</td>\n",
       "      <td>30.090047</td>\n",
       "    </tr>\n",
       "    <tr>\n",
       "      <th>min</th>\n",
       "      <td>1.000000</td>\n",
       "      <td>1.000000</td>\n",
       "      <td>1.000000</td>\n",
       "      <td>0.000000</td>\n",
       "      <td>0.000000</td>\n",
       "      <td>18.250000</td>\n",
       "    </tr>\n",
       "    <tr>\n",
       "      <th>25%</th>\n",
       "      <td>1.000000</td>\n",
       "      <td>1.000000</td>\n",
       "      <td>1.000000</td>\n",
       "      <td>0.000000</td>\n",
       "      <td>9.000000</td>\n",
       "      <td>35.500000</td>\n",
       "    </tr>\n",
       "    <tr>\n",
       "      <th>50%</th>\n",
       "      <td>2.000000</td>\n",
       "      <td>2.000000</td>\n",
       "      <td>1.000000</td>\n",
       "      <td>0.000000</td>\n",
       "      <td>29.000000</td>\n",
       "      <td>70.350000</td>\n",
       "    </tr>\n",
       "    <tr>\n",
       "      <th>75%</th>\n",
       "      <td>3.000000</td>\n",
       "      <td>2.000000</td>\n",
       "      <td>2.000000</td>\n",
       "      <td>0.000000</td>\n",
       "      <td>55.000000</td>\n",
       "      <td>89.850000</td>\n",
       "    </tr>\n",
       "    <tr>\n",
       "      <th>max</th>\n",
       "      <td>4.000000</td>\n",
       "      <td>3.000000</td>\n",
       "      <td>3.000000</td>\n",
       "      <td>1.000000</td>\n",
       "      <td>72.000000</td>\n",
       "      <td>118.750000</td>\n",
       "    </tr>\n",
       "  </tbody>\n",
       "</table>\n",
       "</div>"
      ],
      "text/plain": [
       "       payment_type_id  internet_service_type_id  contract_type_id  \\\n",
       "count      7043.000000               7043.000000       7043.000000   \n",
       "mean          2.315633                  1.872923          1.690473   \n",
       "std           1.148907                  0.737796          0.833755   \n",
       "min           1.000000                  1.000000          1.000000   \n",
       "25%           1.000000                  1.000000          1.000000   \n",
       "50%           2.000000                  2.000000          1.000000   \n",
       "75%           3.000000                  2.000000          2.000000   \n",
       "max           4.000000                  3.000000          3.000000   \n",
       "\n",
       "       senior_citizen       tenure  monthly_charges  \n",
       "count     7043.000000  7043.000000      7043.000000  \n",
       "mean         0.162147    32.371149        64.761692  \n",
       "std          0.368612    24.559481        30.090047  \n",
       "min          0.000000     0.000000        18.250000  \n",
       "25%          0.000000     9.000000        35.500000  \n",
       "50%          0.000000    29.000000        70.350000  \n",
       "75%          0.000000    55.000000        89.850000  \n",
       "max          1.000000    72.000000       118.750000  "
      ]
     },
     "execution_count": 5,
     "metadata": {},
     "output_type": "execute_result"
    }
   ],
   "source": [
    "# describe to see spread of data\n",
    "df.describe()"
   ]
  },
  {
   "cell_type": "code",
   "execution_count": 6,
   "id": "2012f94b",
   "metadata": {},
   "outputs": [
    {
     "data": {
      "text/plain": [
       "(7043, 24)"
      ]
     },
     "execution_count": 6,
     "metadata": {},
     "output_type": "execute_result"
    }
   ],
   "source": [
    "# check rows and columns\n",
    "# there are 7043 rows and 24 columns\n",
    "df.shape"
   ]
  },
  {
   "cell_type": "markdown",
   "id": "impossible-bible",
   "metadata": {},
   "source": [
    "## Prepare\n",
    "\n",
    "* List steps taken to clean your data here\n",
    "* In particular call out how you handle null values and outliers in detail\n",
    "* You must do this even if you do not do anything or do not encounter any\n",
    "* Any time there is potential to make changes to the data you must be upfront about the changes you make or do not make"
   ]
  },
  {
   "cell_type": "code",
   "execution_count": 7,
   "id": "8a0dedd8",
   "metadata": {},
   "outputs": [
    {
     "data": {
      "text/plain": [
       "payment_type_id             0\n",
       "internet_service_type_id    0\n",
       "contract_type_id            0\n",
       "customer_id                 0\n",
       "gender                      0\n",
       "senior_citizen              0\n",
       "partner                     0\n",
       "dependents                  0\n",
       "tenure                      0\n",
       "phone_service               0\n",
       "multiple_lines              0\n",
       "online_security             0\n",
       "online_backup               0\n",
       "device_protection           0\n",
       "tech_support                0\n",
       "streaming_tv                0\n",
       "streaming_movies            0\n",
       "paperless_billing           0\n",
       "monthly_charges             0\n",
       "total_charges               0\n",
       "churn                       0\n",
       "contract_type               0\n",
       "internet_service_type       0\n",
       "payment_type                0\n",
       "dtype: int64"
      ]
     },
     "execution_count": 7,
     "metadata": {},
     "output_type": "execute_result"
    }
   ],
   "source": [
    "#check for missing values.\n",
    "df.isnull().sum()"
   ]
  },
  {
   "cell_type": "code",
   "execution_count": 8,
   "id": "d7fba43d",
   "metadata": {},
   "outputs": [
    {
     "data": {
      "text/plain": [
       "payment_type_id               int64\n",
       "internet_service_type_id      int64\n",
       "contract_type_id              int64\n",
       "customer_id                  object\n",
       "gender                       object\n",
       "senior_citizen                int64\n",
       "partner                      object\n",
       "dependents                   object\n",
       "tenure                        int64\n",
       "phone_service                object\n",
       "multiple_lines               object\n",
       "online_security              object\n",
       "online_backup                object\n",
       "device_protection            object\n",
       "tech_support                 object\n",
       "streaming_tv                 object\n",
       "streaming_movies             object\n",
       "paperless_billing            object\n",
       "monthly_charges             float64\n",
       "total_charges                object\n",
       "churn                        object\n",
       "contract_type                object\n",
       "internet_service_type        object\n",
       "payment_type                 object\n",
       "dtype: object"
      ]
     },
     "execution_count": 8,
     "metadata": {},
     "output_type": "execute_result"
    }
   ],
   "source": [
    "# check the data types\n",
    "df.dtypes"
   ]
  },
  {
   "cell_type": "raw",
   "id": "96644482",
   "metadata": {},
   "source": [
    "In the prep file the object data types were converted, as well as, the target variable, churn,\n",
    "was converted from a string to an integer -- 1 or 0."
   ]
  },
  {
   "cell_type": "code",
   "execution_count": 9,
   "id": "bdc46c53",
   "metadata": {},
   "outputs": [
    {
     "data": {
      "text/plain": [
       "No     5174\n",
       "Yes    1869\n",
       "Name: churn, dtype: int64"
      ]
     },
     "execution_count": 9,
     "metadata": {},
     "output_type": "execute_result"
    }
   ],
   "source": [
    "# see churn rates\n",
    "df.churn.value_counts() "
   ]
  },
  {
   "cell_type": "code",
   "execution_count": 10,
   "id": "2803b0c1",
   "metadata": {},
   "outputs": [
    {
     "data": {
      "text/plain": [
       "26.536987079369588"
      ]
     },
     "execution_count": 10,
     "metadata": {},
     "output_type": "execute_result"
    }
   ],
   "source": [
    "# calculate baseline\n",
    "churn_baseline = 1869/(5174 + 1869) * 100\n",
    "churn_baseline"
   ]
  },
  {
   "cell_type": "raw",
   "id": "0f1a353d",
   "metadata": {},
   "source": [
    "Data wrangling was completed through the use of telco_wrangle file as was the split our training data into train and validate.\n"
   ]
  },
  {
   "cell_type": "code",
   "execution_count": 11,
   "id": "d1160775",
   "metadata": {},
   "outputs": [],
   "source": [
    "# split the data\n",
    "train, validate, test = tw.prep_telco_data(df)"
   ]
  },
  {
   "cell_type": "code",
   "execution_count": null,
   "id": "0de7b06c",
   "metadata": {},
   "outputs": [],
   "source": [
    "# split into train, validate, test\n",
    "train, validate, test = train_validate_test_split(df, target='species', seed=123)\n",
    "\n",
    "# create X & y version of train, where y is a series with just the target variable and X are all the features. \n",
    "\n",
    "X_train = train.drop(columns=['churn_encoded'])\n",
    "y_train = train.churn_encoded\n",
    "\n",
    "X_validate = validate.drop(columns=['churn_encoded'])\n",
    "y_validate = validate.churn_encoded\n",
    "\n",
    "X_test = test.drop(columns=['churn_encoded'])\n",
    "y_test = test.churn_encoded\n"
   ]
  },
  {
   "cell_type": "code",
   "execution_count": 12,
   "id": "198705b9",
   "metadata": {},
   "outputs": [
    {
     "data": {
      "text/html": [
       "<div>\n",
       "<style scoped>\n",
       "    .dataframe tbody tr th:only-of-type {\n",
       "        vertical-align: middle;\n",
       "    }\n",
       "\n",
       "    .dataframe tbody tr th {\n",
       "        vertical-align: top;\n",
       "    }\n",
       "\n",
       "    .dataframe thead th {\n",
       "        text-align: right;\n",
       "    }\n",
       "</style>\n",
       "<table border=\"1\" class=\"dataframe\">\n",
       "  <thead>\n",
       "    <tr style=\"text-align: right;\">\n",
       "      <th></th>\n",
       "      <th>payment_type_id</th>\n",
       "      <th>gender</th>\n",
       "      <th>senior_citizen</th>\n",
       "      <th>partner</th>\n",
       "      <th>dependents</th>\n",
       "      <th>tenure</th>\n",
       "      <th>phone_service</th>\n",
       "      <th>multiple_lines</th>\n",
       "      <th>online_security</th>\n",
       "      <th>online_backup</th>\n",
       "      <th>device_protection</th>\n",
       "      <th>tech_support</th>\n",
       "      <th>streaming_tv</th>\n",
       "      <th>streaming_movies</th>\n",
       "      <th>paperless_billing</th>\n",
       "      <th>monthly_charges</th>\n",
       "      <th>total_charges</th>\n",
       "      <th>churn</th>\n",
       "      <th>contract_type</th>\n",
       "      <th>internet_service_type</th>\n",
       "      <th>payment_type</th>\n",
       "      <th>gender_encoded</th>\n",
       "      <th>partner_encoded</th>\n",
       "      <th>dependents_encoded</th>\n",
       "      <th>phone_service_encoded</th>\n",
       "      <th>paperless_billing_encoded</th>\n",
       "      <th>churn_encoded</th>\n",
       "      <th>multiple_lines_No phone service</th>\n",
       "      <th>multiple_lines_Yes</th>\n",
       "      <th>online_security_No internet service</th>\n",
       "      <th>online_security_Yes</th>\n",
       "      <th>online_backup_No internet service</th>\n",
       "      <th>online_backup_Yes</th>\n",
       "      <th>device_protection_No internet service</th>\n",
       "      <th>device_protection_Yes</th>\n",
       "      <th>streaming_tv_No internet service</th>\n",
       "      <th>streaming_tv_Yes</th>\n",
       "      <th>streaming_movies_No internet service</th>\n",
       "      <th>streaming_movies_Yes</th>\n",
       "      <th>internet_service_type_Fiber optic</th>\n",
       "      <th>internet_service_type_None</th>\n",
       "      <th>tech_support_No</th>\n",
       "      <th>tech_support_No internet service</th>\n",
       "      <th>tech_support_Yes</th>\n",
       "      <th>payment_type_Bank transfer (automatic)</th>\n",
       "      <th>payment_type_Credit card (automatic)</th>\n",
       "      <th>payment_type_Electronic check</th>\n",
       "      <th>payment_type_Mailed check</th>\n",
       "      <th>contract_type_Month-to-month</th>\n",
       "      <th>contract_type_One year</th>\n",
       "      <th>contract_type_Two year</th>\n",
       "    </tr>\n",
       "  </thead>\n",
       "  <tbody>\n",
       "    <tr>\n",
       "      <th>5919</th>\n",
       "      <td>4</td>\n",
       "      <td>Female</td>\n",
       "      <td>0</td>\n",
       "      <td>No</td>\n",
       "      <td>No</td>\n",
       "      <td>58</td>\n",
       "      <td>Yes</td>\n",
       "      <td>Yes</td>\n",
       "      <td>Yes</td>\n",
       "      <td>Yes</td>\n",
       "      <td>Yes</td>\n",
       "      <td>Yes</td>\n",
       "      <td>No</td>\n",
       "      <td>No</td>\n",
       "      <td>Yes</td>\n",
       "      <td>71.10</td>\n",
       "      <td>4299.20</td>\n",
       "      <td>No</td>\n",
       "      <td>One year</td>\n",
       "      <td>DSL</td>\n",
       "      <td>Credit card (automatic)</td>\n",
       "      <td>1</td>\n",
       "      <td>0</td>\n",
       "      <td>0</td>\n",
       "      <td>1</td>\n",
       "      <td>1</td>\n",
       "      <td>0</td>\n",
       "      <td>0</td>\n",
       "      <td>1</td>\n",
       "      <td>0</td>\n",
       "      <td>1</td>\n",
       "      <td>0</td>\n",
       "      <td>1</td>\n",
       "      <td>0</td>\n",
       "      <td>1</td>\n",
       "      <td>0</td>\n",
       "      <td>0</td>\n",
       "      <td>0</td>\n",
       "      <td>0</td>\n",
       "      <td>0</td>\n",
       "      <td>0</td>\n",
       "      <td>0</td>\n",
       "      <td>0</td>\n",
       "      <td>1</td>\n",
       "      <td>0</td>\n",
       "      <td>1</td>\n",
       "      <td>0</td>\n",
       "      <td>0</td>\n",
       "      <td>0</td>\n",
       "      <td>1</td>\n",
       "      <td>0</td>\n",
       "    </tr>\n",
       "    <tr>\n",
       "      <th>1915</th>\n",
       "      <td>4</td>\n",
       "      <td>Male</td>\n",
       "      <td>0</td>\n",
       "      <td>No</td>\n",
       "      <td>Yes</td>\n",
       "      <td>71</td>\n",
       "      <td>Yes</td>\n",
       "      <td>Yes</td>\n",
       "      <td>Yes</td>\n",
       "      <td>Yes</td>\n",
       "      <td>No</td>\n",
       "      <td>No</td>\n",
       "      <td>No</td>\n",
       "      <td>No</td>\n",
       "      <td>Yes</td>\n",
       "      <td>85.45</td>\n",
       "      <td>6028.95</td>\n",
       "      <td>No</td>\n",
       "      <td>One year</td>\n",
       "      <td>Fiber optic</td>\n",
       "      <td>Credit card (automatic)</td>\n",
       "      <td>0</td>\n",
       "      <td>0</td>\n",
       "      <td>1</td>\n",
       "      <td>1</td>\n",
       "      <td>1</td>\n",
       "      <td>0</td>\n",
       "      <td>0</td>\n",
       "      <td>1</td>\n",
       "      <td>0</td>\n",
       "      <td>1</td>\n",
       "      <td>0</td>\n",
       "      <td>1</td>\n",
       "      <td>0</td>\n",
       "      <td>0</td>\n",
       "      <td>0</td>\n",
       "      <td>0</td>\n",
       "      <td>0</td>\n",
       "      <td>0</td>\n",
       "      <td>1</td>\n",
       "      <td>0</td>\n",
       "      <td>1</td>\n",
       "      <td>0</td>\n",
       "      <td>0</td>\n",
       "      <td>0</td>\n",
       "      <td>1</td>\n",
       "      <td>0</td>\n",
       "      <td>0</td>\n",
       "      <td>0</td>\n",
       "      <td>1</td>\n",
       "      <td>0</td>\n",
       "    </tr>\n",
       "    <tr>\n",
       "      <th>5054</th>\n",
       "      <td>1</td>\n",
       "      <td>Female</td>\n",
       "      <td>0</td>\n",
       "      <td>Yes</td>\n",
       "      <td>Yes</td>\n",
       "      <td>35</td>\n",
       "      <td>Yes</td>\n",
       "      <td>Yes</td>\n",
       "      <td>No internet service</td>\n",
       "      <td>No internet service</td>\n",
       "      <td>No internet service</td>\n",
       "      <td>No internet service</td>\n",
       "      <td>No internet service</td>\n",
       "      <td>No internet service</td>\n",
       "      <td>Yes</td>\n",
       "      <td>25.75</td>\n",
       "      <td>882.55</td>\n",
       "      <td>No</td>\n",
       "      <td>Month-to-month</td>\n",
       "      <td>None</td>\n",
       "      <td>Electronic check</td>\n",
       "      <td>1</td>\n",
       "      <td>1</td>\n",
       "      <td>1</td>\n",
       "      <td>1</td>\n",
       "      <td>1</td>\n",
       "      <td>0</td>\n",
       "      <td>0</td>\n",
       "      <td>1</td>\n",
       "      <td>1</td>\n",
       "      <td>0</td>\n",
       "      <td>1</td>\n",
       "      <td>0</td>\n",
       "      <td>1</td>\n",
       "      <td>0</td>\n",
       "      <td>1</td>\n",
       "      <td>0</td>\n",
       "      <td>1</td>\n",
       "      <td>0</td>\n",
       "      <td>0</td>\n",
       "      <td>1</td>\n",
       "      <td>0</td>\n",
       "      <td>1</td>\n",
       "      <td>0</td>\n",
       "      <td>0</td>\n",
       "      <td>0</td>\n",
       "      <td>1</td>\n",
       "      <td>0</td>\n",
       "      <td>1</td>\n",
       "      <td>0</td>\n",
       "      <td>0</td>\n",
       "    </tr>\n",
       "    <tr>\n",
       "      <th>2355</th>\n",
       "      <td>2</td>\n",
       "      <td>Male</td>\n",
       "      <td>0</td>\n",
       "      <td>Yes</td>\n",
       "      <td>Yes</td>\n",
       "      <td>1</td>\n",
       "      <td>Yes</td>\n",
       "      <td>No</td>\n",
       "      <td>No internet service</td>\n",
       "      <td>No internet service</td>\n",
       "      <td>No internet service</td>\n",
       "      <td>No internet service</td>\n",
       "      <td>No internet service</td>\n",
       "      <td>No internet service</td>\n",
       "      <td>No</td>\n",
       "      <td>19.20</td>\n",
       "      <td>19.20</td>\n",
       "      <td>No</td>\n",
       "      <td>Month-to-month</td>\n",
       "      <td>None</td>\n",
       "      <td>Mailed check</td>\n",
       "      <td>0</td>\n",
       "      <td>1</td>\n",
       "      <td>1</td>\n",
       "      <td>1</td>\n",
       "      <td>0</td>\n",
       "      <td>0</td>\n",
       "      <td>0</td>\n",
       "      <td>0</td>\n",
       "      <td>1</td>\n",
       "      <td>0</td>\n",
       "      <td>1</td>\n",
       "      <td>0</td>\n",
       "      <td>1</td>\n",
       "      <td>0</td>\n",
       "      <td>1</td>\n",
       "      <td>0</td>\n",
       "      <td>1</td>\n",
       "      <td>0</td>\n",
       "      <td>0</td>\n",
       "      <td>1</td>\n",
       "      <td>0</td>\n",
       "      <td>1</td>\n",
       "      <td>0</td>\n",
       "      <td>0</td>\n",
       "      <td>0</td>\n",
       "      <td>0</td>\n",
       "      <td>1</td>\n",
       "      <td>1</td>\n",
       "      <td>0</td>\n",
       "      <td>0</td>\n",
       "    </tr>\n",
       "    <tr>\n",
       "      <th>6279</th>\n",
       "      <td>2</td>\n",
       "      <td>Male</td>\n",
       "      <td>1</td>\n",
       "      <td>No</td>\n",
       "      <td>No</td>\n",
       "      <td>20</td>\n",
       "      <td>Yes</td>\n",
       "      <td>No</td>\n",
       "      <td>Yes</td>\n",
       "      <td>No</td>\n",
       "      <td>No</td>\n",
       "      <td>Yes</td>\n",
       "      <td>No</td>\n",
       "      <td>No</td>\n",
       "      <td>No</td>\n",
       "      <td>54.00</td>\n",
       "      <td>1055.90</td>\n",
       "      <td>No</td>\n",
       "      <td>One year</td>\n",
       "      <td>DSL</td>\n",
       "      <td>Mailed check</td>\n",
       "      <td>0</td>\n",
       "      <td>0</td>\n",
       "      <td>0</td>\n",
       "      <td>1</td>\n",
       "      <td>0</td>\n",
       "      <td>0</td>\n",
       "      <td>0</td>\n",
       "      <td>0</td>\n",
       "      <td>0</td>\n",
       "      <td>1</td>\n",
       "      <td>0</td>\n",
       "      <td>0</td>\n",
       "      <td>0</td>\n",
       "      <td>0</td>\n",
       "      <td>0</td>\n",
       "      <td>0</td>\n",
       "      <td>0</td>\n",
       "      <td>0</td>\n",
       "      <td>0</td>\n",
       "      <td>0</td>\n",
       "      <td>0</td>\n",
       "      <td>0</td>\n",
       "      <td>1</td>\n",
       "      <td>0</td>\n",
       "      <td>0</td>\n",
       "      <td>0</td>\n",
       "      <td>1</td>\n",
       "      <td>0</td>\n",
       "      <td>1</td>\n",
       "      <td>0</td>\n",
       "    </tr>\n",
       "  </tbody>\n",
       "</table>\n",
       "</div>"
      ],
      "text/plain": [
       "      payment_type_id  gender  senior_citizen partner dependents  tenure  \\\n",
       "5919                4  Female               0      No         No      58   \n",
       "1915                4    Male               0      No        Yes      71   \n",
       "5054                1  Female               0     Yes        Yes      35   \n",
       "2355                2    Male               0     Yes        Yes       1   \n",
       "6279                2    Male               1      No         No      20   \n",
       "\n",
       "     phone_service multiple_lines      online_security        online_backup  \\\n",
       "5919           Yes            Yes                  Yes                  Yes   \n",
       "1915           Yes            Yes                  Yes                  Yes   \n",
       "5054           Yes            Yes  No internet service  No internet service   \n",
       "2355           Yes             No  No internet service  No internet service   \n",
       "6279           Yes             No                  Yes                   No   \n",
       "\n",
       "        device_protection         tech_support         streaming_tv  \\\n",
       "5919                  Yes                  Yes                   No   \n",
       "1915                   No                   No                   No   \n",
       "5054  No internet service  No internet service  No internet service   \n",
       "2355  No internet service  No internet service  No internet service   \n",
       "6279                   No                  Yes                   No   \n",
       "\n",
       "         streaming_movies paperless_billing  monthly_charges  total_charges  \\\n",
       "5919                   No               Yes            71.10        4299.20   \n",
       "1915                   No               Yes            85.45        6028.95   \n",
       "5054  No internet service               Yes            25.75         882.55   \n",
       "2355  No internet service                No            19.20          19.20   \n",
       "6279                   No                No            54.00        1055.90   \n",
       "\n",
       "     churn   contract_type internet_service_type             payment_type  \\\n",
       "5919    No        One year                   DSL  Credit card (automatic)   \n",
       "1915    No        One year           Fiber optic  Credit card (automatic)   \n",
       "5054    No  Month-to-month                  None         Electronic check   \n",
       "2355    No  Month-to-month                  None             Mailed check   \n",
       "6279    No        One year                   DSL             Mailed check   \n",
       "\n",
       "      gender_encoded  partner_encoded  dependents_encoded  \\\n",
       "5919               1                0                   0   \n",
       "1915               0                0                   1   \n",
       "5054               1                1                   1   \n",
       "2355               0                1                   1   \n",
       "6279               0                0                   0   \n",
       "\n",
       "      phone_service_encoded  paperless_billing_encoded  churn_encoded  \\\n",
       "5919                      1                          1              0   \n",
       "1915                      1                          1              0   \n",
       "5054                      1                          1              0   \n",
       "2355                      1                          0              0   \n",
       "6279                      1                          0              0   \n",
       "\n",
       "      multiple_lines_No phone service  multiple_lines_Yes  \\\n",
       "5919                                0                   1   \n",
       "1915                                0                   1   \n",
       "5054                                0                   1   \n",
       "2355                                0                   0   \n",
       "6279                                0                   0   \n",
       "\n",
       "      online_security_No internet service  online_security_Yes  \\\n",
       "5919                                    0                    1   \n",
       "1915                                    0                    1   \n",
       "5054                                    1                    0   \n",
       "2355                                    1                    0   \n",
       "6279                                    0                    1   \n",
       "\n",
       "      online_backup_No internet service  online_backup_Yes  \\\n",
       "5919                                  0                  1   \n",
       "1915                                  0                  1   \n",
       "5054                                  1                  0   \n",
       "2355                                  1                  0   \n",
       "6279                                  0                  0   \n",
       "\n",
       "      device_protection_No internet service  device_protection_Yes  \\\n",
       "5919                                      0                      1   \n",
       "1915                                      0                      0   \n",
       "5054                                      1                      0   \n",
       "2355                                      1                      0   \n",
       "6279                                      0                      0   \n",
       "\n",
       "      streaming_tv_No internet service  streaming_tv_Yes  \\\n",
       "5919                                 0                 0   \n",
       "1915                                 0                 0   \n",
       "5054                                 1                 0   \n",
       "2355                                 1                 0   \n",
       "6279                                 0                 0   \n",
       "\n",
       "      streaming_movies_No internet service  streaming_movies_Yes  \\\n",
       "5919                                     0                     0   \n",
       "1915                                     0                     0   \n",
       "5054                                     1                     0   \n",
       "2355                                     1                     0   \n",
       "6279                                     0                     0   \n",
       "\n",
       "      internet_service_type_Fiber optic  internet_service_type_None  \\\n",
       "5919                                  0                           0   \n",
       "1915                                  1                           0   \n",
       "5054                                  0                           1   \n",
       "2355                                  0                           1   \n",
       "6279                                  0                           0   \n",
       "\n",
       "      tech_support_No  tech_support_No internet service  tech_support_Yes  \\\n",
       "5919                0                                 0                 1   \n",
       "1915                1                                 0                 0   \n",
       "5054                0                                 1                 0   \n",
       "2355                0                                 1                 0   \n",
       "6279                0                                 0                 1   \n",
       "\n",
       "      payment_type_Bank transfer (automatic)  \\\n",
       "5919                                       0   \n",
       "1915                                       0   \n",
       "5054                                       0   \n",
       "2355                                       0   \n",
       "6279                                       0   \n",
       "\n",
       "      payment_type_Credit card (automatic)  payment_type_Electronic check  \\\n",
       "5919                                     1                              0   \n",
       "1915                                     1                              0   \n",
       "5054                                     0                              1   \n",
       "2355                                     0                              0   \n",
       "6279                                     0                              0   \n",
       "\n",
       "      payment_type_Mailed check  contract_type_Month-to-month  \\\n",
       "5919                          0                             0   \n",
       "1915                          0                             0   \n",
       "5054                          0                             1   \n",
       "2355                          1                             1   \n",
       "6279                          1                             0   \n",
       "\n",
       "      contract_type_One year  contract_type_Two year  \n",
       "5919                       1                       0  \n",
       "1915                       1                       0  \n",
       "5054                       0                       0  \n",
       "2355                       0                       0  \n",
       "6279                       1                       0  "
      ]
     },
     "execution_count": 12,
     "metadata": {},
     "output_type": "execute_result"
    }
   ],
   "source": [
    "# take a look at the results\n",
    "train.head()"
   ]
  },
  {
   "cell_type": "code",
   "execution_count": 13,
   "id": "a1287078",
   "metadata": {},
   "outputs": [
    {
     "data": {
      "text/plain": [
       "(3937, 51)"
      ]
     },
     "execution_count": 13,
     "metadata": {},
     "output_type": "execute_result"
    }
   ],
   "source": [
    "# the df has 3937 rows and 51 columns\n",
    "train.shape"
   ]
  },
  {
   "cell_type": "code",
   "execution_count": 14,
   "id": "b273393d",
   "metadata": {},
   "outputs": [
    {
     "name": "stdout",
     "output_type": "stream",
     "text": [
      "<class 'pandas.core.frame.DataFrame'>\n",
      "Int64Index: 3937 entries, 5919 to 4192\n",
      "Data columns (total 51 columns):\n",
      " #   Column                                  Non-Null Count  Dtype  \n",
      "---  ------                                  --------------  -----  \n",
      " 0   payment_type_id                         3937 non-null   int64  \n",
      " 1   gender                                  3937 non-null   object \n",
      " 2   senior_citizen                          3937 non-null   int64  \n",
      " 3   partner                                 3937 non-null   object \n",
      " 4   dependents                              3937 non-null   object \n",
      " 5   tenure                                  3937 non-null   int64  \n",
      " 6   phone_service                           3937 non-null   object \n",
      " 7   multiple_lines                          3937 non-null   object \n",
      " 8   online_security                         3937 non-null   object \n",
      " 9   online_backup                           3937 non-null   object \n",
      " 10  device_protection                       3937 non-null   object \n",
      " 11  tech_support                            3937 non-null   object \n",
      " 12  streaming_tv                            3937 non-null   object \n",
      " 13  streaming_movies                        3937 non-null   object \n",
      " 14  paperless_billing                       3937 non-null   object \n",
      " 15  monthly_charges                         3937 non-null   float64\n",
      " 16  total_charges                           3937 non-null   float64\n",
      " 17  churn                                   3937 non-null   object \n",
      " 18  contract_type                           3937 non-null   object \n",
      " 19  internet_service_type                   3937 non-null   object \n",
      " 20  payment_type                            3937 non-null   object \n",
      " 21  gender_encoded                          3937 non-null   int64  \n",
      " 22  partner_encoded                         3937 non-null   int64  \n",
      " 23  dependents_encoded                      3937 non-null   int64  \n",
      " 24  phone_service_encoded                   3937 non-null   int64  \n",
      " 25  paperless_billing_encoded               3937 non-null   int64  \n",
      " 26  churn_encoded                           3937 non-null   int64  \n",
      " 27  multiple_lines_No phone service         3937 non-null   uint8  \n",
      " 28  multiple_lines_Yes                      3937 non-null   uint8  \n",
      " 29  online_security_No internet service     3937 non-null   uint8  \n",
      " 30  online_security_Yes                     3937 non-null   uint8  \n",
      " 31  online_backup_No internet service       3937 non-null   uint8  \n",
      " 32  online_backup_Yes                       3937 non-null   uint8  \n",
      " 33  device_protection_No internet service   3937 non-null   uint8  \n",
      " 34  device_protection_Yes                   3937 non-null   uint8  \n",
      " 35  streaming_tv_No internet service        3937 non-null   uint8  \n",
      " 36  streaming_tv_Yes                        3937 non-null   uint8  \n",
      " 37  streaming_movies_No internet service    3937 non-null   uint8  \n",
      " 38  streaming_movies_Yes                    3937 non-null   uint8  \n",
      " 39  internet_service_type_Fiber optic       3937 non-null   uint8  \n",
      " 40  internet_service_type_None              3937 non-null   uint8  \n",
      " 41  tech_support_No                         3937 non-null   uint8  \n",
      " 42  tech_support_No internet service        3937 non-null   uint8  \n",
      " 43  tech_support_Yes                        3937 non-null   uint8  \n",
      " 44  payment_type_Bank transfer (automatic)  3937 non-null   uint8  \n",
      " 45  payment_type_Credit card (automatic)    3937 non-null   uint8  \n",
      " 46  payment_type_Electronic check           3937 non-null   uint8  \n",
      " 47  payment_type_Mailed check               3937 non-null   uint8  \n",
      " 48  contract_type_Month-to-month            3937 non-null   uint8  \n",
      " 49  contract_type_One year                  3937 non-null   uint8  \n",
      " 50  contract_type_Two year                  3937 non-null   uint8  \n",
      "dtypes: float64(2), int64(9), object(16), uint8(24)\n",
      "memory usage: 953.5+ KB\n"
     ]
    }
   ],
   "source": [
    "# check colun names and data types\n",
    "train.info()"
   ]
  },
  {
   "cell_type": "code",
   "execution_count": 15,
   "id": "a75f51df",
   "metadata": {},
   "outputs": [
    {
     "data": {
      "text/plain": [
       "No     2891\n",
       "Yes    1046\n",
       "Name: churn, dtype: int64"
      ]
     },
     "execution_count": 15,
     "metadata": {},
     "output_type": "execute_result"
    }
   ],
   "source": [
    "# see churn values\n",
    "train.churn.value_counts()"
   ]
  },
  {
   "cell_type": "code",
   "execution_count": 16,
   "id": "455d4679",
   "metadata": {},
   "outputs": [
    {
     "data": {
      "text/plain": [
       "26.56845313690627"
      ]
     },
     "execution_count": 16,
     "metadata": {},
     "output_type": "execute_result"
    }
   ],
   "source": [
    "# comparing the before and after churn value comparison\n",
    "#churn_baseline = 1869/(5174 + 1869) * 100\n",
    "#churn_baseline =26.536987079369588\n",
    "\n",
    "train_churn_baseline = 1046/(2891+1046)* 100\n",
    "train_churn_baseline"
   ]
  },
  {
   "cell_type": "markdown",
   "id": "735740f7",
   "metadata": {},
   "source": [
    "# univariate exploration"
   ]
  },
  {
   "cell_type": "code",
   "execution_count": 18,
   "id": "31dee324",
   "metadata": {},
   "outputs": [
    {
     "data": {
      "image/png": "[encoded data removed]",
      "text/plain": [
       "<Figure size 432x288 with 1 Axes>"
      ]
     },
     "metadata": {
      "needs_background": "light"
     },
     "output_type": "display_data"
    }
   ],
   "source": [
    "plt.title(\"Churning\")\n",
    "train.churn.hist()\n",
    "plt.show()"
   ]
  },
  {
   "cell_type": "code",
   "execution_count": 21,
   "id": "fa8019a4",
   "metadata": {},
   "outputs": [
    {
     "data": {
      "image/png": "[encoded data removed]",
      "text/plain": [
       "<Figure size 432x288 with 1 Axes>"
      ]
     },
     "metadata": {
      "needs_background": "light"
     },
     "output_type": "display_data"
    }
   ],
   "source": [
    "plt.title(\"Tech Support\")\n",
    "train.tech_support.hist()\n",
    "plt.show()"
   ]
  },
  {
   "cell_type": "code",
   "execution_count": 26,
   "id": "103d1080",
   "metadata": {},
   "outputs": [
    {
     "data": {
      "text/plain": [
       "0    2006\n",
       "1    1931\n",
       "Name: tech_support_No, dtype: int64"
      ]
     },
     "execution_count": 26,
     "metadata": {},
     "output_type": "execute_result"
    }
   ],
   "source": [
    "train.tech_support_No.value_counts()"
   ]
  },
  {
   "cell_type": "code",
   "execution_count": 27,
   "id": "30a001d8",
   "metadata": {},
   "outputs": [
    {
     "name": "stdout",
     "output_type": "stream",
     "text": [
      "no tech support\n"
     ]
    },
    {
     "data": {
      "text/plain": [
       "0.49"
      ]
     },
     "execution_count": 27,
     "metadata": {},
     "output_type": "execute_result"
    }
   ],
   "source": [
    "# We can call .mean() since 0 and 1 are numeric\n",
    "print(\"no tech support\")\n",
    "round(train.tech_support_No.mean(), 3)"
   ]
  },
  {
   "cell_type": "code",
   "execution_count": 22,
   "id": "7b7496a3",
   "metadata": {},
   "outputs": [
    {
     "data": {
      "image/png": "[encoded data removed]",
      "text/plain": [
       "<Figure size 432x288 with 1 Axes>"
      ]
     },
     "metadata": {
      "needs_background": "light"
     },
     "output_type": "display_data"
    }
   ],
   "source": [
    "plt.title(\"Senior Citizens\")\n",
    "train.senior_citizen.hist()\n",
    "plt.show()"
   ]
  },
  {
   "cell_type": "code",
   "execution_count": 28,
   "id": "00363a31",
   "metadata": {},
   "outputs": [
    {
     "data": {
      "text/plain": [
       "0    3302\n",
       "1     635\n",
       "Name: senior_citizen, dtype: int64"
      ]
     },
     "execution_count": 28,
     "metadata": {},
     "output_type": "execute_result"
    }
   ],
   "source": [
    "train.senior_citizen.value_counts()"
   ]
  },
  {
   "cell_type": "code",
   "execution_count": 29,
   "id": "996bc61d",
   "metadata": {},
   "outputs": [
    {
     "name": "stdout",
     "output_type": "stream",
     "text": [
      "senior citizen\n"
     ]
    },
    {
     "data": {
      "text/plain": [
       "0.161"
      ]
     },
     "execution_count": 29,
     "metadata": {},
     "output_type": "execute_result"
    }
   ],
   "source": [
    "# We can call .mean() since 0 and 1 are numeric\n",
    "print(\"senior citizen\")\n",
    "round(train.senior_citizen.mean(), 3) "
   ]
  },
  {
   "cell_type": "code",
   "execution_count": null,
   "id": "55a3cd97",
   "metadata": {},
   "outputs": [],
   "source": [
    "plt.title(\"payment_type_Bank transfer (automatic)\")\n",
    "train.payment_type_Bank transfer (automatic).hist()\n",
    "plt.show()"
   ]
  },
  {
   "cell_type": "code",
   "execution_count": null,
   "id": "6892aec9",
   "metadata": {},
   "outputs": [],
   "source": [
    "train.payment_type_Bank transfer (automatic).value_counts()"
   ]
  },
  {
   "cell_type": "code",
   "execution_count": null,
   "id": "5c5b3a00",
   "metadata": {},
   "outputs": [],
   "source": [
    "# We can call .mean() since 0 and 1 are numeric\n",
    "print(\"payment_type_Bank transfer (automatic)\")\n",
    "round(train.payment_type_Bank transfer (automatic).mean(), 3)"
   ]
  },
  {
   "cell_type": "code",
   "execution_count": null,
   "id": "4cf2a586",
   "metadata": {},
   "outputs": [],
   "source": [
    "plt.title(\"payment_type_Credit card (automatic)\")\n",
    "train.payment_type_Credit card (automatic).hist()\n",
    "plt.show()"
   ]
  },
  {
   "cell_type": "code",
   "execution_count": null,
   "id": "7f4b21e6",
   "metadata": {},
   "outputs": [],
   "source": [
    "train.payment_type_Credit card (automatic).value_counts()"
   ]
  },
  {
   "cell_type": "code",
   "execution_count": null,
   "id": "4688cb41",
   "metadata": {},
   "outputs": [],
   "source": [
    "# We can call .mean() since 0 and 1 are numeric\n",
    "print(\"payment_type_Credit card (automatic)\")\n",
    "round(train.payment_type_Credit card (automatic).mean(), 3)"
   ]
  },
  {
   "cell_type": "code",
   "execution_count": null,
   "id": "c454ab15",
   "metadata": {},
   "outputs": [],
   "source": [
    "plt.title(\"payment_type_Electronic check\")\n",
    "train.payment_type_Electronic check.hist()\n",
    "plt.show()"
   ]
  },
  {
   "cell_type": "code",
   "execution_count": null,
   "id": "945cfca7",
   "metadata": {},
   "outputs": [],
   "source": [
    "train.payment_type_Electronic check.value_counts()"
   ]
  },
  {
   "cell_type": "code",
   "execution_count": null,
   "id": "a12f3f3b",
   "metadata": {},
   "outputs": [],
   "source": [
    "# We can call .mean() since 0 and 1 are numeric\n",
    "print(\"payment_type_Electronic check\")\n",
    "round(train.payment_type_Electronic check.mean(), 3)"
   ]
  },
  {
   "cell_type": "code",
   "execution_count": null,
   "id": "c773f000",
   "metadata": {},
   "outputs": [],
   "source": [
    "plt.title(\"payment_type_Mailed check\")\n",
    "train.senior_citizen.hist()\n",
    "plt.show()"
   ]
  },
  {
   "cell_type": "code",
   "execution_count": null,
   "id": "6a75296f",
   "metadata": {},
   "outputs": [],
   "source": [
    "train.payment_type_Mailed check.value_counts()"
   ]
  },
  {
   "cell_type": "code",
   "execution_count": null,
   "id": "bf5bd077",
   "metadata": {},
   "outputs": [],
   "source": [
    "# We can call .mean() since 0 and 1 are numeric\n",
    "print(\"payment_type_Mailed check\")\n",
    "round(train.payment_type_Mailed check.mean(), 3)"
   ]
  },
  {
   "cell_type": "code",
   "execution_count": null,
   "id": "929ce8b7",
   "metadata": {},
   "outputs": [],
   "source": [
    "plt.title(\"contract_type_Month-to-month\")\n",
    "train.contract_type_Month-to-month.hist()\n",
    "plt.show()"
   ]
  },
  {
   "cell_type": "code",
   "execution_count": null,
   "id": "8a51df4b",
   "metadata": {},
   "outputs": [],
   "source": [
    "train.contract_type_Month-to-month.value_counts()"
   ]
  },
  {
   "cell_type": "code",
   "execution_count": null,
   "id": "d3c2d68b",
   "metadata": {},
   "outputs": [],
   "source": [
    "# We can call .mean() since 0 and 1 are numeric\n",
    "print(\"contract_type_Month-to-month\")\n",
    "round(train.contract_type_Month-to-month.mean(), 3)"
   ]
  },
  {
   "cell_type": "code",
   "execution_count": null,
   "id": "d4132eb5",
   "metadata": {},
   "outputs": [],
   "source": [
    "plt.title(\"contract_type_One year\")\n",
    "train.contract_type_One year.hist()\n",
    "plt.show()"
   ]
  },
  {
   "cell_type": "code",
   "execution_count": null,
   "id": "18464138",
   "metadata": {},
   "outputs": [],
   "source": [
    "train.contract_type_One year.value_counts()"
   ]
  },
  {
   "cell_type": "code",
   "execution_count": null,
   "id": "f40f9457",
   "metadata": {},
   "outputs": [],
   "source": [
    "# We can call .mean() since 0 and 1 are numeric\n",
    "print(\"contract_type_One year\")\n",
    "round(train.senior_citizen.mean(), 3)"
   ]
  },
  {
   "cell_type": "code",
   "execution_count": null,
   "id": "87db1b01",
   "metadata": {},
   "outputs": [],
   "source": [
    "plt.title(\"contract_type_Two year\")\n",
    "train.contract_type_Two year.hist()\n",
    "plt.show()"
   ]
  },
  {
   "cell_type": "code",
   "execution_count": null,
   "id": "2315705c",
   "metadata": {},
   "outputs": [],
   "source": [
    "train.contract_type_Two year.value_counts()"
   ]
  },
  {
   "cell_type": "code",
   "execution_count": null,
   "id": "b1bf1859",
   "metadata": {},
   "outputs": [],
   "source": [
    "# We can call .mean() since 0 and 1 are numeric\n",
    "print(\"contract_type_Two year\")\n",
    "round(train.contract_type_Two year.mean(), 3)"
   ]
  },
  {
   "cell_type": "markdown",
   "id": "849ae8df",
   "metadata": {},
   "source": [
    "# bivariate"
   ]
  },
  {
   "cell_type": "code",
   "execution_count": null,
   "id": "22678a2d",
   "metadata": {},
   "outputs": [],
   "source": [
    "plt.title(\"It pays to travel first and second class\")\n",
    "sns.barplot(x=\"pclass\", y=\"survived\", data=train)\n",
    "population_survival_rate = train.survived.mean()\n",
    "plt.axhline(population_survival_rate, label=\"Population survival rate\")\n",
    "plt.legend()\n",
    "plt.show()"
   ]
  },
  {
   "cell_type": "code",
   "execution_count": null,
   "id": "128c6a39",
   "metadata": {},
   "outputs": [],
   "source": [
    "# Let's run a chi squared to compare proportions, to have more confidence\n",
    "alpha = 0.05\n",
    "null_hypothesis = \"survival and class of ticket are independent\"\n",
    "alternative_hypothesis = \"there is a relationship between class of ticket and survival\"\n",
    "\n",
    "# Setup a crosstab of observed survival to pclass\n",
    "observed = pd.crosstab(train.survived, train.pclass)\n",
    "\n",
    "chi2, p, degf, expected = stats.chi2_contingency(observed)\n",
    "\n",
    "if p < alpha:\n",
    "    print(\"Reject the null hypothesis that\", null_hypothesis)\n",
    "    print(\"Sufficient evidence to move forward understanding that\", alternative_hypothesis)\n",
    "else:\n",
    "    print(\"Fail to reject the null\")\n",
    "    print(\"Insufficient evidence to reject the null\")\n",
    "p\n"
   ]
  },
  {
   "cell_type": "code",
   "execution_count": 31,
   "id": "e6bd70e8",
   "metadata": {},
   "outputs": [
    {
     "ename": "SyntaxError",
     "evalue": "invalid syntax (4065263201.py, line 1)",
     "output_type": "error",
     "traceback": [
      "\u001b[0;36m  Input \u001b[0;32mIn [31]\u001b[0;36m\u001b[0m\n\u001b[0;31m    Reject the null hypothesis that survival and class of ticket are independent\u001b[0m\n\u001b[0m           ^\u001b[0m\n\u001b[0;31mSyntaxError\u001b[0m\u001b[0;31m:\u001b[0m invalid syntax\n"
     ]
    }
   ],
   "source": [
    "Reject the null hypothesis that survival and class of ticket are independent\n",
    "Sufficient evidence to move forward understanding that there is a relationship between class of ticket and survival\n",
    "\n",
    "\n",
    "\n",
    "\n",
    "\n",
    "6.956716773744683e-15\n"
   ]
  },
  {
   "cell_type": "code",
   "execution_count": null,
   "id": "f870f094",
   "metadata": {},
   "outputs": [],
   "source": [
    "plt.title(\"Better not travel alone.\")\n",
    "sns.barplot(x=\"alone\", y=\"survived\", data=train)\n",
    "population_survival_rate = train.survived.mean()\n",
    "plt.axhline(population_survival_rate, label=\"Population survival rate\")\n",
    "plt.legend()\n",
    "plt.show()"
   ]
  },
  {
   "cell_type": "code",
   "execution_count": null,
   "id": "362c2d6c",
   "metadata": {},
   "outputs": [],
   "source": [
    "# If the visual was unclear or we need more confirmation, run a hypothesis test\n",
    "# Let's run a chi squared to compare proportions\n",
    "alpha = 0.05\n",
    "null_hypothesis = \"survival and traveling alone are independent\"\n",
    "alternative_hypothesis = \"there is a relationship between survival and traveling alone\"\n",
    "\n",
    "# Setup a crosstab of observed survival to pclass\n",
    "observed = pd.crosstab(train.survived, train.alone)\n",
    "\n",
    "chi2, p, degf, expected = stats.chi2_contingency(observed)\n",
    "\n",
    "if p < alpha:\n",
    "    print(\"Reject the null hypothesis that\", null_hypothesis)\n",
    "    print(\"Sufficient evidence to move forward understanding that\", alternative_hypothesis)\n",
    "else:\n",
    "    print(\"Fail to reject the null\")\n",
    "    print(\"Insufficient evidence to reject the null\")\n"
   ]
  },
  {
   "cell_type": "code",
   "execution_count": null,
   "id": "64322dc4",
   "metadata": {},
   "outputs": [],
   "source": [
    "Reject the null hypothesis that survival and traveling alone are independent\n",
    "Sufficient evidence to move forward understanding that there is a relationship between survival and traveling alone\n"
   ]
  },
  {
   "cell_type": "code",
   "execution_count": null,
   "id": "68556518",
   "metadata": {},
   "outputs": [],
   "source": [
    "plt.title(\"Women more likely to survive\")\n",
    "sns.barplot(x=\"is_female\", y=\"survived\", data=train)\n",
    "population_survival_rate = train.survived.mean()\n",
    "plt.axhline(population_survival_rate, label=\"Population survival rate\")\n",
    "plt.legend()\n",
    "plt.show()\n"
   ]
  },
  {
   "cell_type": "code",
   "execution_count": null,
   "id": "dd1db83c",
   "metadata": {},
   "outputs": [],
   "source": [
    "# Let's run a chi squared to compare proportions, to have more confidence\n",
    "alpha = 0.05\n",
    "\n",
    "null_hypothesis = \"survival and gender are independent\"\n",
    "alternative_hypothesis = \"there is a relationship between survival and gender\"\n",
    "\n",
    "# Setup a crosstab of observed survival to pclass\n",
    "observed = pd.crosstab(train.survived, train.is_female)\n",
    "\n",
    "chi2, p, degf, expected = stats.chi2_contingency(observed)\n",
    "\n",
    "if p < alpha:\n",
    "    print(\"Reject the null hypothesis that\", null_hypothesis)\n",
    "    print(\"Sufficient evidence to move forward understanding that\", alternative_hypothesis)\n",
    "else:\n",
    "    print(\"Fail to reject the null\")\n",
    "    print(\"Insufficient evidence to reject the null\")\n"
   ]
  },
  {
   "cell_type": "code",
   "execution_count": null,
   "id": "2a9e6700",
   "metadata": {},
   "outputs": [],
   "source": [
    "Reject the null hypothesis that survival and gender are independent\n",
    "Sufficient evidence to move forward understanding that there is a relationship between survival and gender\n"
   ]
  },
  {
   "cell_type": "code",
   "execution_count": null,
   "id": "eb3fe333",
   "metadata": {},
   "outputs": [],
   "source": [
    "Interaction of 3+ Variables\n",
    "During multivariate analysis, we often add another dimension to our data, such as the target variable as color.\n",
    "\n",
    "We also ask additional, more specific and targeted questions of the data, such as how subgroups compare to each-other and to the overall population. We then answer these questions using visualizations and/or hypothesis testing.\n",
    "\n",
    "Some options for multivariate visuals:\n",
    "\n",
    "If you have multiple numeric columns, generating a pairplot with the target variable set to the hue argument might help. It may also be too noisy.\n",
    "A relplot of a numeric x, a numeric y, and a hue or col argument using a category z. If you discover a good set of numeric columns in the pairplot, then it would be valuable to create a visual for that pairing along with the target.\n",
    "We can also use hue or col along with seaborn catplot\n",
    "We can make subgroups based on multiple categorical features and compare to other groups or the population\n",
    "Multivariate statistical tests exist, but are outside the scope of this course.\n",
    "\n",
    "We can, however, create subgroups based on multiple categorical features and conduct hypothesis tests."
   ]
  },
  {
   "cell_type": "code",
   "execution_count": null,
   "id": "571b0d0e",
   "metadata": {},
   "outputs": [],
   "source": [
    "# At each class ticket, women have better survival rates\n",
    "plt.title(\"In each class of ticket, survivors trend younger\")\n",
    "sns.boxplot(x=\"pclass\", y=\"age\", data=train, hue=\"survived\")\n",
    "population_survival_rate = train.survived.mean()\n",
    "plt.axhline(population_survival_rate)\n",
    "plt.show()\n"
   ]
  },
  {
   "cell_type": "code",
   "execution_count": null,
   "id": "6db2d3ff",
   "metadata": {},
   "outputs": [],
   "source": []
  },
  {
   "cell_type": "code",
   "execution_count": 17,
   "id": "8df22b9c",
   "metadata": {},
   "outputs": [
    {
     "name": "stdout",
     "output_type": "stream",
     "text": [
      "Is there a relationship between having tech_support and churn?\n"
     ]
    },
    {
     "ename": "NameError",
     "evalue": "name 'X_train' is not defined",
     "output_type": "error",
     "traceback": [
      "\u001b[0;31m---------------------------------------------------------------------------\u001b[0m",
      "\u001b[0;31mNameError\u001b[0m                                 Traceback (most recent call last)",
      "Input \u001b[0;32mIn [17]\u001b[0m, in \u001b[0;36m<cell line: 2>\u001b[0;34m()\u001b[0m\n\u001b[1;32m      1\u001b[0m \u001b[38;5;28mprint\u001b[39m(\u001b[38;5;124m'\u001b[39m\u001b[38;5;124mIs there a relationship between having tech_support and churn?\u001b[39m\u001b[38;5;124m'\u001b[39m)\n\u001b[0;32m----> 2\u001b[0m pd\u001b[38;5;241m.\u001b[39mcrosstab(\u001b[43mX_train\u001b[49m\u001b[38;5;241m.\u001b[39mtech_support_No, y_train, normalize\u001b[38;5;241m=\u001b[39m\u001b[38;5;124m'\u001b[39m\u001b[38;5;124mindex\u001b[39m\u001b[38;5;124m'\u001b[39m)\u001b[38;5;241m.\u001b[39mstyle\u001b[38;5;241m.\u001b[39mbackground_gradient(cmap\u001b[38;5;241m=\u001b[39m\u001b[38;5;124m'\u001b[39m\u001b[38;5;124mGreens\u001b[39m\u001b[38;5;124m'\u001b[39m)\n",
      "\u001b[0;31mNameError\u001b[0m: name 'X_train' is not defined"
     ]
    }
   ],
   "source": [
    "print('Is there a relationship between having tech_support and churn?')\n",
    "pd.crosstab(X_train.tech_support_No, y_train, normalize='index').style.background_gradient(cmap='Greens')\n"
   ]
  },
  {
   "cell_type": "code",
   "execution_count": null,
   "id": "1d3e8fd8",
   "metadata": {},
   "outputs": [],
   "source": [
    "print('Is there a relationship between having tech_support and churn?')\n",
    "pd.crosstab(X_train.tech_support_Yes, y_train, normalize='index').style.background_gradient(cmap='Greens')"
   ]
  },
  {
   "cell_type": "code",
   "execution_count": null,
   "id": "f35628fc",
   "metadata": {},
   "outputs": [],
   "source": [
    "print('Is there a relationship between being a senior citizen and churn?')\n",
    "pd.crosstab(X_train.senior_citizen, y_train, normalize='index').style.background_gradient(cmap='Greens')"
   ]
  },
  {
   "cell_type": "code",
   "execution_count": null,
   "id": "1279a8e0",
   "metadata": {},
   "outputs": [],
   "source": [
    "print('Is there a relationship between contract type(monthly) and churn?')\n",
    "pd.crosstab(X_train.contract_type_Month-to-month, y_train, normalize='index').style.background_gradient(cmap='Greens')"
   ]
  },
  {
   "cell_type": "code",
   "execution_count": null,
   "id": "c827ed7a",
   "metadata": {},
   "outputs": [],
   "source": [
    "print('Is there a relationship between contract type(one year) and churn?')\n",
    "pd.crosstab(X_train.contract_type_One year, y_train, normalize='index').style.background_gradient(cmap='Greens')"
   ]
  },
  {
   "cell_type": "code",
   "execution_count": null,
   "id": "95db728e",
   "metadata": {},
   "outputs": [],
   "source": [
    "print('Is there a relationship between contract type(two year) and churn?')\n",
    "pd.crosstab(X_train.contract_type_Two year, y_train, normalize='index').style.background_gradient(cmap='Greens')"
   ]
  },
  {
   "cell_type": "code",
   "execution_count": null,
   "id": "aff3116f",
   "metadata": {},
   "outputs": [],
   "source": [
    "print('Is there a relationship between paperless billing and churn?')\n",
    "pd.crosstab(X_train.paperless_billing_encoded, y_train, normalize='index').style.background_gradient(cmap='Greens')"
   ]
  },
  {
   "cell_type": "code",
   "execution_count": null,
   "id": "d6622ac9",
   "metadata": {},
   "outputs": [],
   "source": [
    "print('Is there a relationship between payment_type_Bank transfer and churn?')\n",
    "pd.crosstab(X_train.payment_type_Bank transfer (automatic), y_train, normalize='index').style.background_gradient(cmap='Greens')"
   ]
  },
  {
   "cell_type": "code",
   "execution_count": null,
   "id": "8a683a7a",
   "metadata": {},
   "outputs": [],
   "source": [
    "print('Is there a relationship between payment_type_Credit card (automatic) and churn?')\n",
    "pd.crosstab(X_train.payment_type_Credit card (automatic), y_train, normalize='index').style.background_gradient(cmap='Greens')"
   ]
  },
  {
   "cell_type": "code",
   "execution_count": null,
   "id": "56698860",
   "metadata": {},
   "outputs": [],
   "source": [
    "print('Is there a relationship between electronic check and churn?')\n",
    "pd.crosstab(X_train.payment_type_Electronic check, y_train, normalize='index').style.background_gradient(cmap='Greens')"
   ]
  },
  {
   "cell_type": "code",
   "execution_count": null,
   "id": "f6d6315b",
   "metadata": {},
   "outputs": [],
   "source": [
    "print('Is there a relationship between payment_type_Mailed check and churn?')\n",
    "pd.crosstab(X_train.payment_type_Mailed check, y_train, normalize='index').style.background_gradient(cmap='Greens')"
   ]
  },
  {
   "cell_type": "code",
   "execution_count": null,
   "id": "7423f482",
   "metadata": {},
   "outputs": [],
   "source": [
    "print('Is there a relationship between auto payments vs manual payments and churn?')\n",
    "pd.crosstab(X_train.payment_type_Mailed check, y_train, normalize='index').style.background_gradient(cmap='Greens')"
   ]
  },
  {
   "cell_type": "code",
   "execution_count": null,
   "id": "60f6c43c",
   "metadata": {},
   "outputs": [],
   "source": []
  },
  {
   "cell_type": "code",
   "execution_count": null,
   "id": "5e1fbab7",
   "metadata": {},
   "outputs": [],
   "source": [
    "sns.boxplot(data=train, y='monthly_charges', x='churn')\n",
    "plt.title('Do customers that churn pay more per month?')\n",
    "plt.show()\n"
   ]
  },
  {
   "cell_type": "code",
   "execution_count": null,
   "id": "71334214",
   "metadata": {},
   "outputs": [],
   "source": [
    "pd.crosstab(train.gender, train.churn, normalize='index').plot.bar(stacked=False)\n",
    "plt.gca().yaxis.set_major_formatter('{:.0%}'.format)\n",
    "plt.xticks(rotation=0)\n",
    "plt.title('IS there a difference in gender between churners and non-churners?')\n",
    "plt.show()\n"
   ]
  },
  {
   "cell_type": "raw",
   "id": "16ec7da4",
   "metadata": {},
   "source": [
    "FEATURE ENGINEERING\n",
    "Based on the results of our exploration, we'll use monthly charges and whether or not a customer is on a month-to-month contract as our features.\n",
    "\n",
    "To do so, we'll convert the contract-type feature to a 1 or 0 for whether or not the customer is on a month to month contract.\n",
    "\n",
    "\n"
   ]
  },
  {
   "cell_type": "code",
   "execution_count": null,
   "id": "cae1dde5",
   "metadata": {},
   "outputs": [],
   "source": [
    "df['month_to_month_contract'] = (df.contract_type == 'Month-to-month').astype(int)\n",
    "\n",
    "# Recreate splits since we added a new column\n",
    "X = df.drop(columns=['churn'])\n",
    "y = df.churn\n",
    "X_train, X_test, y_train, y_test = train_test_split(X, y, train_size=.7, random_state=123)\n"
   ]
  },
  {
   "cell_type": "code",
   "execution_count": null,
   "id": "9eb2bea7",
   "metadata": {},
   "outputs": [],
   "source": [
    "features = ['monthly_charges', 'month_to_month_contract']\n"
   ]
  },
  {
   "cell_type": "code",
   "execution_count": null,
   "id": "ce61b4df",
   "metadata": {},
   "outputs": [],
   "source": [
    "X_train[features].head()"
   ]
  },
  {
   "cell_type": "code",
   "execution_count": null,
   "id": "42866db3",
   "metadata": {},
   "outputs": [],
   "source": []
  },
  {
   "cell_type": "code",
   "execution_count": null,
   "id": "e2e106b2",
   "metadata": {},
   "outputs": [],
   "source": [
    "senior = train['senior_citizen'].value_counts()\n",
    "senior"
   ]
  },
  {
   "cell_type": "code",
   "execution_count": null,
   "id": "1ae4f46b",
   "metadata": {},
   "outputs": [],
   "source": [
    "churned = train['churn_encoded'].value_counts()\n",
    "churned"
   ]
  },
  {
   "cell_type": "code",
   "execution_count": null,
   "id": "1a9a14df",
   "metadata": {},
   "outputs": [],
   "source": [
    "tech = train['tech_support'].value_counts()\n",
    "tech"
   ]
  },
  {
   "cell_type": "code",
   "execution_count": null,
   "id": "77df5652",
   "metadata": {},
   "outputs": [],
   "source": [
    "one_year = train['contract_type_One year'].value_counts()\n",
    "one_year"
   ]
  },
  {
   "cell_type": "code",
   "execution_count": null,
   "id": "f151561f",
   "metadata": {},
   "outputs": [],
   "source": [
    "two_year= train['contract_type_Two year'].value_counts()\n",
    "two_year"
   ]
  },
  {
   "cell_type": "code",
   "execution_count": null,
   "id": "15b81732",
   "metadata": {},
   "outputs": [],
   "source": [
    "monthly = train['contract_type_Month-to-month'].value_counts()\n",
    "monthly"
   ]
  },
  {
   "cell_type": "code",
   "execution_count": null,
   "id": "6af534fb",
   "metadata": {},
   "outputs": [],
   "source": [
    "transfer = train['payment_type_Bank transfer (automatic)'].value_counts()\n",
    "transfer"
   ]
  },
  {
   "cell_type": "code",
   "execution_count": null,
   "id": "f87ec6cc",
   "metadata": {},
   "outputs": [],
   "source": [
    "credit = train['payment_type_Credit card (automatic)'].value_counts()\n",
    "credit"
   ]
  },
  {
   "cell_type": "code",
   "execution_count": null,
   "id": "dec2e2cb",
   "metadata": {},
   "outputs": [],
   "source": [
    "electronic = train['payment_type_Electronic check'].value_counts()\n",
    "electronic"
   ]
  },
  {
   "cell_type": "code",
   "execution_count": null,
   "id": "8e7ae813",
   "metadata": {},
   "outputs": [],
   "source": [
    "mailed = train['payment_type_Mailed check'].value_counts()\n",
    "mailed"
   ]
  },
  {
   "cell_type": "code",
   "execution_count": null,
   "id": "a9f1b6a6",
   "metadata": {},
   "outputs": [],
   "source": [
    "auto = transfer[1] + credit[1]\n",
    "auto"
   ]
  },
  {
   "cell_type": "code",
   "execution_count": null,
   "id": "dbf418ef",
   "metadata": {},
   "outputs": [],
   "source": [
    "check = electronic[1] + mailed[1]\n",
    "check"
   ]
  },
  {
   "cell_type": "code",
   "execution_count": null,
   "id": "fd072dca",
   "metadata": {},
   "outputs": [],
   "source": []
  },
  {
   "cell_type": "code",
   "execution_count": null,
   "id": "6b399fee",
   "metadata": {},
   "outputs": [],
   "source": []
  },
  {
   "cell_type": "code",
   "execution_count": null,
   "id": "e8af3bba",
   "metadata": {},
   "outputs": [],
   "source": []
  },
  {
   "cell_type": "code",
   "execution_count": null,
   "id": "cfc160af",
   "metadata": {},
   "outputs": [],
   "source": [
    "sns.histplot(train.tech_support)\n",
    "plt.show()"
   ]
  },
  {
   "cell_type": "code",
   "execution_count": null,
   "id": "7f4be8dd",
   "metadata": {},
   "outputs": [],
   "source": [
    "sns.histplot(train.payment_type)\n",
    "plt.show()"
   ]
  },
  {
   "cell_type": "code",
   "execution_count": null,
   "id": "cc0effc8",
   "metadata": {},
   "outputs": [],
   "source": [
    "sns.histplot(train.senior_citizen)\n",
    "plt.show()"
   ]
  },
  {
   "cell_type": "code",
   "execution_count": null,
   "id": "3522716a",
   "metadata": {},
   "outputs": [],
   "source": [
    "sns.histplot(train.contract_type)\n",
    "plt.show()"
   ]
  },
  {
   "cell_type": "code",
   "execution_count": null,
   "id": "16fc887c",
   "metadata": {},
   "outputs": [],
   "source": [
    "sns.histplot(train.paperless_billing)\n",
    "plt.show()"
   ]
  },
  {
   "cell_type": "code",
   "execution_count": null,
   "id": "543522ab",
   "metadata": {},
   "outputs": [],
   "source": [
    "plt.figure(figsize=(12, 10))\n",
    "plt.suptitle('Boxplots')\n",
    "\n",
    "plt.subplot(221)\n",
    "sns.boxplot(data=train, y='churn_encoded', x='tech_support')\n",
    "plt.title('tech_support')\n",
    "\n",
    "plt.subplot(222)\n",
    "sns.boxplot(data=train, y='churn_encoded', x='payment_type')\n",
    "plt.title('payment_type')\n",
    "\n",
    "plt.subplot(223)\n",
    "sns.boxplot(data=train, y='churn_encoded', x='senior_citizen')\n",
    "plt.title('senior_citizen')\n",
    "\n",
    "plt.subplot(224)\n",
    "sns.boxplot(data=train, y='churn_encoded', x='contract_type')\n",
    "plt.title('contract_type')\n",
    "\n",
    "plt.subplots_adjust(hspace=0.4)\n"
   ]
  },
  {
   "cell_type": "code",
   "execution_count": null,
   "id": "e46e9e4f",
   "metadata": {},
   "outputs": [],
   "source": [
    "sns.jointplot(data=train, x='tech_support', y='churn')"
   ]
  },
  {
   "cell_type": "code",
   "execution_count": null,
   "id": "7e14b6e3",
   "metadata": {},
   "outputs": [],
   "source": [
    "Modeling\n",
    "\n",
    "# DecisionTreeClassifier?"
   ]
  },
  {
   "cell_type": "code",
   "execution_count": null,
   "id": "014ca566",
   "metadata": {},
   "outputs": [],
   "source": [
    "We'll create several different models and compare their performance.\n",
    "\n",
    "\n",
    "model1 = DecisionTreeClassifier(max_depth=2)\n",
    "model1.fit(X_train[features], y_train)\n",
    "accuracy = model1.score(X_validate[features], y_validate)\n",
    "print(f'Model 1 Accuracy: {accuracy:.2%}')"
   ]
  },
  {
   "cell_type": "code",
   "execution_count": null,
   "id": "3cbb9f27",
   "metadata": {},
   "outputs": [],
   "source": [
    "plt.figure(figsize=(13, 7))\n",
    "plot_tree(model1, feature_names=features, class_names=['No Churn', 'Churn'])\n",
    "plt.show()\n"
   ]
  },
  {
   "cell_type": "code",
   "execution_count": null,
   "id": "a7b0f453",
   "metadata": {},
   "outputs": [],
   "source": [
    "odel2 = DecisionTreeClassifier(max_depth=3)\n",
    "model2.fit(X_train[features], y_train)\n",
    "accuracy = model2.score(X_validate[features], y_validate)\n",
    "print(f'Model 2 Accuracy: {accuracy:.2%}')"
   ]
  },
  {
   "cell_type": "code",
   "execution_count": null,
   "id": "2b3a89ec",
   "metadata": {},
   "outputs": [],
   "source": [
    "model3 = DecisionTreeClassifier(max_depth=4)\n",
    "model3.fit(X_train[features], y_train)\n",
    "accuracy = model3.score(X_validate[features], y_validate)\n",
    "print(f'Model 3 Accuracy: {accuracy:.2%}')\n"
   ]
  },
  {
   "cell_type": "code",
   "execution_count": null,
   "id": "6d9c9e8c",
   "metadata": {},
   "outputs": [],
   "source": []
  },
  {
   "cell_type": "code",
   "execution_count": null,
   "id": "2c16c0eb",
   "metadata": {},
   "outputs": [],
   "source": []
  },
  {
   "cell_type": "code",
   "execution_count": null,
   "id": "3aa04644",
   "metadata": {},
   "outputs": [],
   "source": [
    "1. Does having tech support affect customer churn rates?\n",
    "2. Does payment type affect customers churn rates?\n",
    "3. Does being a senior citizen affect customers churn rates?\n",
    "4. Does contract type affect customers churn rates?\n",
    "5. Does paperless billing affect customer churn rates?"
   ]
  },
  {
   "cell_type": "markdown",
   "id": "immediate-mirror",
   "metadata": {},
   "source": [
    "## Explore\n",
    "\n",
    "* Here you will explore your data then highlight 4 questions that you asked of the data and how those questions influenced your analysis\n",
    "* Remember to split your data before exploring how different variables relate to one another\n",
    "* Each question should be stated directly \n",
    "* Each question should be supported by a visualization\n",
    "* Each question should be answered in natural language\n",
    "* Two questions must be supported by a statistical test, but you may choose to support more than two\n",
    "* See the following example, and read the comments in the next cell"
   ]
  },
  {
   "cell_type": "code",
   "execution_count": null,
   "id": "d4b737c2",
   "metadata": {},
   "outputs": [],
   "source": [
    "pd.crosstab(df.actual, df.prediction)"
   ]
  },
  {
   "cell_type": "code",
   "execution_count": null,
   "id": "8bfde821",
   "metadata": {},
   "outputs": [],
   "source": [
    "confusion_matrix(df.actual, df.prediction,\n",
    "                 labels = ('no coffee', 'coffee'))\n"
   ]
  },
  {
   "cell_type": "code",
   "execution_count": null,
   "id": "f191df4d",
   "metadata": {},
   "outputs": [],
   "source": [
    "df.actual.value_counts()"
   ]
  },
  {
   "cell_type": "markdown",
   "id": "functional-sierra",
   "metadata": {},
   "source": [
    "**The following empty code block** is here to represent the countless questions, visualizations, and statistical tests \n",
    "that did not make your final report. Data scientist often create a myriad of questions, visualizations \n",
    "and statistical tests that do not make it into the final notebook. This is okay and expected. Remember \n",
    "that shotgun approaches to your data such as using pair plots to look at the relationships of each feature \n",
    "are a great way to explore your data, but they have no place in your final report. \n",
    "**Your final report is about showing and supporting your findings, not showing the work you did to get there!**"
   ]
  },
  {
   "cell_type": "code",
   "execution_count": null,
   "id": "approximate-thong",
   "metadata": {},
   "outputs": [],
   "source": [
    "model_accuracy = (df.prediction == df.actual).mean()\n",
    "baseline_accuracy = (df.baseline_prediction == df.actual).mean()\n",
    "\n",
    "print(f'   model accuracy: {model_accuracy:.2%}')\n",
    "print(f'baseline accuracy: {baseline_accuracy:.2%}')\n",
    "\n",
    "\n",
    "\n"
   ]
  },
  {
   "cell_type": "markdown",
   "id": "incorrect-mailman",
   "metadata": {},
   "source": [
    "## You may use this as a template for how to ask and answer each question:"
   ]
  },
  {
   "cell_type": "markdown",
   "id": "overhead-sleep",
   "metadata": {},
   "source": [
    "### 1) Question about the data\n",
    "* Ask a question about the data for which you got a meaningful result\n",
    "* There is no connection can be a meaningful result\n",
    "\n",
    "### 2) Visualization of the data answering the question\n",
    "\n",
    "* Visualizations should be accompanied by take-aways telling the reader exactly what you want them to get from the chart\n",
    "* You can include theses as bullet points under the chart\n",
    "* Use your chart title to provide the main take-away from each visualization\n",
    "* Each visualization should answer one, and only one, of the explore questions\n",
    "\n",
    "### 3) Statistical test\n",
    "* Be sure you are using the correct statistical test for the type of variables you are testing\n",
    "* Be sure that you are not violating any of the assumptions for the statistical test you are choosing\n",
    "* Your notebook should run and produce the results of the test you are using (This may be done through imports)\n",
    "* Include an introduction to the kind of test you are doing\n",
    "* Include the Ho and Ha for the test\n",
    "* Include the alpha you are using\n",
    "* Include the readout of the p-value for the test\n",
    "* Interpret the results of the test in natural language (I reject the null hypothesis is not sufficient)\n",
    "\n",
    "### 4) Answer to the question\n",
    "* Answer the question you posed of the data by referring to the chart and statistical test (if you used one)\n",
    "* If the question relates to drivers, explain why the feature in question would/wouldn't make a good driver"
   ]
  },
  {
   "cell_type": "markdown",
   "id": "iraqi-sellers",
   "metadata": {},
   "source": [
    "## Exploration Summary\n",
    "* After your explore section, before you start modeling, provide a summary of your findings in Explore\n",
    "* Include a summary of your take-aways\n",
    "* Include a summary of the features you examined and weather or not you will be going to Modeling with each feature and why\n",
    "* It is important to note which features will be going into your model so the reader knows what features you are using to model on"
   ]
  },
  {
   "cell_type": "markdown",
   "id": "minus-tulsa",
   "metadata": {},
   "source": [
    "## Modeling"
   ]
  },
  {
   "cell_type": "markdown",
   "id": "hydraulic-spectrum",
   "metadata": {},
   "source": [
    "### Introduction\n",
    "* Explain how you will be evaluating your models\n",
    "* Include the evaluation metric you will be using and why you have chosen it\n",
    "* Create a baseline and briefly explain how it was calculated "
   ]
  },
  {
   "cell_type": "code",
   "execution_count": null,
   "id": "ranging-rebecca",
   "metadata": {},
   "outputs": [],
   "source": [
    "# If you use code to generate your baseline run the code and generate the output here"
   ]
  },
  {
   "cell_type": "markdown",
   "id": "thick-dream",
   "metadata": {},
   "source": [
    "Printout should read: <br>\n",
    "Baseline: \"number\" \"evaluation metric\""
   ]
  },
  {
   "cell_type": "markdown",
   "id": "emotional-purchase",
   "metadata": {},
   "source": [
    "### Best 3 Models\n",
    "* Show the three best model results obtained using your selected features to predict the target variable\n",
    "* Typically students will show the top models they are able to generate for three different model types"
   ]
  },
  {
   "cell_type": "markdown",
   "id": "gentle-capability",
   "metadata": {},
   "source": [
    "## You may use this as a template for how to introduce your models:"
   ]
  },
  {
   "cell_type": "markdown",
   "id": "intensive-vietnamese",
   "metadata": {},
   "source": [
    "### Model Type"
   ]
  },
  {
   "cell_type": "code",
   "execution_count": null,
   "id": "colonial-newport",
   "metadata": {},
   "outputs": [],
   "source": [
    "# Code that runs the best model in that model type goes here \n",
    "# (This may be imported from a module)"
   ]
  },
  {
   "cell_type": "markdown",
   "id": "distinguished-abuse",
   "metadata": {},
   "source": [
    "Printout of model code should read: <br>\n",
    "\"Model Type\" <br>\n",
    "\"evaluation metric\" on train: \"evaluation result\" <br>\n",
    "\"evaluation metric\" on validate: \"evaluation result\""
   ]
  },
  {
   "cell_type": "markdown",
   "id": "regulated-fellowship",
   "metadata": {},
   "source": [
    "### Test Model\n",
    "* Choose the best model out of the three as you best model and explain why you have chosen it\n",
    "* Explain that you will now run your final model on test data to gauge how it will perform on unseen data"
   ]
  },
  {
   "cell_type": "code",
   "execution_count": null,
   "id": "optical-quilt",
   "metadata": {},
   "outputs": [],
   "source": [
    "# Code that runs the best overall model on test data (this may be imported from a module)"
   ]
  },
  {
   "cell_type": "markdown",
   "id": "motivated-recycling",
   "metadata": {},
   "source": [
    "Printout of model code should read: <br>\n",
    "\"Model Type\" <br>\n",
    "\"evaluation metric\" on Test: \"evaluation result\" <br>"
   ]
  },
  {
   "cell_type": "markdown",
   "id": "bright-evans",
   "metadata": {},
   "source": [
    "### Modeling Wrap \n",
    "* Give a final interpretation of how the models test score compares to the baseline and weather you would recommend this model for production"
   ]
  },
  {
   "cell_type": "markdown",
   "id": "tutorial-twelve",
   "metadata": {},
   "source": [
    "## Conclusion\n",
    "\n",
    "### Summery\n",
    "* Summarize your findings and answer the questions you brought up in explore \n",
    "* Summarize how drivers discovered lead or did not lead to a successful model \n",
    "\n",
    "### Recommendations\n",
    "* Recommendations are actions the stakeholder should take based on your insights\n",
    "\n",
    "### Next Steps\n",
    "* Next Steps are what you, as a Data Scientist, would do if provided more time to work on the project"
   ]
  },
  {
   "cell_type": "markdown",
   "id": "tender-source",
   "metadata": {},
   "source": [
    "**Where there is code in your report there should also be code comments telling the reader what each code block is doing. This is true for any and all code blocks even if you are using a function to import code from a module.**\n",
    "<br>\n",
    "<br>\n",
    "**Your Notebook should contain adequate markdown that documents your thought process, decision making, and navigation through the pipeline. As a Data Scientist, your job does not end with making data discoveries. It includes effectively communicating those discoveries as well. This means documentation is a critical part of your job.**"
   ]
  },
  {
   "cell_type": "markdown",
   "id": "frank-castle",
   "metadata": {},
   "source": [
    "# README\n",
    "\n",
    "Your README should contain all of the following elements:\n",
    "\n",
    "* **Title** Gives the name of your project\n",
    "* **Project Description** Describes what your project is and why it is important \n",
    "* **Project Goal** Clearly states what your project sets out to do and how the information gained can be applied to the real world\n",
    "* **Initial Hypotheses** Initial questions used to focus your project \n",
    "* **Project Plan** Guides the reader through the different stages of the pipeline as they relate to your project\n",
    "* **Data Dictionary** Gives a definition for each of the features used in your report and the units they are measured in, if applicable\n",
    "* **Steps to Reproduce** Gives instructions for reproducing your work. i.e. Running your notebook on someone else's computer."
   ]
  }
 ],
 "metadata": {
  "kernelspec": {
   "display_name": "Python 3 (ipykernel)",
   "language": "python",
   "name": "python3"
  },
  "language_info": {
   "codemirror_mode": {
    "name": "ipython",
    "version": 3
   },
   "file_extension": ".py",
   "mimetype": "text/x-python",
   "name": "python",
   "nbconvert_exporter": "python",
   "pygments_lexer": "ipython3",
   "version": "3.9.12"
  }
 },
 "nbformat": 4,
 "nbformat_minor": 5
}
