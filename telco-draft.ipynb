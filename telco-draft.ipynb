{
 "cells": [
  {
   "cell_type": "markdown",
   "id": "premier-milan",
   "metadata": {},
   "source": [
    "# Telco Data: Customer Churn Supposition\n"
   ]
  },
  {
   "cell_type": "markdown",
   "id": "going-assembly",
   "metadata": {},
   "source": [
    "## Imports"
   ]
  },
  {
   "cell_type": "markdown",
   "id": "bbb4faf7",
   "metadata": {},
   "source": [
    "More than a quarter of the Telco customers churn.\n",
    "I ask the following questions and will use tests used in data science scenarios to determine if one of the four factors contributes more than the others to the customer churn percentage.\n",
    "1. Does having tech support affect customer churn rates?\n",
    "2. Does payment type affect customer churn rates?\n",
    "3. Does being a senior citizen affect customer churn rates?\n",
    "4. Does contract type affect customer churn rates?\n"
   ]
  },
  {
   "cell_type": "code",
   "execution_count": 1,
   "id": "0f1c80c3",
   "metadata": {},
   "outputs": [],
   "source": [
    "import pandas as pd\n",
    "import numpy as np\n",
    "import os\n",
    "from sklearn.metrics import confusion_matrix\n",
    "import env\n",
    "import seaborn as sns\n",
    "import matplotlib.pyplot as plt\n",
    "from scipy import stats\n",
    "from sklearn.model_selection import train_test_split\n",
    "from sklearn.tree import DecisionTreeClassifier, plot_tree\n",
    "import re\n",
    "import telco_wrangle as tw\n",
    "# turn off pink warning boxes\n",
    "import warnings\n",
    "warnings.filterwarnings(\"ignore\")"
   ]
  },
  {
   "cell_type": "code",
   "execution_count": 2,
   "id": "07964771",
   "metadata": {},
   "outputs": [],
   "source": [
    "# to see all columns in wide datasets\n",
    "pd.set_option('display.max_columns', None)"
   ]
  },
  {
   "cell_type": "markdown",
   "id": "criminal-glory",
   "metadata": {},
   "source": [
    "## Acquire\n",
    "\n",
    "* I retrieved my data from the Codeup databases using my acquire.py file\n",
    "* I retrieved my data on Tuesday, October 25, 2022\n",
    "* What is the size of your data? There are 24 columns and 7043\n",
    "* What does each observation represent? Each observation represents the customer's account information \n",
    "* What does each column represent? Each column represent a piece of information about the customer's account.  Initial columns represent "
   ]
  },
  {
   "cell_type": "code",
   "execution_count": 3,
   "id": "8ba64e83",
   "metadata": {},
   "outputs": [
    {
     "data": {
      "text/html": [
       "<div>\n",
       "<style scoped>\n",
       "    .dataframe tbody tr th:only-of-type {\n",
       "        vertical-align: middle;\n",
       "    }\n",
       "\n",
       "    .dataframe tbody tr th {\n",
       "        vertical-align: top;\n",
       "    }\n",
       "\n",
       "    .dataframe thead th {\n",
       "        text-align: right;\n",
       "    }\n",
       "</style>\n",
       "<table border=\"1\" class=\"dataframe\">\n",
       "  <thead>\n",
       "    <tr style=\"text-align: right;\">\n",
       "      <th></th>\n",
       "      <th>payment_type_id</th>\n",
       "      <th>internet_service_type_id</th>\n",
       "      <th>contract_type_id</th>\n",
       "      <th>customer_id</th>\n",
       "      <th>gender</th>\n",
       "      <th>senior_citizen</th>\n",
       "      <th>partner</th>\n",
       "      <th>dependents</th>\n",
       "      <th>tenure</th>\n",
       "      <th>phone_service</th>\n",
       "      <th>multiple_lines</th>\n",
       "      <th>online_security</th>\n",
       "      <th>online_backup</th>\n",
       "      <th>device_protection</th>\n",
       "      <th>tech_support</th>\n",
       "      <th>streaming_tv</th>\n",
       "      <th>streaming_movies</th>\n",
       "      <th>paperless_billing</th>\n",
       "      <th>monthly_charges</th>\n",
       "      <th>total_charges</th>\n",
       "      <th>churn</th>\n",
       "      <th>contract_type</th>\n",
       "      <th>internet_service_type</th>\n",
       "      <th>payment_type</th>\n",
       "    </tr>\n",
       "  </thead>\n",
       "  <tbody>\n",
       "    <tr>\n",
       "      <th>0</th>\n",
       "      <td>2</td>\n",
       "      <td>1</td>\n",
       "      <td>2</td>\n",
       "      <td>0002-ORFBO</td>\n",
       "      <td>Female</td>\n",
       "      <td>0</td>\n",
       "      <td>Yes</td>\n",
       "      <td>Yes</td>\n",
       "      <td>9</td>\n",
       "      <td>Yes</td>\n",
       "      <td>No</td>\n",
       "      <td>No</td>\n",
       "      <td>Yes</td>\n",
       "      <td>No</td>\n",
       "      <td>Yes</td>\n",
       "      <td>Yes</td>\n",
       "      <td>No</td>\n",
       "      <td>Yes</td>\n",
       "      <td>65.6</td>\n",
       "      <td>593.3</td>\n",
       "      <td>No</td>\n",
       "      <td>One year</td>\n",
       "      <td>DSL</td>\n",
       "      <td>Mailed check</td>\n",
       "    </tr>\n",
       "    <tr>\n",
       "      <th>1</th>\n",
       "      <td>2</td>\n",
       "      <td>1</td>\n",
       "      <td>1</td>\n",
       "      <td>0003-MKNFE</td>\n",
       "      <td>Male</td>\n",
       "      <td>0</td>\n",
       "      <td>No</td>\n",
       "      <td>No</td>\n",
       "      <td>9</td>\n",
       "      <td>Yes</td>\n",
       "      <td>Yes</td>\n",
       "      <td>No</td>\n",
       "      <td>No</td>\n",
       "      <td>No</td>\n",
       "      <td>No</td>\n",
       "      <td>No</td>\n",
       "      <td>Yes</td>\n",
       "      <td>No</td>\n",
       "      <td>59.9</td>\n",
       "      <td>542.4</td>\n",
       "      <td>No</td>\n",
       "      <td>Month-to-month</td>\n",
       "      <td>DSL</td>\n",
       "      <td>Mailed check</td>\n",
       "    </tr>\n",
       "    <tr>\n",
       "      <th>2</th>\n",
       "      <td>1</td>\n",
       "      <td>2</td>\n",
       "      <td>1</td>\n",
       "      <td>0004-TLHLJ</td>\n",
       "      <td>Male</td>\n",
       "      <td>0</td>\n",
       "      <td>No</td>\n",
       "      <td>No</td>\n",
       "      <td>4</td>\n",
       "      <td>Yes</td>\n",
       "      <td>No</td>\n",
       "      <td>No</td>\n",
       "      <td>No</td>\n",
       "      <td>Yes</td>\n",
       "      <td>No</td>\n",
       "      <td>No</td>\n",
       "      <td>No</td>\n",
       "      <td>Yes</td>\n",
       "      <td>73.9</td>\n",
       "      <td>280.85</td>\n",
       "      <td>Yes</td>\n",
       "      <td>Month-to-month</td>\n",
       "      <td>Fiber optic</td>\n",
       "      <td>Electronic check</td>\n",
       "    </tr>\n",
       "    <tr>\n",
       "      <th>3</th>\n",
       "      <td>1</td>\n",
       "      <td>2</td>\n",
       "      <td>1</td>\n",
       "      <td>0011-IGKFF</td>\n",
       "      <td>Male</td>\n",
       "      <td>1</td>\n",
       "      <td>Yes</td>\n",
       "      <td>No</td>\n",
       "      <td>13</td>\n",
       "      <td>Yes</td>\n",
       "      <td>No</td>\n",
       "      <td>No</td>\n",
       "      <td>Yes</td>\n",
       "      <td>Yes</td>\n",
       "      <td>No</td>\n",
       "      <td>Yes</td>\n",
       "      <td>Yes</td>\n",
       "      <td>Yes</td>\n",
       "      <td>98.0</td>\n",
       "      <td>1237.85</td>\n",
       "      <td>Yes</td>\n",
       "      <td>Month-to-month</td>\n",
       "      <td>Fiber optic</td>\n",
       "      <td>Electronic check</td>\n",
       "    </tr>\n",
       "    <tr>\n",
       "      <th>4</th>\n",
       "      <td>2</td>\n",
       "      <td>2</td>\n",
       "      <td>1</td>\n",
       "      <td>0013-EXCHZ</td>\n",
       "      <td>Female</td>\n",
       "      <td>1</td>\n",
       "      <td>Yes</td>\n",
       "      <td>No</td>\n",
       "      <td>3</td>\n",
       "      <td>Yes</td>\n",
       "      <td>No</td>\n",
       "      <td>No</td>\n",
       "      <td>No</td>\n",
       "      <td>No</td>\n",
       "      <td>Yes</td>\n",
       "      <td>Yes</td>\n",
       "      <td>No</td>\n",
       "      <td>Yes</td>\n",
       "      <td>83.9</td>\n",
       "      <td>267.4</td>\n",
       "      <td>Yes</td>\n",
       "      <td>Month-to-month</td>\n",
       "      <td>Fiber optic</td>\n",
       "      <td>Mailed check</td>\n",
       "    </tr>\n",
       "  </tbody>\n",
       "</table>\n",
       "</div>"
      ],
      "text/plain": [
       "   payment_type_id  internet_service_type_id  contract_type_id customer_id  \\\n",
       "0                2                         1                 2  0002-ORFBO   \n",
       "1                2                         1                 1  0003-MKNFE   \n",
       "2                1                         2                 1  0004-TLHLJ   \n",
       "3                1                         2                 1  0011-IGKFF   \n",
       "4                2                         2                 1  0013-EXCHZ   \n",
       "\n",
       "   gender  senior_citizen partner dependents  tenure phone_service  \\\n",
       "0  Female               0     Yes        Yes       9           Yes   \n",
       "1    Male               0      No         No       9           Yes   \n",
       "2    Male               0      No         No       4           Yes   \n",
       "3    Male               1     Yes         No      13           Yes   \n",
       "4  Female               1     Yes         No       3           Yes   \n",
       "\n",
       "  multiple_lines online_security online_backup device_protection tech_support  \\\n",
       "0             No              No           Yes                No          Yes   \n",
       "1            Yes              No            No                No           No   \n",
       "2             No              No            No               Yes           No   \n",
       "3             No              No           Yes               Yes           No   \n",
       "4             No              No            No                No          Yes   \n",
       "\n",
       "  streaming_tv streaming_movies paperless_billing  monthly_charges  \\\n",
       "0          Yes               No               Yes             65.6   \n",
       "1           No              Yes                No             59.9   \n",
       "2           No               No               Yes             73.9   \n",
       "3          Yes              Yes               Yes             98.0   \n",
       "4          Yes               No               Yes             83.9   \n",
       "\n",
       "  total_charges churn   contract_type internet_service_type      payment_type  \n",
       "0         593.3    No        One year                   DSL      Mailed check  \n",
       "1         542.4    No  Month-to-month                   DSL      Mailed check  \n",
       "2        280.85   Yes  Month-to-month           Fiber optic  Electronic check  \n",
       "3       1237.85   Yes  Month-to-month           Fiber optic  Electronic check  \n",
       "4         267.4   Yes  Month-to-month           Fiber optic      Mailed check  "
      ]
     },
     "execution_count": 3,
     "metadata": {},
     "output_type": "execute_result"
    }
   ],
   "source": [
    "#retrieve data from Codeup sequel database using telco_wrangle \n",
    "df = tw.get_telco_data()\n",
    "df.head()"
   ]
  },
  {
   "cell_type": "code",
   "execution_count": 4,
   "id": "222a4a1f",
   "metadata": {},
   "outputs": [
    {
     "name": "stdout",
     "output_type": "stream",
     "text": [
      "<class 'pandas.core.frame.DataFrame'>\n",
      "Int64Index: 7043 entries, 0 to 7042\n",
      "Data columns (total 24 columns):\n",
      " #   Column                    Non-Null Count  Dtype  \n",
      "---  ------                    --------------  -----  \n",
      " 0   payment_type_id           7043 non-null   int64  \n",
      " 1   internet_service_type_id  7043 non-null   int64  \n",
      " 2   contract_type_id          7043 non-null   int64  \n",
      " 3   customer_id               7043 non-null   object \n",
      " 4   gender                    7043 non-null   object \n",
      " 5   senior_citizen            7043 non-null   int64  \n",
      " 6   partner                   7043 non-null   object \n",
      " 7   dependents                7043 non-null   object \n",
      " 8   tenure                    7043 non-null   int64  \n",
      " 9   phone_service             7043 non-null   object \n",
      " 10  multiple_lines            7043 non-null   object \n",
      " 11  online_security           7043 non-null   object \n",
      " 12  online_backup             7043 non-null   object \n",
      " 13  device_protection         7043 non-null   object \n",
      " 14  tech_support              7043 non-null   object \n",
      " 15  streaming_tv              7043 non-null   object \n",
      " 16  streaming_movies          7043 non-null   object \n",
      " 17  paperless_billing         7043 non-null   object \n",
      " 18  monthly_charges           7043 non-null   float64\n",
      " 19  total_charges             7043 non-null   object \n",
      " 20  churn                     7043 non-null   object \n",
      " 21  contract_type             7043 non-null   object \n",
      " 22  internet_service_type     7043 non-null   object \n",
      " 23  payment_type              7043 non-null   object \n",
      "dtypes: float64(1), int64(5), object(18)\n",
      "memory usage: 1.3+ MB\n"
     ]
    }
   ],
   "source": [
    "# use info to see column names, check for nulls, and datatype. There are 7043 rows and 24 columns\n",
    "df.info()"
   ]
  },
  {
   "cell_type": "code",
   "execution_count": 5,
   "id": "53c283e2",
   "metadata": {},
   "outputs": [
    {
     "data": {
      "text/html": [
       "<div>\n",
       "<style scoped>\n",
       "    .dataframe tbody tr th:only-of-type {\n",
       "        vertical-align: middle;\n",
       "    }\n",
       "\n",
       "    .dataframe tbody tr th {\n",
       "        vertical-align: top;\n",
       "    }\n",
       "\n",
       "    .dataframe thead th {\n",
       "        text-align: right;\n",
       "    }\n",
       "</style>\n",
       "<table border=\"1\" class=\"dataframe\">\n",
       "  <thead>\n",
       "    <tr style=\"text-align: right;\">\n",
       "      <th></th>\n",
       "      <th>payment_type_id</th>\n",
       "      <th>internet_service_type_id</th>\n",
       "      <th>contract_type_id</th>\n",
       "      <th>senior_citizen</th>\n",
       "      <th>tenure</th>\n",
       "      <th>monthly_charges</th>\n",
       "    </tr>\n",
       "  </thead>\n",
       "  <tbody>\n",
       "    <tr>\n",
       "      <th>count</th>\n",
       "      <td>7043.000000</td>\n",
       "      <td>7043.000000</td>\n",
       "      <td>7043.000000</td>\n",
       "      <td>7043.000000</td>\n",
       "      <td>7043.000000</td>\n",
       "      <td>7043.000000</td>\n",
       "    </tr>\n",
       "    <tr>\n",
       "      <th>mean</th>\n",
       "      <td>2.315633</td>\n",
       "      <td>1.872923</td>\n",
       "      <td>1.690473</td>\n",
       "      <td>0.162147</td>\n",
       "      <td>32.371149</td>\n",
       "      <td>64.761692</td>\n",
       "    </tr>\n",
       "    <tr>\n",
       "      <th>std</th>\n",
       "      <td>1.148907</td>\n",
       "      <td>0.737796</td>\n",
       "      <td>0.833755</td>\n",
       "      <td>0.368612</td>\n",
       "      <td>24.559481</td>\n",
       "      <td>30.090047</td>\n",
       "    </tr>\n",
       "    <tr>\n",
       "      <th>min</th>\n",
       "      <td>1.000000</td>\n",
       "      <td>1.000000</td>\n",
       "      <td>1.000000</td>\n",
       "      <td>0.000000</td>\n",
       "      <td>0.000000</td>\n",
       "      <td>18.250000</td>\n",
       "    </tr>\n",
       "    <tr>\n",
       "      <th>25%</th>\n",
       "      <td>1.000000</td>\n",
       "      <td>1.000000</td>\n",
       "      <td>1.000000</td>\n",
       "      <td>0.000000</td>\n",
       "      <td>9.000000</td>\n",
       "      <td>35.500000</td>\n",
       "    </tr>\n",
       "    <tr>\n",
       "      <th>50%</th>\n",
       "      <td>2.000000</td>\n",
       "      <td>2.000000</td>\n",
       "      <td>1.000000</td>\n",
       "      <td>0.000000</td>\n",
       "      <td>29.000000</td>\n",
       "      <td>70.350000</td>\n",
       "    </tr>\n",
       "    <tr>\n",
       "      <th>75%</th>\n",
       "      <td>3.000000</td>\n",
       "      <td>2.000000</td>\n",
       "      <td>2.000000</td>\n",
       "      <td>0.000000</td>\n",
       "      <td>55.000000</td>\n",
       "      <td>89.850000</td>\n",
       "    </tr>\n",
       "    <tr>\n",
       "      <th>max</th>\n",
       "      <td>4.000000</td>\n",
       "      <td>3.000000</td>\n",
       "      <td>3.000000</td>\n",
       "      <td>1.000000</td>\n",
       "      <td>72.000000</td>\n",
       "      <td>118.750000</td>\n",
       "    </tr>\n",
       "  </tbody>\n",
       "</table>\n",
       "</div>"
      ],
      "text/plain": [
       "       payment_type_id  internet_service_type_id  contract_type_id  \\\n",
       "count      7043.000000               7043.000000       7043.000000   \n",
       "mean          2.315633                  1.872923          1.690473   \n",
       "std           1.148907                  0.737796          0.833755   \n",
       "min           1.000000                  1.000000          1.000000   \n",
       "25%           1.000000                  1.000000          1.000000   \n",
       "50%           2.000000                  2.000000          1.000000   \n",
       "75%           3.000000                  2.000000          2.000000   \n",
       "max           4.000000                  3.000000          3.000000   \n",
       "\n",
       "       senior_citizen       tenure  monthly_charges  \n",
       "count     7043.000000  7043.000000      7043.000000  \n",
       "mean         0.162147    32.371149        64.761692  \n",
       "std          0.368612    24.559481        30.090047  \n",
       "min          0.000000     0.000000        18.250000  \n",
       "25%          0.000000     9.000000        35.500000  \n",
       "50%          0.000000    29.000000        70.350000  \n",
       "75%          0.000000    55.000000        89.850000  \n",
       "max          1.000000    72.000000       118.750000  "
      ]
     },
     "execution_count": 5,
     "metadata": {},
     "output_type": "execute_result"
    }
   ],
   "source": [
    "# check spread of data\n",
    "df.describe()"
   ]
  },
  {
   "cell_type": "markdown",
   "id": "impossible-bible",
   "metadata": {},
   "source": [
    "## Prepare\n",
    "\n",
    "* List steps taken to clean your data here\n",
    "* In particular call out how you handle null values and outliers in detail\n",
    "* You must do this even if you do not do anything or do not encounter any\n",
    "* Any time there is potential to make changes to the data you must be upfront about the changes you make or do not make"
   ]
  },
  {
   "cell_type": "raw",
   "id": "e3931c7a",
   "metadata": {},
   "source": [
    "In the prep file the object data types were converted, as well as, the target variable, churn,\n",
    "was converted from a string to an integer -- 1 or 0."
   ]
  },
  {
   "cell_type": "code",
   "execution_count": 6,
   "id": "bdc46c53",
   "metadata": {},
   "outputs": [
    {
     "data": {
      "text/plain": [
       "No     5174\n",
       "Yes    1869\n",
       "Name: churn, dtype: int64"
      ]
     },
     "execution_count": 6,
     "metadata": {},
     "output_type": "execute_result"
    }
   ],
   "source": [
    "# see churn rates\n",
    "df.churn.value_counts() "
   ]
  },
  {
   "cell_type": "code",
   "execution_count": 7,
   "id": "2803b0c1",
   "metadata": {},
   "outputs": [
    {
     "data": {
      "text/plain": [
       "26.536987079369588"
      ]
     },
     "execution_count": 7,
     "metadata": {},
     "output_type": "execute_result"
    }
   ],
   "source": [
    "# calculate baseline\n",
    "# This is a huge churn percentage\n",
    "churn_baseline = 1869/(5174 + 1869) * 100\n",
    "churn_baseline"
   ]
  },
  {
   "cell_type": "raw",
   "id": "10df1bf0",
   "metadata": {},
   "source": [
    "Data wrangling was completed through the use of telco_wrangle file, as was the split of the data.\n"
   ]
  },
  {
   "cell_type": "code",
   "execution_count": 8,
   "id": "d1160775",
   "metadata": {},
   "outputs": [],
   "source": [
    "# split the data\n",
    "train, validate, test = tw.prep_telco_data(df)"
   ]
  },
  {
   "cell_type": "code",
   "execution_count": 9,
   "id": "2c991009",
   "metadata": {},
   "outputs": [
    {
     "data": {
      "text/html": [
       "<div>\n",
       "<style scoped>\n",
       "    .dataframe tbody tr th:only-of-type {\n",
       "        vertical-align: middle;\n",
       "    }\n",
       "\n",
       "    .dataframe tbody tr th {\n",
       "        vertical-align: top;\n",
       "    }\n",
       "\n",
       "    .dataframe thead th {\n",
       "        text-align: right;\n",
       "    }\n",
       "</style>\n",
       "<table border=\"1\" class=\"dataframe\">\n",
       "  <thead>\n",
       "    <tr style=\"text-align: right;\">\n",
       "      <th></th>\n",
       "      <th>payment_type_id</th>\n",
       "      <th>gender</th>\n",
       "      <th>senior_citizen</th>\n",
       "      <th>partner</th>\n",
       "      <th>dependents</th>\n",
       "      <th>tenure</th>\n",
       "      <th>phone_service</th>\n",
       "      <th>multiple_lines</th>\n",
       "      <th>online_security</th>\n",
       "      <th>online_backup</th>\n",
       "      <th>device_protection</th>\n",
       "      <th>tech_support</th>\n",
       "      <th>streaming_tv</th>\n",
       "      <th>streaming_movies</th>\n",
       "      <th>paperless_billing</th>\n",
       "      <th>monthly_charges</th>\n",
       "      <th>total_charges</th>\n",
       "      <th>churn</th>\n",
       "      <th>contract_type</th>\n",
       "      <th>internet_service_type</th>\n",
       "      <th>payment_type</th>\n",
       "      <th>gender_encoded</th>\n",
       "      <th>partner_encoded</th>\n",
       "      <th>dependents_encoded</th>\n",
       "      <th>phone_service_encoded</th>\n",
       "      <th>paperless_billing_encoded</th>\n",
       "      <th>churn_encoded</th>\n",
       "      <th>multiple_lines_No phone service</th>\n",
       "      <th>multiple_lines_Yes</th>\n",
       "      <th>online_security_No internet service</th>\n",
       "      <th>online_security_Yes</th>\n",
       "      <th>online_backup_No internet service</th>\n",
       "      <th>online_backup_Yes</th>\n",
       "      <th>device_protection_No internet service</th>\n",
       "      <th>device_protection_Yes</th>\n",
       "      <th>streaming_tv_No internet service</th>\n",
       "      <th>streaming_tv_Yes</th>\n",
       "      <th>streaming_movies_No internet service</th>\n",
       "      <th>streaming_movies_Yes</th>\n",
       "      <th>internet_service_type_Fiber optic</th>\n",
       "      <th>internet_service_type_None</th>\n",
       "      <th>tech_support_No</th>\n",
       "      <th>tech_support_No internet service</th>\n",
       "      <th>tech_support_Yes</th>\n",
       "      <th>payment_type_Bank transfer (automatic)</th>\n",
       "      <th>payment_type_Credit card (automatic)</th>\n",
       "      <th>payment_type_Electronic check</th>\n",
       "      <th>payment_type_Mailed check</th>\n",
       "      <th>contract_type_Month-to-month</th>\n",
       "      <th>contract_type_One year</th>\n",
       "      <th>contract_type_Two year</th>\n",
       "    </tr>\n",
       "  </thead>\n",
       "  <tbody>\n",
       "    <tr>\n",
       "      <th>5919</th>\n",
       "      <td>4</td>\n",
       "      <td>Female</td>\n",
       "      <td>0</td>\n",
       "      <td>No</td>\n",
       "      <td>No</td>\n",
       "      <td>58</td>\n",
       "      <td>Yes</td>\n",
       "      <td>Yes</td>\n",
       "      <td>Yes</td>\n",
       "      <td>Yes</td>\n",
       "      <td>Yes</td>\n",
       "      <td>Yes</td>\n",
       "      <td>No</td>\n",
       "      <td>No</td>\n",
       "      <td>Yes</td>\n",
       "      <td>71.10</td>\n",
       "      <td>4299.20</td>\n",
       "      <td>No</td>\n",
       "      <td>One year</td>\n",
       "      <td>DSL</td>\n",
       "      <td>Credit card (automatic)</td>\n",
       "      <td>1</td>\n",
       "      <td>0</td>\n",
       "      <td>0</td>\n",
       "      <td>1</td>\n",
       "      <td>1</td>\n",
       "      <td>0</td>\n",
       "      <td>0</td>\n",
       "      <td>1</td>\n",
       "      <td>0</td>\n",
       "      <td>1</td>\n",
       "      <td>0</td>\n",
       "      <td>1</td>\n",
       "      <td>0</td>\n",
       "      <td>1</td>\n",
       "      <td>0</td>\n",
       "      <td>0</td>\n",
       "      <td>0</td>\n",
       "      <td>0</td>\n",
       "      <td>0</td>\n",
       "      <td>0</td>\n",
       "      <td>0</td>\n",
       "      <td>0</td>\n",
       "      <td>1</td>\n",
       "      <td>0</td>\n",
       "      <td>1</td>\n",
       "      <td>0</td>\n",
       "      <td>0</td>\n",
       "      <td>0</td>\n",
       "      <td>1</td>\n",
       "      <td>0</td>\n",
       "    </tr>\n",
       "    <tr>\n",
       "      <th>1915</th>\n",
       "      <td>4</td>\n",
       "      <td>Male</td>\n",
       "      <td>0</td>\n",
       "      <td>No</td>\n",
       "      <td>Yes</td>\n",
       "      <td>71</td>\n",
       "      <td>Yes</td>\n",
       "      <td>Yes</td>\n",
       "      <td>Yes</td>\n",
       "      <td>Yes</td>\n",
       "      <td>No</td>\n",
       "      <td>No</td>\n",
       "      <td>No</td>\n",
       "      <td>No</td>\n",
       "      <td>Yes</td>\n",
       "      <td>85.45</td>\n",
       "      <td>6028.95</td>\n",
       "      <td>No</td>\n",
       "      <td>One year</td>\n",
       "      <td>Fiber optic</td>\n",
       "      <td>Credit card (automatic)</td>\n",
       "      <td>0</td>\n",
       "      <td>0</td>\n",
       "      <td>1</td>\n",
       "      <td>1</td>\n",
       "      <td>1</td>\n",
       "      <td>0</td>\n",
       "      <td>0</td>\n",
       "      <td>1</td>\n",
       "      <td>0</td>\n",
       "      <td>1</td>\n",
       "      <td>0</td>\n",
       "      <td>1</td>\n",
       "      <td>0</td>\n",
       "      <td>0</td>\n",
       "      <td>0</td>\n",
       "      <td>0</td>\n",
       "      <td>0</td>\n",
       "      <td>0</td>\n",
       "      <td>1</td>\n",
       "      <td>0</td>\n",
       "      <td>1</td>\n",
       "      <td>0</td>\n",
       "      <td>0</td>\n",
       "      <td>0</td>\n",
       "      <td>1</td>\n",
       "      <td>0</td>\n",
       "      <td>0</td>\n",
       "      <td>0</td>\n",
       "      <td>1</td>\n",
       "      <td>0</td>\n",
       "    </tr>\n",
       "    <tr>\n",
       "      <th>5054</th>\n",
       "      <td>1</td>\n",
       "      <td>Female</td>\n",
       "      <td>0</td>\n",
       "      <td>Yes</td>\n",
       "      <td>Yes</td>\n",
       "      <td>35</td>\n",
       "      <td>Yes</td>\n",
       "      <td>Yes</td>\n",
       "      <td>No internet service</td>\n",
       "      <td>No internet service</td>\n",
       "      <td>No internet service</td>\n",
       "      <td>No internet service</td>\n",
       "      <td>No internet service</td>\n",
       "      <td>No internet service</td>\n",
       "      <td>Yes</td>\n",
       "      <td>25.75</td>\n",
       "      <td>882.55</td>\n",
       "      <td>No</td>\n",
       "      <td>Month-to-month</td>\n",
       "      <td>None</td>\n",
       "      <td>Electronic check</td>\n",
       "      <td>1</td>\n",
       "      <td>1</td>\n",
       "      <td>1</td>\n",
       "      <td>1</td>\n",
       "      <td>1</td>\n",
       "      <td>0</td>\n",
       "      <td>0</td>\n",
       "      <td>1</td>\n",
       "      <td>1</td>\n",
       "      <td>0</td>\n",
       "      <td>1</td>\n",
       "      <td>0</td>\n",
       "      <td>1</td>\n",
       "      <td>0</td>\n",
       "      <td>1</td>\n",
       "      <td>0</td>\n",
       "      <td>1</td>\n",
       "      <td>0</td>\n",
       "      <td>0</td>\n",
       "      <td>1</td>\n",
       "      <td>0</td>\n",
       "      <td>1</td>\n",
       "      <td>0</td>\n",
       "      <td>0</td>\n",
       "      <td>0</td>\n",
       "      <td>1</td>\n",
       "      <td>0</td>\n",
       "      <td>1</td>\n",
       "      <td>0</td>\n",
       "      <td>0</td>\n",
       "    </tr>\n",
       "    <tr>\n",
       "      <th>2355</th>\n",
       "      <td>2</td>\n",
       "      <td>Male</td>\n",
       "      <td>0</td>\n",
       "      <td>Yes</td>\n",
       "      <td>Yes</td>\n",
       "      <td>1</td>\n",
       "      <td>Yes</td>\n",
       "      <td>No</td>\n",
       "      <td>No internet service</td>\n",
       "      <td>No internet service</td>\n",
       "      <td>No internet service</td>\n",
       "      <td>No internet service</td>\n",
       "      <td>No internet service</td>\n",
       "      <td>No internet service</td>\n",
       "      <td>No</td>\n",
       "      <td>19.20</td>\n",
       "      <td>19.20</td>\n",
       "      <td>No</td>\n",
       "      <td>Month-to-month</td>\n",
       "      <td>None</td>\n",
       "      <td>Mailed check</td>\n",
       "      <td>0</td>\n",
       "      <td>1</td>\n",
       "      <td>1</td>\n",
       "      <td>1</td>\n",
       "      <td>0</td>\n",
       "      <td>0</td>\n",
       "      <td>0</td>\n",
       "      <td>0</td>\n",
       "      <td>1</td>\n",
       "      <td>0</td>\n",
       "      <td>1</td>\n",
       "      <td>0</td>\n",
       "      <td>1</td>\n",
       "      <td>0</td>\n",
       "      <td>1</td>\n",
       "      <td>0</td>\n",
       "      <td>1</td>\n",
       "      <td>0</td>\n",
       "      <td>0</td>\n",
       "      <td>1</td>\n",
       "      <td>0</td>\n",
       "      <td>1</td>\n",
       "      <td>0</td>\n",
       "      <td>0</td>\n",
       "      <td>0</td>\n",
       "      <td>0</td>\n",
       "      <td>1</td>\n",
       "      <td>1</td>\n",
       "      <td>0</td>\n",
       "      <td>0</td>\n",
       "    </tr>\n",
       "    <tr>\n",
       "      <th>6279</th>\n",
       "      <td>2</td>\n",
       "      <td>Male</td>\n",
       "      <td>1</td>\n",
       "      <td>No</td>\n",
       "      <td>No</td>\n",
       "      <td>20</td>\n",
       "      <td>Yes</td>\n",
       "      <td>No</td>\n",
       "      <td>Yes</td>\n",
       "      <td>No</td>\n",
       "      <td>No</td>\n",
       "      <td>Yes</td>\n",
       "      <td>No</td>\n",
       "      <td>No</td>\n",
       "      <td>No</td>\n",
       "      <td>54.00</td>\n",
       "      <td>1055.90</td>\n",
       "      <td>No</td>\n",
       "      <td>One year</td>\n",
       "      <td>DSL</td>\n",
       "      <td>Mailed check</td>\n",
       "      <td>0</td>\n",
       "      <td>0</td>\n",
       "      <td>0</td>\n",
       "      <td>1</td>\n",
       "      <td>0</td>\n",
       "      <td>0</td>\n",
       "      <td>0</td>\n",
       "      <td>0</td>\n",
       "      <td>0</td>\n",
       "      <td>1</td>\n",
       "      <td>0</td>\n",
       "      <td>0</td>\n",
       "      <td>0</td>\n",
       "      <td>0</td>\n",
       "      <td>0</td>\n",
       "      <td>0</td>\n",
       "      <td>0</td>\n",
       "      <td>0</td>\n",
       "      <td>0</td>\n",
       "      <td>0</td>\n",
       "      <td>0</td>\n",
       "      <td>0</td>\n",
       "      <td>1</td>\n",
       "      <td>0</td>\n",
       "      <td>0</td>\n",
       "      <td>0</td>\n",
       "      <td>1</td>\n",
       "      <td>0</td>\n",
       "      <td>1</td>\n",
       "      <td>0</td>\n",
       "    </tr>\n",
       "  </tbody>\n",
       "</table>\n",
       "</div>"
      ],
      "text/plain": [
       "      payment_type_id  gender  senior_citizen partner dependents  tenure  \\\n",
       "5919                4  Female               0      No         No      58   \n",
       "1915                4    Male               0      No        Yes      71   \n",
       "5054                1  Female               0     Yes        Yes      35   \n",
       "2355                2    Male               0     Yes        Yes       1   \n",
       "6279                2    Male               1      No         No      20   \n",
       "\n",
       "     phone_service multiple_lines      online_security        online_backup  \\\n",
       "5919           Yes            Yes                  Yes                  Yes   \n",
       "1915           Yes            Yes                  Yes                  Yes   \n",
       "5054           Yes            Yes  No internet service  No internet service   \n",
       "2355           Yes             No  No internet service  No internet service   \n",
       "6279           Yes             No                  Yes                   No   \n",
       "\n",
       "        device_protection         tech_support         streaming_tv  \\\n",
       "5919                  Yes                  Yes                   No   \n",
       "1915                   No                   No                   No   \n",
       "5054  No internet service  No internet service  No internet service   \n",
       "2355  No internet service  No internet service  No internet service   \n",
       "6279                   No                  Yes                   No   \n",
       "\n",
       "         streaming_movies paperless_billing  monthly_charges  total_charges  \\\n",
       "5919                   No               Yes            71.10        4299.20   \n",
       "1915                   No               Yes            85.45        6028.95   \n",
       "5054  No internet service               Yes            25.75         882.55   \n",
       "2355  No internet service                No            19.20          19.20   \n",
       "6279                   No                No            54.00        1055.90   \n",
       "\n",
       "     churn   contract_type internet_service_type             payment_type  \\\n",
       "5919    No        One year                   DSL  Credit card (automatic)   \n",
       "1915    No        One year           Fiber optic  Credit card (automatic)   \n",
       "5054    No  Month-to-month                  None         Electronic check   \n",
       "2355    No  Month-to-month                  None             Mailed check   \n",
       "6279    No        One year                   DSL             Mailed check   \n",
       "\n",
       "      gender_encoded  partner_encoded  dependents_encoded  \\\n",
       "5919               1                0                   0   \n",
       "1915               0                0                   1   \n",
       "5054               1                1                   1   \n",
       "2355               0                1                   1   \n",
       "6279               0                0                   0   \n",
       "\n",
       "      phone_service_encoded  paperless_billing_encoded  churn_encoded  \\\n",
       "5919                      1                          1              0   \n",
       "1915                      1                          1              0   \n",
       "5054                      1                          1              0   \n",
       "2355                      1                          0              0   \n",
       "6279                      1                          0              0   \n",
       "\n",
       "      multiple_lines_No phone service  multiple_lines_Yes  \\\n",
       "5919                                0                   1   \n",
       "1915                                0                   1   \n",
       "5054                                0                   1   \n",
       "2355                                0                   0   \n",
       "6279                                0                   0   \n",
       "\n",
       "      online_security_No internet service  online_security_Yes  \\\n",
       "5919                                    0                    1   \n",
       "1915                                    0                    1   \n",
       "5054                                    1                    0   \n",
       "2355                                    1                    0   \n",
       "6279                                    0                    1   \n",
       "\n",
       "      online_backup_No internet service  online_backup_Yes  \\\n",
       "5919                                  0                  1   \n",
       "1915                                  0                  1   \n",
       "5054                                  1                  0   \n",
       "2355                                  1                  0   \n",
       "6279                                  0                  0   \n",
       "\n",
       "      device_protection_No internet service  device_protection_Yes  \\\n",
       "5919                                      0                      1   \n",
       "1915                                      0                      0   \n",
       "5054                                      1                      0   \n",
       "2355                                      1                      0   \n",
       "6279                                      0                      0   \n",
       "\n",
       "      streaming_tv_No internet service  streaming_tv_Yes  \\\n",
       "5919                                 0                 0   \n",
       "1915                                 0                 0   \n",
       "5054                                 1                 0   \n",
       "2355                                 1                 0   \n",
       "6279                                 0                 0   \n",
       "\n",
       "      streaming_movies_No internet service  streaming_movies_Yes  \\\n",
       "5919                                     0                     0   \n",
       "1915                                     0                     0   \n",
       "5054                                     1                     0   \n",
       "2355                                     1                     0   \n",
       "6279                                     0                     0   \n",
       "\n",
       "      internet_service_type_Fiber optic  internet_service_type_None  \\\n",
       "5919                                  0                           0   \n",
       "1915                                  1                           0   \n",
       "5054                                  0                           1   \n",
       "2355                                  0                           1   \n",
       "6279                                  0                           0   \n",
       "\n",
       "      tech_support_No  tech_support_No internet service  tech_support_Yes  \\\n",
       "5919                0                                 0                 1   \n",
       "1915                1                                 0                 0   \n",
       "5054                0                                 1                 0   \n",
       "2355                0                                 1                 0   \n",
       "6279                0                                 0                 1   \n",
       "\n",
       "      payment_type_Bank transfer (automatic)  \\\n",
       "5919                                       0   \n",
       "1915                                       0   \n",
       "5054                                       0   \n",
       "2355                                       0   \n",
       "6279                                       0   \n",
       "\n",
       "      payment_type_Credit card (automatic)  payment_type_Electronic check  \\\n",
       "5919                                     1                              0   \n",
       "1915                                     1                              0   \n",
       "5054                                     0                              1   \n",
       "2355                                     0                              0   \n",
       "6279                                     0                              0   \n",
       "\n",
       "      payment_type_Mailed check  contract_type_Month-to-month  \\\n",
       "5919                          0                             0   \n",
       "1915                          0                             0   \n",
       "5054                          0                             1   \n",
       "2355                          1                             1   \n",
       "6279                          1                             0   \n",
       "\n",
       "      contract_type_One year  contract_type_Two year  \n",
       "5919                       1                       0  \n",
       "1915                       1                       0  \n",
       "5054                       0                       0  \n",
       "2355                       0                       0  \n",
       "6279                       1                       0  "
      ]
     },
     "execution_count": 9,
     "metadata": {},
     "output_type": "execute_result"
    }
   ],
   "source": [
    "train.head()"
   ]
  },
  {
   "cell_type": "code",
   "execution_count": 10,
   "id": "4e651ab7",
   "metadata": {},
   "outputs": [
    {
     "name": "stdout",
     "output_type": "stream",
     "text": [
      "<class 'pandas.core.frame.DataFrame'>\n",
      "Int64Index: 3937 entries, 5919 to 4192\n",
      "Data columns (total 51 columns):\n",
      " #   Column                                  Non-Null Count  Dtype  \n",
      "---  ------                                  --------------  -----  \n",
      " 0   payment_type_id                         3937 non-null   int64  \n",
      " 1   gender                                  3937 non-null   object \n",
      " 2   senior_citizen                          3937 non-null   int64  \n",
      " 3   partner                                 3937 non-null   object \n",
      " 4   dependents                              3937 non-null   object \n",
      " 5   tenure                                  3937 non-null   int64  \n",
      " 6   phone_service                           3937 non-null   object \n",
      " 7   multiple_lines                          3937 non-null   object \n",
      " 8   online_security                         3937 non-null   object \n",
      " 9   online_backup                           3937 non-null   object \n",
      " 10  device_protection                       3937 non-null   object \n",
      " 11  tech_support                            3937 non-null   object \n",
      " 12  streaming_tv                            3937 non-null   object \n",
      " 13  streaming_movies                        3937 non-null   object \n",
      " 14  paperless_billing                       3937 non-null   object \n",
      " 15  monthly_charges                         3937 non-null   float64\n",
      " 16  total_charges                           3937 non-null   float64\n",
      " 17  churn                                   3937 non-null   object \n",
      " 18  contract_type                           3937 non-null   object \n",
      " 19  internet_service_type                   3937 non-null   object \n",
      " 20  payment_type                            3937 non-null   object \n",
      " 21  gender_encoded                          3937 non-null   int64  \n",
      " 22  partner_encoded                         3937 non-null   int64  \n",
      " 23  dependents_encoded                      3937 non-null   int64  \n",
      " 24  phone_service_encoded                   3937 non-null   int64  \n",
      " 25  paperless_billing_encoded               3937 non-null   int64  \n",
      " 26  churn_encoded                           3937 non-null   int64  \n",
      " 27  multiple_lines_No phone service         3937 non-null   uint8  \n",
      " 28  multiple_lines_Yes                      3937 non-null   uint8  \n",
      " 29  online_security_No internet service     3937 non-null   uint8  \n",
      " 30  online_security_Yes                     3937 non-null   uint8  \n",
      " 31  online_backup_No internet service       3937 non-null   uint8  \n",
      " 32  online_backup_Yes                       3937 non-null   uint8  \n",
      " 33  device_protection_No internet service   3937 non-null   uint8  \n",
      " 34  device_protection_Yes                   3937 non-null   uint8  \n",
      " 35  streaming_tv_No internet service        3937 non-null   uint8  \n",
      " 36  streaming_tv_Yes                        3937 non-null   uint8  \n",
      " 37  streaming_movies_No internet service    3937 non-null   uint8  \n",
      " 38  streaming_movies_Yes                    3937 non-null   uint8  \n",
      " 39  internet_service_type_Fiber optic       3937 non-null   uint8  \n",
      " 40  internet_service_type_None              3937 non-null   uint8  \n",
      " 41  tech_support_No                         3937 non-null   uint8  \n",
      " 42  tech_support_No internet service        3937 non-null   uint8  \n",
      " 43  tech_support_Yes                        3937 non-null   uint8  \n",
      " 44  payment_type_Bank transfer (automatic)  3937 non-null   uint8  \n",
      " 45  payment_type_Credit card (automatic)    3937 non-null   uint8  \n",
      " 46  payment_type_Electronic check           3937 non-null   uint8  \n",
      " 47  payment_type_Mailed check               3937 non-null   uint8  \n",
      " 48  contract_type_Month-to-month            3937 non-null   uint8  \n",
      " 49  contract_type_One year                  3937 non-null   uint8  \n",
      " 50  contract_type_Two year                  3937 non-null   uint8  \n",
      "dtypes: float64(2), int64(9), object(16), uint8(24)\n",
      "memory usage: 953.5+ KB\n"
     ]
    }
   ],
   "source": [
    "# use info to see column names, check for nulls, and datatype. There are 3937 rows and 51 columns\n",
    "train.info()"
   ]
  },
  {
   "cell_type": "code",
   "execution_count": 11,
   "id": "b26ce313",
   "metadata": {},
   "outputs": [
    {
     "data": {
      "text/plain": [
       "No     2891\n",
       "Yes    1046\n",
       "Name: churn, dtype: int64"
      ]
     },
     "execution_count": 11,
     "metadata": {},
     "output_type": "execute_result"
    }
   ],
   "source": [
    "# see churn values\n",
    "train.churn.value_counts()"
   ]
  },
  {
   "cell_type": "code",
   "execution_count": 12,
   "id": "4f50136c",
   "metadata": {},
   "outputs": [
    {
     "data": {
      "text/plain": [
       "0    2891\n",
       "1    1046\n",
       "Name: churn_encoded, dtype: int64"
      ]
     },
     "execution_count": 12,
     "metadata": {},
     "output_type": "execute_result"
    }
   ],
   "source": [
    "train.churn_encoded.value_counts()"
   ]
  },
  {
   "cell_type": "code",
   "execution_count": 13,
   "id": "2187bc97",
   "metadata": {},
   "outputs": [
    {
     "data": {
      "text/plain": [
       "26.56845313690627"
      ]
     },
     "execution_count": 13,
     "metadata": {},
     "output_type": "execute_result"
    }
   ],
   "source": [
    "# comparing the before and after churn value comparison\n",
    "#churn_baseline = 1869/(5174 + 1869) * 100\n",
    "#churn_baseline =26.536987079369588\n",
    "\n",
    "train_churn_baseline = 1046/(2891+1046)* 100\n",
    "train_churn_baseline"
   ]
  },
  {
   "cell_type": "code",
   "execution_count": 14,
   "id": "95c548f8",
   "metadata": {},
   "outputs": [],
   "source": [
    "# create X & y version of train, where y is a series with just the target variable and X are all the features. \n",
    "\n",
    "X_train = train.drop(columns=['churn_encoded'])\n",
    "y_train = train.churn_encoded\n",
    "\n",
    "X_validate = validate.drop(columns=['churn_encoded'])\n",
    "y_validate = validate.churn_encoded\n",
    "\n",
    "X_test = test.drop(columns=['churn_encoded'])\n",
    "y_test = test.churn_encoded\n"
   ]
  },
  {
   "cell_type": "markdown",
   "id": "immediate-mirror",
   "metadata": {},
   "source": [
    "# Explore\n",
    "\n",
    "* Here you will explore your data then highlight 4 questions that you asked of the data and how those questions influenced your analysis\n",
    "* Remember to split your data before exploring how different variables relate to one another\n",
    "* Each question should be stated directly \n",
    "* Each question should be supported by a visualization\n",
    "* Each question should be answered in natural language\n",
    "* Two questions must be supported by a statistical test, but you may choose to support more than two\n",
    "* See the following example, and read the comments in the next cell"
   ]
  },
  {
   "cell_type": "markdown",
   "id": "e0286182",
   "metadata": {},
   "source": [
    "## 1. Does having tech support affect customer churn rates?\n"
   ]
  },
  {
   "cell_type": "code",
   "execution_count": 15,
   "id": "4c7c8d5d",
   "metadata": {},
   "outputs": [
    {
     "data": {
      "text/plain": [
       "0    2798\n",
       "1    1139\n",
       "Name: tech_support_Yes, dtype: int64"
      ]
     },
     "execution_count": 15,
     "metadata": {},
     "output_type": "execute_result"
    }
   ],
   "source": [
    "train.tech_support_Yes.value_counts()\n"
   ]
  },
  {
   "cell_type": "code",
   "execution_count": 16,
   "id": "7407098f",
   "metadata": {},
   "outputs": [
    {
     "data": {
      "text/plain": [
       "0    0.710693\n",
       "1    0.289307\n",
       "Name: tech_support_Yes, dtype: float64"
      ]
     },
     "execution_count": 16,
     "metadata": {},
     "output_type": "execute_result"
    }
   ],
   "source": [
    "train.tech_support_Yes.value_counts(normalize=True)\n"
   ]
  },
  {
   "cell_type": "code",
   "execution_count": 17,
   "id": "132fa221",
   "metadata": {},
   "outputs": [
    {
     "name": "stdout",
     "output_type": "stream",
     "text": [
      "Is there a relationship between tech support and churn?\n"
     ]
    },
    {
     "data": {
      "text/html": [
       "<style type=\"text/css\">\n",
       "#T_f6eff_row0_col0, #T_f6eff_row1_col1 {\n",
       "  background-color: #f7fcf5;\n",
       "  color: #000000;\n",
       "}\n",
       "#T_f6eff_row0_col1, #T_f6eff_row1_col0 {\n",
       "  background-color: #00441b;\n",
       "  color: #f1f1f1;\n",
       "}\n",
       "</style>\n",
       "<table id=\"T_f6eff\">\n",
       "  <thead>\n",
       "    <tr>\n",
       "      <th class=\"index_name level0\" >churn_encoded</th>\n",
       "      <th id=\"T_f6eff_level0_col0\" class=\"col_heading level0 col0\" >0</th>\n",
       "      <th id=\"T_f6eff_level0_col1\" class=\"col_heading level0 col1\" >1</th>\n",
       "    </tr>\n",
       "    <tr>\n",
       "      <th class=\"index_name level0\" >tech_support_Yes</th>\n",
       "      <th class=\"blank col0\" >&nbsp;</th>\n",
       "      <th class=\"blank col1\" >&nbsp;</th>\n",
       "    </tr>\n",
       "  </thead>\n",
       "  <tbody>\n",
       "    <tr>\n",
       "      <th id=\"T_f6eff_level0_row0\" class=\"row_heading level0 row0\" >0</th>\n",
       "      <td id=\"T_f6eff_row0_col0\" class=\"data row0 col0\" >0.689421</td>\n",
       "      <td id=\"T_f6eff_row0_col1\" class=\"data row0 col1\" >0.310579</td>\n",
       "    </tr>\n",
       "    <tr>\n",
       "      <th id=\"T_f6eff_level0_row1\" class=\"row_heading level0 row1\" >1</th>\n",
       "      <td id=\"T_f6eff_row1_col0\" class=\"data row1 col0\" >0.844601</td>\n",
       "      <td id=\"T_f6eff_row1_col1\" class=\"data row1 col1\" >0.155399</td>\n",
       "    </tr>\n",
       "  </tbody>\n",
       "</table>\n"
      ],
      "text/plain": [
       "<pandas.io.formats.style.Styler at 0x138a27e80>"
      ]
     },
     "execution_count": 17,
     "metadata": {},
     "output_type": "execute_result"
    }
   ],
   "source": [
    "print('Is there a relationship between tech support and churn?')\n",
    "pd.crosstab(X_train.tech_support_Yes, y_train, normalize='index').style.background_gradient(cmap='Greens')\n"
   ]
  },
  {
   "cell_type": "code",
   "execution_count": null,
   "id": "be060111",
   "metadata": {},
   "outputs": [],
   "source": [
    "plt.title(\"Senior Citizens\")\n",
    "train.senior_citizen.hist()\n",
    "plt.show()"
   ]
  },
  {
   "cell_type": "code",
   "execution_count": null,
   "id": "e37cd184",
   "metadata": {},
   "outputs": [],
   "source": [
    "train.senior_citizen.value_counts(normalize=True)\n"
   ]
  },
  {
   "cell_type": "code",
   "execution_count": null,
   "id": "227f1b2e",
   "metadata": {},
   "outputs": [],
   "source": [
    "plt.title(\"Payment Type\")\n",
    "train.payment_type.hist()\n",
    "plt.show()"
   ]
  },
  {
   "cell_type": "code",
   "execution_count": null,
   "id": "a5b81c9f",
   "metadata": {},
   "outputs": [],
   "source": [
    "train.payment_type.value_counts(normalize=True)"
   ]
  },
  {
   "cell_type": "code",
   "execution_count": null,
   "id": "b3b30a26",
   "metadata": {},
   "outputs": [],
   "source": [
    "plt.title(\"contract_type\")\n",
    "train.contract_type.hist()\n",
    "plt.show()"
   ]
  },
  {
   "cell_type": "code",
   "execution_count": null,
   "id": "ab9b9321",
   "metadata": {},
   "outputs": [],
   "source": [
    "train.contract_type.value_counts(normalize=True)\n"
   ]
  },
  {
   "cell_type": "code",
   "execution_count": null,
   "id": "eba2c09d",
   "metadata": {},
   "outputs": [],
   "source": [
    "pd.crosstab(train.tech_support_Yes, train.churn, normalize='index').plot.bar(stacked=False)\n",
    "pd.crosstab(train.payment_type, train.churn, normalize='index').plot.bar(stacked=False)\n",
    "pd.crosstab(train.senior_citizen, train.churn, normalize='index').plot.bar(stacked=False)\n",
    "pd.crosstab(train.contract_type, train.churn, normalize='index').plot.bar(stacked=False)\n"
   ]
  },
  {
   "cell_type": "code",
   "execution_count": null,
   "id": "0dc428e6",
   "metadata": {},
   "outputs": [],
   "source": [
    "churn_valcount = train.churn.value_counts()"
   ]
  },
  {
   "cell_type": "code",
   "execution_count": null,
   "id": "7477a383",
   "metadata": {},
   "outputs": [],
   "source": [
    "churn_valcount"
   ]
  },
  {
   "cell_type": "code",
   "execution_count": null,
   "id": "cad5700f",
   "metadata": {},
   "outputs": [],
   "source": [
    "churn_rate = churn_valcount.mean()"
   ]
  },
  {
   "cell_type": "code",
   "execution_count": null,
   "id": "d31148e8",
   "metadata": {},
   "outputs": [],
   "source": [
    "churn_rate"
   ]
  },
  {
   "cell_type": "code",
   "execution_count": null,
   "id": "ed0a7f92",
   "metadata": {},
   "outputs": [],
   "source": [
    "plt.title(\"Does having tech support affect customer churn rates?\")\n",
    "sns.countplot(x=\"tech_support_Yes\", hue=\"churn\", data=train)\n",
    "churn_rate = churn_valcount.mean()\n",
    "plt.legend()\n",
    "plt.show()\n"
   ]
  },
  {
   "cell_type": "code",
   "execution_count": null,
   "id": "bb68a592",
   "metadata": {},
   "outputs": [],
   "source": [
    "plt.title(\"Does payment type affect customer churn rates?\")\n",
    "sns.countplot(x=\"payment_type\", hue=\"churn\", data=train)\n",
    "churn_rate = churn_valcount.mean()\n",
    "plt.legend()\n",
    "plt.show()\n",
    "#After seeing this, I wondered why the electronic check had such a higher churn rate."
   ]
  },
  {
   "cell_type": "code",
   "execution_count": null,
   "id": "a9c27119",
   "metadata": {},
   "outputs": [],
   "source": [
    "plt.title(\"Does being a senior citizen affect customer churn rates?\")\n",
    "sns.countplot(x=\"senior_citizen\", hue=\"churn\", data=train)\n",
    "churn_rate = churn_valcount.mean()\n",
    "plt.legend()\n",
    "plt.show()"
   ]
  },
  {
   "cell_type": "code",
   "execution_count": null,
   "id": "c76f8f52",
   "metadata": {},
   "outputs": [],
   "source": [
    "plt.title(\"Does contract type affect customer churn rates?\")\n",
    "sns.countplot(x=\"contract_type\", hue=\"churn\", data=train)\n",
    "churn_rate = churn_valcount.mean()\n",
    "plt.legend()\n",
    "plt.show()\n",
    "#This is the best visual of the 4 questions, so far."
   ]
  },
  {
   "cell_type": "code",
   "execution_count": null,
   "id": "b94aab81",
   "metadata": {},
   "outputs": [],
   "source": [
    "y_train[:5]\n"
   ]
  },
  {
   "cell_type": "code",
   "execution_count": null,
   "id": "7865bda7",
   "metadata": {},
   "outputs": [],
   "source": [
    "X_train.shape, X_validate.shape, X_test.shape"
   ]
  },
  {
   "cell_type": "code",
   "execution_count": null,
   "id": "4c8c6fce",
   "metadata": {},
   "outputs": [],
   "source": [
    "y_train.shape, y_validate.shape, y_test.shape"
   ]
  },
  {
   "cell_type": "markdown",
   "id": "9dd81b45",
   "metadata": {},
   "source": [
    "1. What is your baseline prediction? What is your baseline accuracy? remember: your baseline prediction for a classification problem is predicting the most prevelant class in the training dataset (the mode). When you make those predictions, what is your accuracy? This is your baseline accuracy.¶"
   ]
  },
  {
   "cell_type": "code",
   "execution_count": null,
   "id": "9c9ba3ae",
   "metadata": {},
   "outputs": [],
   "source": [
    "y_train[0:10]\n"
   ]
  },
  {
   "cell_type": "code",
   "execution_count": null,
   "id": "0c588258",
   "metadata": {},
   "outputs": [],
   "source": [
    "y_train.value_counts()\n"
   ]
  },
  {
   "cell_type": "code",
   "execution_count": null,
   "id": "a1d3a155",
   "metadata": {},
   "outputs": [],
   "source": [
    "# The mode is a great baseline\n",
    "baseline = y_train.mode()\n",
    "\n",
    "# Produce a boolean array with True representing a match between the baseline prediction and reality\n",
    "matches_baseline_prediction = (y_train == 0)\n",
    "\n",
    "baseline_accuracy = matches_baseline_prediction.mean()\n",
    "print(f\"Baseline accuracy: {round(baseline_accuracy, 2)}\")"
   ]
  },
  {
   "cell_type": "code",
   "execution_count": null,
   "id": "c42f0dbe",
   "metadata": {},
   "outputs": [],
   "source": []
  },
  {
   "cell_type": "raw",
   "id": "5f1eaad1",
   "metadata": {},
   "source": [
    "Are sr. citizens (is_senior_citizen, boolean) more likely to churn (has_churned, boolean)? (boolean x boolean: comparison of proportions/relationships)"
   ]
  },
  {
   "cell_type": "raw",
   "id": "05ca68ef",
   "metadata": {},
   "source": [
    "Are customers without autopayment (has_autopayment, boolean) more likely to churn (has_churned, boolean)? (boolean x boolean: comparison of proportions/relationships)\n",
    "\n"
   ]
  },
  {
   "cell_type": "raw",
   "id": "e9585809",
   "metadata": {},
   "source": [
    "Is there a linear relationship between tenure (tenure_months, numeric) and average monthly charges (avg_monthly_charges, numeric)? (numeric x numeric: linear correlation between two continuous values, does one affect the other. (pearson's correlation))\n",
    "\n"
   ]
  },
  {
   "cell_type": "code",
   "execution_count": null,
   "id": "8773736b",
   "metadata": {},
   "outputs": [],
   "source": [
    "# Run a chi squared to compare proportions to verify the visualization \n",
    "alpha = 0.05\n",
    "null_hypothesis = \"There is not a relationship between churn and payment type.\"\n",
    "alternative_hypothesis = \"There is a relationship between churn and payment type.\"\n",
    "\n",
    "# Setup a crosstab of observed churn and tech support\n",
    "observed = pd.crosstab(train.churn, train.payment_type)\n",
    "\n",
    "chi2, p, degf, expected = stats.chi2_contingency(observed)\n",
    "\n",
    "if p < alpha:\n",
    "    print(\"Reject the null hypothesis that\", null_hypothesis)\n",
    "    print(\"Sufficient evidence to move forward understanding that.\", alternative_hypothesis)\n",
    "else:\n",
    "    print(\"Fail to reject the null\")\n",
    "    print(\"Insufficient evidence to reject the null.\")\n",
    "\n",
    "p"
   ]
  },
  {
   "cell_type": "code",
   "execution_count": null,
   "id": "d9933eca",
   "metadata": {},
   "outputs": [],
   "source": [
    "# Run a chi squared to compare proportions to verify the visualization \n",
    "alpha = 0.05\n",
    "null_hypothesis = \"There is not a relationship between churn and senior citizens.\"\n",
    "alternative_hypothesis = \"There is a relationship between churn and senior citizens.\"\n",
    "\n",
    "# Setup a crosstab of observed churn and tech support\n",
    "observed = pd.crosstab(train.churn, train.senior_citizen)\n",
    "\n",
    "chi2, p, degf, expected = stats.chi2_contingency(observed)\n",
    "\n",
    "if p < alpha:\n",
    "    print(\"Reject the null hypothesis that\", null_hypothesis)\n",
    "    print(\"Sufficient evidence to move forward understanding that\", alternative_hypothesis)\n",
    "else:\n",
    "    print(\"Fail to reject the null\")\n",
    "    print(\"Insufficient evidence to reject the null.\")\n",
    "\n",
    "p"
   ]
  },
  {
   "cell_type": "code",
   "execution_count": null,
   "id": "661e1a0a",
   "metadata": {},
   "outputs": [],
   "source": [
    "# Run a chi squared to compare proportions to verify the visualization \n",
    "alpha = 0.05\n",
    "null_hypothesis = \"There is not a relationship between churn and contract type.\"\n",
    "alternative_hypothesis = \"There is a relationship between churn and contract type.\"\n",
    "\n",
    "# Setup a crosstab of observed churn and tech support\n",
    "observed = pd.crosstab(train.churn, train.contract_type)\n",
    "\n",
    "chi2, p, degf, expected = stats.chi2_contingency(observed)\n",
    "\n",
    "if p < alpha:\n",
    "    print(\"Reject the null hypothesis that\", null_hypothesis)\n",
    "    print(\"Sufficient evidence to move forward understanding that\", alternative_hypothesis)\n",
    "else:\n",
    "    print(\"Fail to reject the null\")\n",
    "    print(\"Insufficient evidence to reject the null.\")\n",
    "\n",
    "p"
   ]
  },
  {
   "cell_type": "code",
   "execution_count": null,
   "id": "198705b9",
   "metadata": {},
   "outputs": [],
   "source": [
    "# take a look at the results\n",
    "X_train.head()"
   ]
  },
  {
   "cell_type": "code",
   "execution_count": null,
   "id": "870649b4",
   "metadata": {},
   "outputs": [],
   "source": []
  },
  {
   "cell_type": "code",
   "execution_count": null,
   "id": "fadf162a",
   "metadata": {},
   "outputs": [],
   "source": [
    "print('Is there a relationship between payment_type_Bank transfer and churn?')\n",
    "pd.crosstab(X_train.payment_type, y_train, normalize='index').style.background_gradient(cmap='Greens')"
   ]
  },
  {
   "cell_type": "code",
   "execution_count": null,
   "id": "30b2f6d3",
   "metadata": {},
   "outputs": [],
   "source": [
    "print('Is there a relationship between being a senior citizen and churn?')\n",
    "pd.crosstab(X_train.senior_citizen, y_train, normalize='index').style.background_gradient(cmap='Greens')"
   ]
  },
  {
   "cell_type": "code",
   "execution_count": null,
   "id": "48cdeeea",
   "metadata": {},
   "outputs": [],
   "source": [
    "print('Is there a relationship between contract type and churn?')\n",
    "pd.crosstab(X_train.contract_type, y_train, normalize='index').style.background_gradient(cmap='Greens')"
   ]
  },
  {
   "cell_type": "code",
   "execution_count": null,
   "id": "a7262e1f",
   "metadata": {},
   "outputs": [],
   "source": [
    "print('Is there a relationship between auto payments vs manual payments and churn?')\n",
    "pd.crosstab(X_train.payment_type_Mailed check, y_train, normalize='index').style.background_gradient(cmap='Greens')"
   ]
  },
  {
   "cell_type": "code",
   "execution_count": null,
   "id": "633d54fd",
   "metadata": {},
   "outputs": [],
   "source": []
  },
  {
   "cell_type": "code",
   "execution_count": null,
   "id": "ff8a951a",
   "metadata": {},
   "outputs": [],
   "source": [
    "sns.boxplot(data=train, y='monthly_charges', x='churn')\n",
    "plt.title('Do customers that churn pay more per month?')\n",
    "plt.show()\n"
   ]
  },
  {
   "cell_type": "code",
   "execution_count": null,
   "id": "d23ae21b",
   "metadata": {},
   "outputs": [],
   "source": [
    "pd.crosstab(train.gender, train.churn, normalize='index').plot.bar(stacked=False)\n",
    "plt.gca().yaxis.set_major_formatter('{:.0%}'.format)\n",
    "plt.xticks(rotation=0)\n",
    "plt.title('IS there a difference in gender between churners and non-churners?')\n",
    "plt.show()\n"
   ]
  },
  {
   "cell_type": "raw",
   "id": "971b8f6b",
   "metadata": {},
   "source": [
    "FEATURE ENGINEERING\n",
    "Based on the results of our exploration, we'll use monthly charges and whether or not a customer is on a month-to-month contract as our features.\n",
    "\n",
    "To do so, we'll convert the contract-type feature to a 1 or 0 for whether or not the customer is on a month to month contract.\n",
    "\n",
    "\n"
   ]
  },
  {
   "cell_type": "code",
   "execution_count": null,
   "id": "a5a1a269",
   "metadata": {},
   "outputs": [],
   "source": [
    "df['month_to_month_contract'] = (df.contract_type == 'Month-to-month').astype(int)\n",
    "\n",
    "# Recreate splits since a new column was added\n",
    "X = df.drop(columns=['churn'])\n",
    "y = df.churn\n",
    "X_train, X_test, y_train, y_test = train_test_split(X, y, train_size=.7, random_state=123)\n"
   ]
  },
  {
   "cell_type": "code",
   "execution_count": null,
   "id": "4f5b3579",
   "metadata": {},
   "outputs": [],
   "source": [
    "features = ['monthly_charges', 'month_to_month_contract']\n"
   ]
  },
  {
   "cell_type": "code",
   "execution_count": null,
   "id": "1974d18b",
   "metadata": {},
   "outputs": [],
   "source": [
    "X_train[features].head()"
   ]
  },
  {
   "cell_type": "code",
   "execution_count": null,
   "id": "074cb26b",
   "metadata": {},
   "outputs": [],
   "source": []
  },
  {
   "cell_type": "code",
   "execution_count": null,
   "id": "57848144",
   "metadata": {},
   "outputs": [],
   "source": [
    "senior = train['senior_citizen'].value_counts()\n",
    "senior"
   ]
  },
  {
   "cell_type": "code",
   "execution_count": null,
   "id": "febda907",
   "metadata": {},
   "outputs": [],
   "source": [
    "churned = train['churn_encoded'].value_counts()\n",
    "churned"
   ]
  },
  {
   "cell_type": "code",
   "execution_count": null,
   "id": "186a7976",
   "metadata": {},
   "outputs": [],
   "source": [
    "tech = train['tech_support'].value_counts()\n",
    "tech"
   ]
  },
  {
   "cell_type": "code",
   "execution_count": null,
   "id": "649ca08e",
   "metadata": {},
   "outputs": [],
   "source": [
    "one_year = train['contract_type_One year'].value_counts()\n",
    "one_year"
   ]
  },
  {
   "cell_type": "code",
   "execution_count": null,
   "id": "e6949c72",
   "metadata": {},
   "outputs": [],
   "source": [
    "two_year= train['contract_type_Two year'].value_counts()\n",
    "two_year"
   ]
  },
  {
   "cell_type": "code",
   "execution_count": null,
   "id": "13c5d426",
   "metadata": {},
   "outputs": [],
   "source": [
    "monthly = train['contract_type_Month-to-month'].value_counts()\n",
    "monthly"
   ]
  },
  {
   "cell_type": "code",
   "execution_count": null,
   "id": "7dcecb8a",
   "metadata": {},
   "outputs": [],
   "source": [
    "# Used chi squared to compare proportions result\n",
    "alpha = 0.05\n",
    "null_hypothesis = \"There is not a relationship between churn and tech support.\"\n",
    "alternative_hypothesis = \"There is a relationship between churn and tech support.\"\n",
    "\n",
    "# Setup a crosstab of observed churn and tech support\n",
    "observed = pd.crosstab(train.churn, train.tech_support_Yes)\n",
    "\n",
    "chi2, p, degf, expected = stats.chi2_contingency(observed)\n",
    "\n",
    "if p < alpha:\n",
    "    print(\"Reject the null hypothesis that\", null_hypothesis)\n",
    "    print(\"Sufficient evidence to move forward understanding that.\", alternative_hypothesis)\n",
    "else:\n",
    "    print(\"Fail to reject the null\")\n",
    "    print(\"Insufficient evidence to reject the null.\")\n",
    "\n",
    "p"
   ]
  },
  {
   "cell_type": "code",
   "execution_count": null,
   "id": "ae402524",
   "metadata": {},
   "outputs": [],
   "source": [
    "transfer = train['payment_type_Bank transfer (automatic)'].value_counts()\n",
    "transfer"
   ]
  },
  {
   "cell_type": "code",
   "execution_count": null,
   "id": "81cbda34",
   "metadata": {},
   "outputs": [],
   "source": [
    "credit = train['payment_type_Credit card (automatic)'].value_counts()\n",
    "credit"
   ]
  },
  {
   "cell_type": "code",
   "execution_count": null,
   "id": "91630cdd",
   "metadata": {},
   "outputs": [],
   "source": [
    "electronic = train['payment_type_Electronic check'].value_counts()\n",
    "electronic"
   ]
  },
  {
   "cell_type": "code",
   "execution_count": null,
   "id": "e806a3f6",
   "metadata": {},
   "outputs": [],
   "source": [
    "mailed = train['payment_type_Mailed check'].value_counts()\n",
    "mailed"
   ]
  },
  {
   "cell_type": "code",
   "execution_count": null,
   "id": "51b6c711",
   "metadata": {},
   "outputs": [],
   "source": [
    "auto = transfer[1] + credit[1]\n",
    "auto"
   ]
  },
  {
   "cell_type": "code",
   "execution_count": null,
   "id": "f42af715",
   "metadata": {},
   "outputs": [],
   "source": [
    "check = electronic[1] + mailed[1]\n",
    "check"
   ]
  },
  {
   "cell_type": "code",
   "execution_count": null,
   "id": "e865320a",
   "metadata": {},
   "outputs": [],
   "source": []
  },
  {
   "cell_type": "code",
   "execution_count": null,
   "id": "ea81ed56",
   "metadata": {},
   "outputs": [],
   "source": []
  },
  {
   "cell_type": "code",
   "execution_count": null,
   "id": "8c6020db",
   "metadata": {},
   "outputs": [],
   "source": []
  },
  {
   "cell_type": "raw",
   "id": "6228942b",
   "metadata": {},
   "source": [
    "Modeling\n",
    "\n",
    "# DecisionTreeClassifier?"
   ]
  },
  {
   "cell_type": "code",
   "execution_count": null,
   "id": "9db55773",
   "metadata": {},
   "outputs": [],
   "source": [
    "#We'll create several different models and compare their performance.\n",
    "\n",
    "\n",
    "model1 = DecisionTreeClassifier(max_depth=2)\n",
    "model1.fit(X_train[features], y_train)\n",
    "accuracy = model1.score(X_validate[features], y_validate)\n",
    "print(f'Model 1 Accuracy: {accuracy:.2%}')"
   ]
  },
  {
   "cell_type": "code",
   "execution_count": null,
   "id": "fb079bb8",
   "metadata": {},
   "outputs": [],
   "source": [
    "plt.figure(figsize=(13, 7))\n",
    "plot_tree(model1, feature_names=features, class_names=['No Churn', 'Churn'])\n",
    "plt.show()\n"
   ]
  },
  {
   "cell_type": "code",
   "execution_count": null,
   "id": "54f5ccb6",
   "metadata": {},
   "outputs": [],
   "source": [
    "Model2 = DecisionTreeClassifier(max_depth=3)\n",
    "model2.fit(X_train[features], y_train)\n",
    "accuracy = model2.score(X_validate[features], y_validate)\n",
    "print(f'Model 2 Accuracy: {accuracy:.2%}')"
   ]
  },
  {
   "cell_type": "code",
   "execution_count": null,
   "id": "c60cca66",
   "metadata": {},
   "outputs": [],
   "source": [
    "model3 = DecisionTreeClassifier(max_depth=4)\n",
    "model3.fit(X_train[features], y_train)\n",
    "accuracy = model3.score(X_validate[features], y_validate)\n",
    "print(f'Model 3 Accuracy: {accuracy:.2%}')\n"
   ]
  },
  {
   "cell_type": "code",
   "execution_count": null,
   "id": "93803c22",
   "metadata": {},
   "outputs": [],
   "source": []
  },
  {
   "cell_type": "code",
   "execution_count": null,
   "id": "18f76226",
   "metadata": {},
   "outputs": [],
   "source": []
  },
  {
   "cell_type": "markdown",
   "id": "incorrect-mailman",
   "metadata": {},
   "source": [
    "## You may use this as a template for how to ask and answer each question:"
   ]
  },
  {
   "cell_type": "markdown",
   "id": "overhead-sleep",
   "metadata": {},
   "source": [
    "### 1) Question about the data\n",
    "* Ask a question about the data for which you got a meaningful result\n",
    "* There is no connection can be a meaningful result\n",
    "\n",
    "### 2) Visualization of the data answering the question\n",
    "\n",
    "* Visualizations should be accompanied by take-aways telling the reader exactly what you want them to get from the chart\n",
    "* You can include theses as bullet points under the chart\n",
    "* Use your chart title to provide the main take-away from each visualization\n",
    "* Each visualization should answer one, and only one, of the explore questions\n",
    "\n",
    "### 3) Statistical test\n",
    "* Be sure you are using the correct statistical test for the type of variables you are testing\n",
    "* Be sure that you are not violating any of the assumptions for the statistical test you are choosing\n",
    "* Your notebook should run and produce the results of the test you are using (This may be done through imports)\n",
    "* Include an introduction to the kind of test you are doing\n",
    "* Include the Ho and Ha for the test\n",
    "* Include the alpha you are using\n",
    "* Include the readout of the p-value for the test\n",
    "* Interpret the results of the test in natural language (I reject the null hypothesis is not sufficient)\n",
    "\n",
    "### 4) Answer to the question\n",
    "* Answer the question you posed of the data by referring to the chart and statistical test (if you used one)\n",
    "* If the question relates to drivers, explain why the feature in question would/wouldn't make a good driver"
   ]
  },
  {
   "cell_type": "markdown",
   "id": "iraqi-sellers",
   "metadata": {},
   "source": [
    "## Exploration Summary\n",
    "* After your explore section, before you start modeling, provide a summary of your findings in Explore\n",
    "* Include a summary of your take-aways\n",
    "* Include a summary of the features you examined and weather or not you will be going to Modeling with each feature and why\n",
    "* It is important to note which features will be going into your model so the reader knows what features you are using to model on"
   ]
  },
  {
   "cell_type": "markdown",
   "id": "minus-tulsa",
   "metadata": {},
   "source": [
    "## Modeling"
   ]
  },
  {
   "cell_type": "markdown",
   "id": "hydraulic-spectrum",
   "metadata": {},
   "source": [
    "### Introduction\n",
    "* Explain how you will be evaluating your models\n",
    "* Include the evaluation metric you will be using and why you have chosen it\n",
    "* Create a baseline and briefly explain how it was calculated "
   ]
  },
  {
   "cell_type": "code",
   "execution_count": null,
   "id": "ranging-rebecca",
   "metadata": {},
   "outputs": [],
   "source": [
    "# If you use code to generate your baseline run the code and generate the output here"
   ]
  },
  {
   "cell_type": "markdown",
   "id": "thick-dream",
   "metadata": {},
   "source": [
    "Printout should read: <br>\n",
    "Baseline: \"number\" \"evaluation metric\""
   ]
  },
  {
   "cell_type": "markdown",
   "id": "emotional-purchase",
   "metadata": {},
   "source": [
    "### Best 3 Models\n",
    "* Show the three best model results obtained using your selected features to predict the target variable\n",
    "* Typically students will show the top models they are able to generate for three different model types"
   ]
  },
  {
   "cell_type": "markdown",
   "id": "gentle-capability",
   "metadata": {},
   "source": [
    "## You may use this as a template for how to introduce your models:"
   ]
  },
  {
   "cell_type": "markdown",
   "id": "intensive-vietnamese",
   "metadata": {},
   "source": [
    "### Model Type"
   ]
  },
  {
   "cell_type": "code",
   "execution_count": null,
   "id": "colonial-newport",
   "metadata": {},
   "outputs": [],
   "source": [
    "# Code that runs the best model in that model type goes here \n",
    "# (This may be imported from a module)"
   ]
  },
  {
   "cell_type": "markdown",
   "id": "distinguished-abuse",
   "metadata": {},
   "source": [
    "Printout of model code should read: <br>\n",
    "\"Model Type\" <br>\n",
    "\"evaluation metric\" on train: \"evaluation result\" <br>\n",
    "\"evaluation metric\" on validate: \"evaluation result\""
   ]
  },
  {
   "cell_type": "markdown",
   "id": "regulated-fellowship",
   "metadata": {},
   "source": [
    "### Test Model\n",
    "* Choose the best model out of the three as you best model and explain why you have chosen it\n",
    "* Explain that you will now run your final model on test data to gauge how it will perform on unseen data"
   ]
  },
  {
   "cell_type": "code",
   "execution_count": null,
   "id": "optical-quilt",
   "metadata": {},
   "outputs": [],
   "source": [
    "# Code that runs the best overall model on test data (this may be imported from a module)"
   ]
  },
  {
   "cell_type": "markdown",
   "id": "motivated-recycling",
   "metadata": {},
   "source": [
    "Printout of model code should read: <br>\n",
    "\"Model Type\" <br>\n",
    "\"evaluation metric\" on Test: \"evaluation result\" <br>"
   ]
  },
  {
   "cell_type": "markdown",
   "id": "bright-evans",
   "metadata": {},
   "source": [
    "### Modeling Wrap \n",
    "* Give a final interpretation of how the models test score compares to the baseline and weather you would recommend this model for production"
   ]
  }
 ],
 "metadata": {
  "kernelspec": {
   "display_name": "Python 3 (ipykernel)",
   "language": "python",
   "name": "python3"
  },
  "language_info": {
   "codemirror_mode": {
    "name": "ipython",
    "version": 3
   },
   "file_extension": ".py",
   "mimetype": "text/x-python",
   "name": "python",
   "nbconvert_exporter": "python",
   "pygments_lexer": "ipython3",
   "version": "3.9.12"
  }
 },
 "nbformat": 4,
 "nbformat_minor": 5
}
