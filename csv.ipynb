{
 "cells": [
  {
   "cell_type": "code",
   "execution_count": null,
   "id": "bc71fc8e",
   "metadata": {},
   "outputs": [],
   "source": [
    "cust_id = test.customer_id\n",
    "drivers = ['churn_encoded', 'tech_support']\n",
    "X_train, y_train, X_validate, y_validate, X_test, y_test = m.prep_for_model(train, validate, test, \"churn_encoded\", drivers)"
   ]
  },
  {
   "cell_type": "code",
   "execution_count": null,
   "id": "7f9bf962",
   "metadata": {},
   "outputs": [],
   "source": [
    "# Produce y_predictions that come from the X_test\n",
    "y_predictions = tree2.predict(X_test)\n",
    "\n",
    "# Compare actual y values (from validate) to predicted y_values from the model run on X_validate\n",
    "print(classification_report(y_test, y_predictions))\n"
   ]
  },
  {
   "cell_type": "code",
   "execution_count": null,
   "id": "18be7375",
   "metadata": {},
   "outputs": [],
   "source": [
    "y_pred_proba = tree2.predict_proba(X_test)\n",
    "y_pred_proba[0:5]\n"
   ]
  },
  {
   "cell_type": "code",
   "execution_count": null,
   "id": "a9beb40e",
   "metadata": {},
   "outputs": [],
   "source": [
    "predictions = tree2.predict(X_test)\n",
    "probabilities = tree2.predict_proba(X_test)[:,1]\n",
    "probabilities, predictions"
   ]
  },
  {
   "cell_type": "code",
   "execution_count": null,
   "id": "ba9ccd25",
   "metadata": {},
   "outputs": [],
   "source": [
    "final_csv = pd.DataFrame({'customer_id':customer_id, \n",
    "                     'prob_of_churn':probabilities, \n",
    "                     'pred_of_churn':predictions})\n",
    "final_csv.to_csv('predictions.csv', index=False)"
   ]
  }
 ],
 "metadata": {
  "kernelspec": {
   "display_name": "Python 3 (ipykernel)",
   "language": "python",
   "name": "python3"
  },
  "language_info": {
   "codemirror_mode": {
    "name": "ipython",
    "version": 3
   },
   "file_extension": ".py",
   "mimetype": "text/x-python",
   "name": "python",
   "nbconvert_exporter": "python",
   "pygments_lexer": "ipython3",
   "version": "3.9.12"
  }
 },
 "nbformat": 4,
 "nbformat_minor": 5
}
