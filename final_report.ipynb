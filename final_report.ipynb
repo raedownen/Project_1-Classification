{
 "cells": [
  {
   "cell_type": "code",
   "execution_count": 1,
   "id": "e1008471",
   "metadata": {},
   "outputs": [],
   "source": [
    "import pandas as pd\n",
    "import numpy as np\n",
    "import os\n",
    "from sklearn.metrics import confusion_matrix\n",
    "import env\n",
    "import seaborn as sns\n",
    "import matplotlib.pyplot as plt\n",
    "from scipy import stats\n",
    "from sklearn.model_selection import train_test_split\n",
    "from sklearn.tree import DecisionTreeClassifier, plot_tree, export_text\n",
    "from sklearn.metrics import classification_report, confusion_matrix, plot_confusion_matrix\n",
    "import re\n",
    "import telco_wrangle as tw\n",
    "# turn off pink warning boxes\n",
    "import warnings\n",
    "warnings.filterwarnings(\"ignore\")"
   ]
  },
  {
   "cell_type": "markdown",
   "id": "7fdefc9d",
   "metadata": {},
   "source": [
    "# Telco Churn and You\n",
    "\n",
    "### Project Description:  Using data acquired from CodeUp’s database, Telco Churn.Working through the data science pipeline, I will try find if the various elements have anything to do with whether a customer stop being a customer.\n",
    "\n",
    "### Project Goal: Navigate the data science pipeline.  Ask questions to see if whether a customer churns. Using the data to answer the questions.\n",
    "\n",
    "### Initial Thoughts: My initial hypothesis is that one of the 4 variables will be an indicator of churn.  It is just a matter of completing the manipulation of data."
   ]
  },
  {
   "cell_type": "markdown",
   "id": "49d564ff",
   "metadata": {},
   "source": [
    "# Acquire"
   ]
  },
  {
   "cell_type": "code",
   "execution_count": 2,
   "id": "95fd4ce5",
   "metadata": {},
   "outputs": [
    {
     "data": {
      "text/html": [
       "<div>\n",
       "<style scoped>\n",
       "    .dataframe tbody tr th:only-of-type {\n",
       "        vertical-align: middle;\n",
       "    }\n",
       "\n",
       "    .dataframe tbody tr th {\n",
       "        vertical-align: top;\n",
       "    }\n",
       "\n",
       "    .dataframe thead th {\n",
       "        text-align: right;\n",
       "    }\n",
       "</style>\n",
       "<table border=\"1\" class=\"dataframe\">\n",
       "  <thead>\n",
       "    <tr style=\"text-align: right;\">\n",
       "      <th></th>\n",
       "      <th>payment_type_id</th>\n",
       "      <th>internet_service_type_id</th>\n",
       "      <th>contract_type_id</th>\n",
       "      <th>customer_id</th>\n",
       "      <th>gender</th>\n",
       "      <th>senior_citizen</th>\n",
       "      <th>partner</th>\n",
       "      <th>dependents</th>\n",
       "      <th>tenure</th>\n",
       "      <th>phone_service</th>\n",
       "      <th>...</th>\n",
       "      <th>tech_support</th>\n",
       "      <th>streaming_tv</th>\n",
       "      <th>streaming_movies</th>\n",
       "      <th>paperless_billing</th>\n",
       "      <th>monthly_charges</th>\n",
       "      <th>total_charges</th>\n",
       "      <th>churn</th>\n",
       "      <th>contract_type</th>\n",
       "      <th>internet_service_type</th>\n",
       "      <th>payment_type</th>\n",
       "    </tr>\n",
       "  </thead>\n",
       "  <tbody>\n",
       "    <tr>\n",
       "      <th>0</th>\n",
       "      <td>2</td>\n",
       "      <td>1</td>\n",
       "      <td>2</td>\n",
       "      <td>0002-ORFBO</td>\n",
       "      <td>Female</td>\n",
       "      <td>0</td>\n",
       "      <td>Yes</td>\n",
       "      <td>Yes</td>\n",
       "      <td>9</td>\n",
       "      <td>Yes</td>\n",
       "      <td>...</td>\n",
       "      <td>Yes</td>\n",
       "      <td>Yes</td>\n",
       "      <td>No</td>\n",
       "      <td>Yes</td>\n",
       "      <td>65.6</td>\n",
       "      <td>593.3</td>\n",
       "      <td>No</td>\n",
       "      <td>One year</td>\n",
       "      <td>DSL</td>\n",
       "      <td>Mailed check</td>\n",
       "    </tr>\n",
       "    <tr>\n",
       "      <th>1</th>\n",
       "      <td>2</td>\n",
       "      <td>1</td>\n",
       "      <td>1</td>\n",
       "      <td>0003-MKNFE</td>\n",
       "      <td>Male</td>\n",
       "      <td>0</td>\n",
       "      <td>No</td>\n",
       "      <td>No</td>\n",
       "      <td>9</td>\n",
       "      <td>Yes</td>\n",
       "      <td>...</td>\n",
       "      <td>No</td>\n",
       "      <td>No</td>\n",
       "      <td>Yes</td>\n",
       "      <td>No</td>\n",
       "      <td>59.9</td>\n",
       "      <td>542.4</td>\n",
       "      <td>No</td>\n",
       "      <td>Month-to-month</td>\n",
       "      <td>DSL</td>\n",
       "      <td>Mailed check</td>\n",
       "    </tr>\n",
       "    <tr>\n",
       "      <th>2</th>\n",
       "      <td>1</td>\n",
       "      <td>2</td>\n",
       "      <td>1</td>\n",
       "      <td>0004-TLHLJ</td>\n",
       "      <td>Male</td>\n",
       "      <td>0</td>\n",
       "      <td>No</td>\n",
       "      <td>No</td>\n",
       "      <td>4</td>\n",
       "      <td>Yes</td>\n",
       "      <td>...</td>\n",
       "      <td>No</td>\n",
       "      <td>No</td>\n",
       "      <td>No</td>\n",
       "      <td>Yes</td>\n",
       "      <td>73.9</td>\n",
       "      <td>280.85</td>\n",
       "      <td>Yes</td>\n",
       "      <td>Month-to-month</td>\n",
       "      <td>Fiber optic</td>\n",
       "      <td>Electronic check</td>\n",
       "    </tr>\n",
       "    <tr>\n",
       "      <th>3</th>\n",
       "      <td>1</td>\n",
       "      <td>2</td>\n",
       "      <td>1</td>\n",
       "      <td>0011-IGKFF</td>\n",
       "      <td>Male</td>\n",
       "      <td>1</td>\n",
       "      <td>Yes</td>\n",
       "      <td>No</td>\n",
       "      <td>13</td>\n",
       "      <td>Yes</td>\n",
       "      <td>...</td>\n",
       "      <td>No</td>\n",
       "      <td>Yes</td>\n",
       "      <td>Yes</td>\n",
       "      <td>Yes</td>\n",
       "      <td>98.0</td>\n",
       "      <td>1237.85</td>\n",
       "      <td>Yes</td>\n",
       "      <td>Month-to-month</td>\n",
       "      <td>Fiber optic</td>\n",
       "      <td>Electronic check</td>\n",
       "    </tr>\n",
       "    <tr>\n",
       "      <th>4</th>\n",
       "      <td>2</td>\n",
       "      <td>2</td>\n",
       "      <td>1</td>\n",
       "      <td>0013-EXCHZ</td>\n",
       "      <td>Female</td>\n",
       "      <td>1</td>\n",
       "      <td>Yes</td>\n",
       "      <td>No</td>\n",
       "      <td>3</td>\n",
       "      <td>Yes</td>\n",
       "      <td>...</td>\n",
       "      <td>Yes</td>\n",
       "      <td>Yes</td>\n",
       "      <td>No</td>\n",
       "      <td>Yes</td>\n",
       "      <td>83.9</td>\n",
       "      <td>267.4</td>\n",
       "      <td>Yes</td>\n",
       "      <td>Month-to-month</td>\n",
       "      <td>Fiber optic</td>\n",
       "      <td>Mailed check</td>\n",
       "    </tr>\n",
       "  </tbody>\n",
       "</table>\n",
       "<p>5 rows × 24 columns</p>\n",
       "</div>"
      ],
      "text/plain": [
       "   payment_type_id  internet_service_type_id  contract_type_id customer_id  \\\n",
       "0                2                         1                 2  0002-ORFBO   \n",
       "1                2                         1                 1  0003-MKNFE   \n",
       "2                1                         2                 1  0004-TLHLJ   \n",
       "3                1                         2                 1  0011-IGKFF   \n",
       "4                2                         2                 1  0013-EXCHZ   \n",
       "\n",
       "   gender  senior_citizen partner dependents  tenure phone_service  ...  \\\n",
       "0  Female               0     Yes        Yes       9           Yes  ...   \n",
       "1    Male               0      No         No       9           Yes  ...   \n",
       "2    Male               0      No         No       4           Yes  ...   \n",
       "3    Male               1     Yes         No      13           Yes  ...   \n",
       "4  Female               1     Yes         No       3           Yes  ...   \n",
       "\n",
       "  tech_support streaming_tv streaming_movies paperless_billing  \\\n",
       "0          Yes          Yes               No               Yes   \n",
       "1           No           No              Yes                No   \n",
       "2           No           No               No               Yes   \n",
       "3           No          Yes              Yes               Yes   \n",
       "4          Yes          Yes               No               Yes   \n",
       "\n",
       "  monthly_charges total_charges churn   contract_type  internet_service_type  \\\n",
       "0            65.6         593.3    No        One year                    DSL   \n",
       "1            59.9         542.4    No  Month-to-month                    DSL   \n",
       "2            73.9        280.85   Yes  Month-to-month            Fiber optic   \n",
       "3            98.0       1237.85   Yes  Month-to-month            Fiber optic   \n",
       "4            83.9         267.4   Yes  Month-to-month            Fiber optic   \n",
       "\n",
       "       payment_type  \n",
       "0      Mailed check  \n",
       "1      Mailed check  \n",
       "2  Electronic check  \n",
       "3  Electronic check  \n",
       "4      Mailed check  \n",
       "\n",
       "[5 rows x 24 columns]"
      ]
     },
     "execution_count": 2,
     "metadata": {},
     "output_type": "execute_result"
    }
   ],
   "source": [
    "#retrieve data from Codeup sequel database using telco_wrangle \n",
    "df = tw.get_telco_data()\n",
    "df.head()"
   ]
  },
  {
   "cell_type": "code",
   "execution_count": 3,
   "id": "f0e6ddf8",
   "metadata": {},
   "outputs": [
    {
     "name": "stdout",
     "output_type": "stream",
     "text": [
      "<class 'pandas.core.frame.DataFrame'>\n",
      "Int64Index: 7043 entries, 0 to 7042\n",
      "Data columns (total 24 columns):\n",
      " #   Column                    Non-Null Count  Dtype  \n",
      "---  ------                    --------------  -----  \n",
      " 0   payment_type_id           7043 non-null   int64  \n",
      " 1   internet_service_type_id  7043 non-null   int64  \n",
      " 2   contract_type_id          7043 non-null   int64  \n",
      " 3   customer_id               7043 non-null   object \n",
      " 4   gender                    7043 non-null   object \n",
      " 5   senior_citizen            7043 non-null   int64  \n",
      " 6   partner                   7043 non-null   object \n",
      " 7   dependents                7043 non-null   object \n",
      " 8   tenure                    7043 non-null   int64  \n",
      " 9   phone_service             7043 non-null   object \n",
      " 10  multiple_lines            7043 non-null   object \n",
      " 11  online_security           7043 non-null   object \n",
      " 12  online_backup             7043 non-null   object \n",
      " 13  device_protection         7043 non-null   object \n",
      " 14  tech_support              7043 non-null   object \n",
      " 15  streaming_tv              7043 non-null   object \n",
      " 16  streaming_movies          7043 non-null   object \n",
      " 17  paperless_billing         7043 non-null   object \n",
      " 18  monthly_charges           7043 non-null   float64\n",
      " 19  total_charges             7043 non-null   object \n",
      " 20  churn                     7043 non-null   object \n",
      " 21  contract_type             7043 non-null   object \n",
      " 22  internet_service_type     7043 non-null   object \n",
      " 23  payment_type              7043 non-null   object \n",
      "dtypes: float64(1), int64(5), object(18)\n",
      "memory usage: 1.3+ MB\n"
     ]
    }
   ],
   "source": [
    "# use info to see column names, check for nulls, and datatype. There are 7043 rows and 24 columns\n",
    "df.info()"
   ]
  },
  {
   "cell_type": "markdown",
   "id": "9e39d406",
   "metadata": {},
   "source": [
    "# Preparation"
   ]
  },
  {
   "cell_type": "markdown",
   "id": "7dac7e15",
   "metadata": {},
   "source": [
    "### Data Preparation- \n",
    "Using the telco_wrangle file, the data was prepared by correcting data types the data types, column names, and size. Object categories were encoded to binary.  Outliers were not a concern since the data I was looking at was not continuous.\n",
    "\n",
    "### Data Splitting- \n",
    "The telco wrangle file was also used to split the data.  The data was first split into an 80% train (and validate) and 20% test.  Then the 80% was again split, so that 56% was train data and 24% was the validate data.\n"
   ]
  },
  {
   "cell_type": "code",
   "execution_count": 4,
   "id": "ee145157",
   "metadata": {},
   "outputs": [],
   "source": [
    "# split the data\n",
    "train, validate, test = tw.prep_telco_data(df)"
   ]
  },
  {
   "cell_type": "code",
   "execution_count": 5,
   "id": "9cbfd53a",
   "metadata": {},
   "outputs": [],
   "source": [
    "# create X & y version of train, where y is a series with just the target variable and X are all the features. \n",
    "\n",
    "X_train = train.drop(columns=['churn_encoded','gender', 'partner', 'dependents', 'phone_service', 'multiple_lines', 'online_security', 'online_backup', 'device_protection', 'tech_support','streaming_tv','streaming_movies','paperless_billing','churn','contract_type','internet_service_type','payment_type'])\n",
    "y_train = train.churn_encoded\n",
    "\n",
    "X_validate = validate.drop(columns=['churn_encoded','gender', 'partner', 'dependents', 'phone_service', 'multiple_lines', 'online_security', 'online_backup', 'device_protection', 'tech_support','streaming_tv','streaming_movies','paperless_billing','churn','contract_type','internet_service_type','payment_type'])\n",
    "y_validate = validate.churn_encoded\n",
    "\n",
    "X_test = test.drop(columns=['churn_encoded','gender', 'partner', 'dependents', 'phone_service', 'multiple_lines', 'online_security', 'online_backup', 'device_protection', 'tech_support','streaming_tv','streaming_movies','paperless_billing','churn','contract_type','internet_service_type','payment_type'])\n",
    "y_test = test.churn_encoded\n"
   ]
  },
  {
   "cell_type": "code",
   "execution_count": 6,
   "id": "c78b55a6",
   "metadata": {},
   "outputs": [
    {
     "name": "stdout",
     "output_type": "stream",
     "text": [
      "Baseline accuracy: 0.73\n"
     ]
    }
   ],
   "source": [
    "# The mode is a great baseline\n",
    "baseline = y_train.mode()\n",
    "\n",
    "# Produce a boolean array with True representing a match between the baseline prediction and reality\n",
    "matches_baseline_prediction = (y_train == 0)\n",
    "\n",
    "baseline_accuracy = matches_baseline_prediction.mean()\n",
    "print(f\"Baseline accuracy: {round(baseline_accuracy, 2)}\")"
   ]
  },
  {
   "cell_type": "markdown",
   "id": "f451b7a7",
   "metadata": {},
   "source": [
    "# Baseline accuracy: 0.73"
   ]
  },
  {
   "cell_type": "markdown",
   "id": "1d4b2b5e",
   "metadata": {},
   "source": [
    "## 1. Does payment type affect customer churn rates?\n",
    "#### H0: There is not a relationship between churn and payment type.\n",
    "#### HA:There is a relationship between churn and payment type."
   ]
  },
  {
   "cell_type": "code",
   "execution_count": 7,
   "id": "cc5a80eb",
   "metadata": {},
   "outputs": [
    {
     "name": "stdout",
     "output_type": "stream",
     "text": [
      "Is there a relationship between payment type and churn?\n"
     ]
    },
    {
     "data": {
      "text/plain": [
       "<AxesSubplot:xlabel='payment_type'>"
      ]
     },
     "execution_count": 7,
     "metadata": {},
     "output_type": "execute_result"
    },
    {
     "data": {
      "image/png": "[encoded data removed]",
      "text/plain": [
       "<Figure size 432x288 with 1 Axes>"
      ]
     },
     "metadata": {
      "needs_background": "light"
     },
     "output_type": "display_data"
    }
   ],
   "source": [
    "# created a cross tab to see the if payment type had an impact on churn rate.\n",
    "print('Is there a relationship between payment type and churn?')\n",
    "pd.crosstab(train.payment_type, train.churn, normalize='index').plot.bar(stacked=False)"
   ]
  },
  {
   "cell_type": "markdown",
   "id": "49759102",
   "metadata": {},
   "source": [
    "### Looking at this visualization, was interesting in that I was surprised that the payment type of electronic check was much higher than the other three.  "
   ]
  },
  {
   "cell_type": "markdown",
   "id": "478c83d1",
   "metadata": {},
   "source": [
    "#### The statistical test that I ran is the Chi Squared Test for discrete variables"
   ]
  },
  {
   "cell_type": "code",
   "execution_count": 8,
   "id": "5c02338a",
   "metadata": {},
   "outputs": [
    {
     "name": "stdout",
     "output_type": "stream",
     "text": [
      "Reject the null hypothesis that There is not a relationship between churn and payment type.\n",
      "Sufficient evidence to move forward understanding that. There is a relationship between churn and payment type.\n",
      "[[632.97993396 657.21234442 946.53263907 654.27508255]\n",
      " [229.02006604 237.78765558 342.46736093 236.72491745]]\n",
      "payment_type  Bank transfer (automatic)  Credit card (automatic)  \\\n",
      "churn                                                              \n",
      "No                                  713                      750   \n",
      "Yes                                 149                      145   \n",
      "\n",
      "payment_type  Electronic check  Mailed check  \n",
      "churn                                         \n",
      "No                         708           720  \n",
      "Yes                        581           171  \n",
      "4.64358817076333e-73\n"
     ]
    }
   ],
   "source": [
    "# Run a chi squared to compare proportions to verify the visualization \n",
    "alpha = 0.05\n",
    "null_hypothesis = \"There is not a relationship between churn and payment type.\"\n",
    "alternative_hypothesis = \"There is a relationship between churn and payment type.\"\n",
    "\n",
    "# Setup a crosstab of observed churn and tech support\n",
    "observed = pd.crosstab(train.churn, train.payment_type)\n",
    "\n",
    "chi2, p, degf, expected = stats.chi2_contingency(observed)\n",
    "\n",
    "if p < alpha:\n",
    "    print(\"Reject the null hypothesis that\", null_hypothesis)\n",
    "    print(\"Sufficient evidence to move forward understanding that.\", alternative_hypothesis)\n",
    "else:\n",
    "    print(\"Fail to reject the null\")\n",
    "    print(\"Insufficient evidence to reject the null.\")\n",
    "\n",
    "print(expected)\n",
    "print(observed)\n",
    "print(p)"
   ]
  },
  {
   "cell_type": "markdown",
   "id": "8791c9b1",
   "metadata": {},
   "source": [
    "###  The statistical test verifies that there is a relationship between churn and payment type.  "
   ]
  },
  {
   "cell_type": "markdown",
   "id": "d997e2a1",
   "metadata": {},
   "source": [
    "## 2. Does being a senior citizen affect customer churn rates?\n",
    "#### H0: There is not a relationship between churn and being a senior citizen.\n",
    "#### HA:There is a relationship between churn and being a senior citizen."
   ]
  },
  {
   "cell_type": "code",
   "execution_count": 9,
   "id": "58343c0c",
   "metadata": {},
   "outputs": [
    {
     "name": "stdout",
     "output_type": "stream",
     "text": [
      "Is there a relationship between being a senior citizen and churn?\n"
     ]
    },
    {
     "data": {
      "text/plain": [
       "<AxesSubplot:xlabel='senior_citizen'>"
      ]
     },
     "execution_count": 9,
     "metadata": {},
     "output_type": "execute_result"
    },
    {
     "data": {
      "image/png": "[encoded data removed]",
      "text/plain": [
       "<Figure size 432x288 with 1 Axes>"
      ]
     },
     "metadata": {
      "needs_background": "light"
     },
     "output_type": "display_data"
    }
   ],
   "source": [
    "# created a cross tab to see the if being a senior citizen had an impact on churn rate.\n",
    "print('Is there a relationship between being a senior citizen and churn?')\n",
    "pd.crosstab(train.senior_citizen, train.churn, normalize='index').plot.bar(stacked=False)"
   ]
  },
  {
   "cell_type": "markdown",
   "id": "02bb6d40",
   "metadata": {},
   "source": [
    "### Assuming that most senior citizens are not tech savvy, my thoughts were confirmed in this visualization."
   ]
  },
  {
   "cell_type": "markdown",
   "id": "4c7e99eb",
   "metadata": {},
   "source": [
    "#### The statistical test that I ran is the Chi Squared Test for discrete variables"
   ]
  },
  {
   "cell_type": "code",
   "execution_count": 10,
   "id": "5f4a87a2",
   "metadata": {},
   "outputs": [
    {
     "name": "stdout",
     "output_type": "stream",
     "text": [
      "Reject the null hypothesis that There is not a relationship between churn and senior citizens.\n",
      "Sufficient evidence to move forward understanding that There is a relationship between churn and senior citizens.\n",
      "[[2424.70967742  466.29032258]\n",
      " [ 877.29032258  168.70967742]]\n",
      "senior_citizen     0    1\n",
      "churn                    \n",
      "No              2527  364\n",
      "Yes              775  271\n",
      "1.7561315684822571e-23\n"
     ]
    }
   ],
   "source": [
    "# Run a chi squared to compare proportions to verify the visualization \n",
    "alpha = 0.05\n",
    "null_hypothesis = \"There is not a relationship between churn and senior citizens.\"\n",
    "alternative_hypothesis = \"There is a relationship between churn and senior citizens.\"\n",
    "\n",
    "# Setup a crosstab of observed churn and tech support\n",
    "observed = pd.crosstab(train.churn, train.senior_citizen)\n",
    "\n",
    "chi2, p, degf, expected = stats.chi2_contingency(observed)\n",
    "\n",
    "if p < alpha:\n",
    "    print(\"Reject the null hypothesis that\", null_hypothesis)\n",
    "    print(\"Sufficient evidence to move forward understanding that\", alternative_hypothesis)\n",
    "else:\n",
    "    print(\"Fail to reject the null\")\n",
    "    print(\"Insufficient evidence to reject the null.\")\n",
    "\n",
    "print(expected)\n",
    "print(observed)\n",
    "print(p)"
   ]
  },
  {
   "cell_type": "markdown",
   "id": "078d9c66",
   "metadata": {},
   "source": [
    "###  The statistical test verifies that there is a relationship between churn and payment type.  "
   ]
  },
  {
   "cell_type": "markdown",
   "id": "c39adfd3",
   "metadata": {},
   "source": [
    "## 3. Does contract type affect customer churn rates?\n",
    "#### H0: There is not a relationship between churn and being a senior citizen.\n",
    "#### HA:There is a relationship between churn and being a senior citizen."
   ]
  },
  {
   "cell_type": "code",
   "execution_count": 11,
   "id": "600728ac",
   "metadata": {},
   "outputs": [
    {
     "name": "stdout",
     "output_type": "stream",
     "text": [
      "Is there a relationship between contract type and churn?\n"
     ]
    },
    {
     "data": {
      "text/plain": [
       "<AxesSubplot:xlabel='contract_type'>"
      ]
     },
     "execution_count": 11,
     "metadata": {},
     "output_type": "execute_result"
    },
    {
     "data": {
      "image/png": "[encoded data removed]",
      "text/plain": [
       "<Figure size 432x288 with 1 Axes>"
      ]
     },
     "metadata": {
      "needs_background": "light"
     },
     "output_type": "display_data"
    }
   ],
   "source": [
    "# created a cross tab to see the if contract type had an impact on churn rate.\n",
    "print('Is there a relationship between contract type and churn?')\n",
    "pd.crosstab(train.contract_type, train.churn, normalize='index').plot.bar(stacked=False)"
   ]
  },
  {
   "cell_type": "markdown",
   "id": "b0bb42c6",
   "metadata": {},
   "source": [
    "### This visualization shows a marked difference in churn rates for the month-to-month contract."
   ]
  },
  {
   "cell_type": "code",
   "execution_count": 12,
   "id": "6a1b2bcb",
   "metadata": {},
   "outputs": [
    {
     "name": "stdout",
     "output_type": "stream",
     "text": [
      "Reject the null hypothesis that There is not a relationship between churn and contract type.\n",
      "Sufficient evidence to move forward understanding that There is a relationship between churn and contract type.\n",
      "[[1589.79298959  598.46710693  702.73990348]\n",
      " [ 575.20701041  216.53289307  254.26009652]]\n",
      "contract_type  Month-to-month  One year  Two year\n",
      "churn                                            \n",
      "No                       1238       726       927\n",
      "Yes                       927        89        30\n",
      "4.693667062132269e-145\n"
     ]
    }
   ],
   "source": [
    "# Run a chi squared to compare proportions to verify the visualization \n",
    "alpha = 0.05\n",
    "null_hypothesis = \"There is not a relationship between churn and contract type.\"\n",
    "alternative_hypothesis = \"There is a relationship between churn and contract type.\"\n",
    "\n",
    "# Setup a crosstab of observed churn and tech support\n",
    "observed = pd.crosstab(train.churn, train.contract_type)\n",
    "\n",
    "chi2, p, degf, expected = stats.chi2_contingency(observed)\n",
    "\n",
    "if p < alpha:\n",
    "    print(\"Reject the null hypothesis that\", null_hypothesis)\n",
    "    print(\"Sufficient evidence to move forward understanding that\", alternative_hypothesis)\n",
    "else:\n",
    "    print(\"Fail to reject the null\")\n",
    "    print(\"Insufficient evidence to reject the null.\")\n",
    "\n",
    "print(expected)\n",
    "print(observed)\n",
    "print(p)"
   ]
  },
  {
   "cell_type": "markdown",
   "id": "6c002690",
   "metadata": {},
   "source": [
    "###  The statistical test verifies that there is a relationship between churn and payment type.  "
   ]
  },
  {
   "cell_type": "markdown",
   "id": "d271e638",
   "metadata": {},
   "source": [
    "## 4. Does having tech support affect customer churn rates?\n",
    "#### H0: There is not a relationship between churn and having tech support.\n",
    "#### HA:There is a relationship between churn and having tech support."
   ]
  },
  {
   "cell_type": "code",
   "execution_count": 13,
   "id": "a5846931",
   "metadata": {},
   "outputs": [
    {
     "name": "stdout",
     "output_type": "stream",
     "text": [
      "Is there a relationship between having tech support and churn?\n"
     ]
    },
    {
     "data": {
      "text/plain": [
       "<AxesSubplot:xlabel='tech_support_Yes'>"
      ]
     },
     "execution_count": 13,
     "metadata": {},
     "output_type": "execute_result"
    },
    {
     "data": {
      "image/png": "[encoded data removed]",
      "text/plain": [
       "<Figure size 432x288 with 1 Axes>"
      ]
     },
     "metadata": {
      "needs_background": "light"
     },
     "output_type": "display_data"
    }
   ],
   "source": [
    "# created a cross tab to see the if having tech support had an impact on churn rate.\n",
    "print('Is there a relationship between having tech support and churn?')\n",
    "pd.crosstab(train.tech_support_Yes, train.churn, normalize='index').plot.bar(stacked=False)"
   ]
  },
  {
   "cell_type": "markdown",
   "id": "58448bdd",
   "metadata": {},
   "source": [
    "### It seems that having tech support does minimize churn."
   ]
  },
  {
   "cell_type": "markdown",
   "id": "7da0ddac",
   "metadata": {},
   "source": [
    "#### The statistical test that I ran is the Chi Squared Test for discrete variables"
   ]
  },
  {
   "cell_type": "code",
   "execution_count": 14,
   "id": "6b2f474e",
   "metadata": {},
   "outputs": [
    {
     "name": "stdout",
     "output_type": "stream",
     "text": [
      "Reject the null hypothesis that There is not a relationship between churn and tech support.\n",
      "Sufficient evidence to move forward understanding that. There is a relationship between churn and tech support.\n",
      "[[2054.61468123  836.38531877]\n",
      " [ 743.38531877  302.61468123]]\n",
      "tech_support_Yes     0    1\n",
      "churn                      \n",
      "No                1929  962\n",
      "Yes                869  177\n",
      "2.376480997030356e-23\n"
     ]
    }
   ],
   "source": [
    "# Run a chi squared to compare proportions to verify the visualization \n",
    "alpha = 0.05\n",
    "null_hypothesis = \"There is not a relationship between churn and tech support.\"\n",
    "alternative_hypothesis = \"There is a relationship between churn and tech support.\"\n",
    "\n",
    "# Setup a crosstab of observed churn and tech support\n",
    "observed = pd.crosstab(train.churn, train.tech_support_Yes)\n",
    "\n",
    "chi2, p, degf, expected = stats.chi2_contingency(observed)\n",
    "\n",
    "if p < alpha:\n",
    "    print(\"Reject the null hypothesis that\", null_hypothesis)\n",
    "    print(\"Sufficient evidence to move forward understanding that.\", alternative_hypothesis)\n",
    "else:\n",
    "    print(\"Fail to reject the null\")\n",
    "    print(\"Insufficient evidence to reject the null.\")\n",
    "print(expected)\n",
    "print(observed)\n",
    "print(p)"
   ]
  },
  {
   "cell_type": "markdown",
   "id": "048869f0",
   "metadata": {},
   "source": [
    "###  The statistical test verifies that there is a relationship between churn and payment type.  "
   ]
  },
  {
   "cell_type": "code",
   "execution_count": 15,
   "id": "b0b1fb0e",
   "metadata": {},
   "outputs": [],
   "source": [
    "# Make the model\n",
    "tree1 = DecisionTreeClassifier(max_depth=3, random_state=123)\n",
    "\n",
    "# Fit the model (on train and only train)\n",
    "tree1.fit(X_train, y_train)\n",
    "\n",
    "# Use the model\n",
    "# We'll evaluate the model's performance on train, first\n",
    "y_predictions = tree1.predict(X_train)"
   ]
  },
  {
   "cell_type": "code",
   "execution_count": 16,
   "id": "3e9372e5",
   "metadata": {},
   "outputs": [
    {
     "name": "stdout",
     "output_type": "stream",
     "text": [
      "Model 1 Accuracy: 77.31%\n"
     ]
    }
   ],
   "source": [
    "accuracy = tree1.score(X_validate, y_validate)\n",
    "print(f'Model 1 Accuracy: {accuracy:.2%}')"
   ]
  },
  {
   "cell_type": "code",
   "execution_count": 17,
   "id": "006b556f",
   "metadata": {},
   "outputs": [],
   "source": [
    "# Make the model 2\n",
    "tree2 = DecisionTreeClassifier(max_depth=4, random_state=123)\n",
    "\n",
    "# Fit the model (on train and only train)\n",
    "tree2.fit(X_train, y_train)\n",
    "\n",
    "# Use the model\n",
    "# We'll evaluate the model's performance on train, first\n",
    "y_predictions = tree2.predict(X_train)"
   ]
  },
  {
   "cell_type": "code",
   "execution_count": 18,
   "id": "6cd5bda9",
   "metadata": {},
   "outputs": [
    {
     "name": "stdout",
     "output_type": "stream",
     "text": [
      "Model 2 Accuracy: 77.73%\n"
     ]
    }
   ],
   "source": [
    "# print out the accuracy\n",
    "accuracy = tree2.score(X_validate, y_validate)\n",
    "print(f'Model 2 Accuracy: {accuracy:.2%}')"
   ]
  },
  {
   "cell_type": "code",
   "execution_count": 19,
   "id": "0f5fe95d",
   "metadata": {},
   "outputs": [],
   "source": [
    "# Make the model 3\n",
    "tree3 = DecisionTreeClassifier(max_depth=5, random_state=123)\n",
    "\n",
    "# Fit the model (on train and only train)\n",
    "tree3.fit(X_train, y_train)\n",
    "\n",
    "# Use the model\n",
    "# We'll evaluate the model's performance on train, first\n",
    "y_predictions = tree3.predict(X_train)"
   ]
  },
  {
   "cell_type": "code",
   "execution_count": 20,
   "id": "7e688d4c",
   "metadata": {},
   "outputs": [
    {
     "name": "stdout",
     "output_type": "stream",
     "text": [
      "Model 3 Accuracy: 77.37%\n"
     ]
    }
   ],
   "source": [
    "# print out accuracy\n",
    "accuracy = tree3.score(X_validate, y_validate)\n",
    "print(f'Model 3 Accuracy: {accuracy:.2%}')"
   ]
  },
  {
   "cell_type": "markdown",
   "id": "45a1762c",
   "metadata": {},
   "source": [
    "## Best Model is Tree 2"
   ]
  },
  {
   "cell_type": "markdown",
   "id": "72103fee",
   "metadata": {},
   "source": [
    "# Test It!"
   ]
  },
  {
   "cell_type": "code",
   "execution_count": 21,
   "id": "ee5a0bf8",
   "metadata": {},
   "outputs": [],
   "source": [
    "# Make the model 2\n",
    "tree2 = DecisionTreeClassifier(max_depth=4, random_state=123)\n",
    "\n",
    "# Fit the model (on train and only train)\n",
    "tree2.fit(X_test, y_test)\n",
    "\n",
    "# Use the model\n",
    "# We'll evaluate the model's performance on train, first\n",
    "y_predictions = tree2.predict(X_test)"
   ]
  },
  {
   "cell_type": "code",
   "execution_count": 22,
   "id": "94f27428",
   "metadata": {},
   "outputs": [
    {
     "name": "stdout",
     "output_type": "stream",
     "text": [
      "Model 2 Accuracy: 80.38%\n"
     ]
    }
   ],
   "source": [
    "# print out accuracy from test\n",
    "accuracy = tree2.score(X_test, y_test)\n",
    "print(f'Model 2 Accuracy: {accuracy:.2%}')"
   ]
  },
  {
   "cell_type": "code",
   "execution_count": 23,
   "id": "65010f81",
   "metadata": {},
   "outputs": [
    {
     "data": {
      "image/png": "[encoded data removed]",
      "text/plain": [
       "<Figure size 864x504 with 1 Axes>"
      ]
     },
     "metadata": {
      "needs_background": "light"
     },
     "output_type": "display_data"
    }
   ],
   "source": [
    "# display the viz\n",
    "plt.figure(figsize=(12, 7))\n",
    "plot_tree(tree2, feature_names=X_train.columns, class_names=['0','1'])\n",
    "plt.show()"
   ]
  },
  {
   "cell_type": "code",
   "execution_count": 24,
   "id": "1d53b5ab",
   "metadata": {},
   "outputs": [
    {
     "name": "stdout",
     "output_type": "stream",
     "text": [
      "              precision    recall  f1-score   support\n",
      "\n",
      "           0       0.82      0.94      0.88      1033\n",
      "           1       0.72      0.43      0.54       374\n",
      "\n",
      "    accuracy                           0.80      1407\n",
      "   macro avg       0.77      0.68      0.71      1407\n",
      "weighted avg       0.79      0.80      0.79      1407\n",
      "\n"
     ]
    }
   ],
   "source": [
    "# Accuracy isn't everything\n",
    "\n",
    "# Produce y_predictions that come from the X_test\n",
    "y_predictions = tree2.predict(X_test)\n",
    "\n",
    "# Compare actual y values (from validate) to predicted y_values from the model run on X_validate\n",
    "print(classification_report(y_test, y_predictions))\n"
   ]
  },
  {
   "cell_type": "code",
   "execution_count": 25,
   "id": "e8c5311c",
   "metadata": {},
   "outputs": [
    {
     "data": {
      "text/plain": [
       "array([[0.99224806, 0.00775194],\n",
       "       [0.99224806, 0.00775194],\n",
       "       [0.57377049, 0.42622951],\n",
       "       [0.52112676, 0.47887324],\n",
       "       [0.83703704, 0.16296296]])"
      ]
     },
     "execution_count": 25,
     "metadata": {},
     "output_type": "execute_result"
    }
   ],
   "source": [
    "y_pred_proba = tree2.predict_proba(X_test)\n",
    "y_pred_proba[0:5]\n"
   ]
  },
  {
   "cell_type": "markdown",
   "id": "e267cbe5",
   "metadata": {},
   "source": [
    "# Summary \n",
    "## Having Tech Support would probably lower churn rates with senior citizens and may help retain month-to-month contract types.\n",
    "## I would like to further evaluate why electronic checks have such a high churn rate."
   ]
  },
  {
   "cell_type": "markdown",
   "id": "a40be62d",
   "metadata": {},
   "source": [
    "# Recommendations\n",
    "## Offer Tech Support to all customers because it is vital to all customers as it is indicative of good customer service.\n"
   ]
  },
  {
   "cell_type": "markdown",
   "id": "010f8633",
   "metadata": {},
   "source": [
    "# Next Steps\n",
    "### Follow up on why the payment type, electronic check, has such a high churn rate."
   ]
  }
 ],
 "metadata": {
  "kernelspec": {
   "display_name": "Python 3 (ipykernel)",
   "language": "python",
   "name": "python3"
  },
  "language_info": {
   "codemirror_mode": {
    "name": "ipython",
    "version": 3
   },
   "file_extension": ".py",
   "mimetype": "text/x-python",
   "name": "python",
   "nbconvert_exporter": "python",
   "pygments_lexer": "ipython3",
   "version": "3.9.12"
  }
 },
 "nbformat": 4,
 "nbformat_minor": 5
}
